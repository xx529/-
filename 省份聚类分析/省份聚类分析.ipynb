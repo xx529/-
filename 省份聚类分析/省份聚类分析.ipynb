{
 "cells": [
  {
   "cell_type": "markdown",
   "metadata": {},
   "source": [
    "## 省份聚类分析"
   ]
  },
  {
   "cell_type": "code",
   "execution_count": 46,
   "metadata": {},
   "outputs": [],
   "source": [
    "import re\n",
    "import pandas as pd\n",
    "import numpy as np\n",
    "import matplotlib.pyplot as plt\n",
    "from sklearn.preprocessing import MinMaxScaler\n",
    "from sklearn.preprocessing import StandardScaler\n",
    "from sklearn.metrics import silhouette_score\n",
    "from sklearn.cluster import KMeans\n",
    "from sklearn.cluster import DBSCAN"
   ]
  },
  {
   "cell_type": "markdown",
   "metadata": {},
   "source": [
    "### 数据读取"
   ]
  },
  {
   "cell_type": "code",
   "execution_count": 2,
   "metadata": {},
   "outputs": [
    {
     "data": {
      "text/html": [
       "<div>\n",
       "<style scoped>\n",
       "    .dataframe tbody tr th:only-of-type {\n",
       "        vertical-align: middle;\n",
       "    }\n",
       "\n",
       "    .dataframe tbody tr th {\n",
       "        vertical-align: top;\n",
       "    }\n",
       "\n",
       "    .dataframe thead th {\n",
       "        text-align: right;\n",
       "    }\n",
       "</style>\n",
       "<table border=\"1\" class=\"dataframe\">\n",
       "  <thead>\n",
       "    <tr style=\"text-align: right;\">\n",
       "      <th></th>\n",
       "      <th>Province</th>\n",
       "      <th>Birth_Rate</th>\n",
       "      <th>Death_Rate</th>\n",
       "    </tr>\n",
       "  </thead>\n",
       "  <tbody>\n",
       "    <tr>\n",
       "      <th>0</th>\n",
       "      <td>北京市</td>\n",
       "      <td>9.32</td>\n",
       "      <td>5.20</td>\n",
       "    </tr>\n",
       "    <tr>\n",
       "      <th>1</th>\n",
       "      <td>天津市</td>\n",
       "      <td>7.37</td>\n",
       "      <td>5.54</td>\n",
       "    </tr>\n",
       "    <tr>\n",
       "      <th>2</th>\n",
       "      <td>河北省</td>\n",
       "      <td>12.42</td>\n",
       "      <td>6.36</td>\n",
       "    </tr>\n",
       "    <tr>\n",
       "      <th>3</th>\n",
       "      <td>山西省</td>\n",
       "      <td>10.29</td>\n",
       "      <td>5.52</td>\n",
       "    </tr>\n",
       "    <tr>\n",
       "      <th>4</th>\n",
       "      <td>内蒙古自治区</td>\n",
       "      <td>9.03</td>\n",
       "      <td>5.69</td>\n",
       "    </tr>\n",
       "  </tbody>\n",
       "</table>\n",
       "</div>"
      ],
      "text/plain": [
       "  Province  Birth_Rate  Death_Rate\n",
       "0      北京市        9.32        5.20\n",
       "1      天津市        7.37        5.54\n",
       "2      河北省       12.42        6.36\n",
       "3      山西省       10.29        5.52\n",
       "4   内蒙古自治区        9.03        5.69"
      ]
     },
     "execution_count": 2,
     "metadata": {},
     "output_type": "execute_result"
    }
   ],
   "source": [
    "df_data = pd.read_excel('./Province.xlsx')\n",
    "df_data.head()"
   ]
  },
  {
   "cell_type": "markdown",
   "metadata": {},
   "source": [
    "### 散点图概览"
   ]
  },
  {
   "cell_type": "code",
   "execution_count": 3,
   "metadata": {},
   "outputs": [
    {
     "data": {
      "image/png": "[encoded data removed]",
      "text/plain": [
       "<Figure size 1008x288 with 2 Axes>"
      ]
     },
     "metadata": {
      "needs_background": "light"
     },
     "output_type": "display_data"
    }
   ],
   "source": [
    "plt.rcParams['font.sans-serif'] = ['SimHei']\n",
    "fig, ax = plt.subplots(1,2)\n",
    "fig.set_size_inches(14,4)\n",
    "ax[0].scatter(df_data['Birth_Rate'], df_data['Death_Rate'])\n",
    "ax[0].set_title('原数据')\n",
    "\n",
    "ax[1].scatter(df_data['Birth_Rate'], df_data['Death_Rate'])\n",
    "ax[1].plot([10,18], [4,6.5], linestyle=':', color='r', alpha=0.4)\n",
    "ax[1].plot([5,15], [6,5.6], linestyle=':', color='r', alpha=0.4)\n",
    "ax[1].set_title('预设目标')\n",
    "\n",
    "plt.show()"
   ]
  },
  {
   "cell_type": "markdown",
   "metadata": {},
   "source": [
    "### 模型初训练"
   ]
  },
  {
   "cell_type": "code",
   "execution_count": 4,
   "metadata": {},
   "outputs": [
    {
     "data": {
      "image/png": "[encoded data removed]",
      "text/plain": [
       "<Figure size 1008x288 with 2 Axes>"
      ]
     },
     "metadata": {
      "needs_background": "light"
     },
     "output_type": "display_data"
    }
   ],
   "source": [
    "kmeans = KMeans(n_clusters=3)\n",
    "dbscan = DBSCAN(eps=0.9, min_samples=3)\n",
    "fig, ax = plt.subplots(1,2)\n",
    "fig.set_size_inches(14,4)\n",
    "makers = ['D','*','h','.','o','8']\n",
    "colors = ['r','g','b','gray','y','c']\n",
    "for as_idx, model in enumerate([kmeans, dbscan]):\n",
    "    model.fit(df_data[['Birth_Rate', 'Death_Rate']])\n",
    "    model_labels = model.labels_\n",
    "    for mak_idx, label in enumerate(set(model_labels.tolist())):\n",
    "        sca_data = df_data.iloc[np.where(model_labels==label)[0].tolist()]\n",
    "        ax[as_idx].scatter(sca_data['Birth_Rate'], sca_data['Death_Rate'], c=colors[mak_idx])\n",
    "        ax[as_idx].set_title(re.findall('(\\S+)\\(', str(model))[0] + '算法')\n",
    "plt.show()"
   ]
  },
  {
   "cell_type": "markdown",
   "metadata": {},
   "source": [
    "### 模型调优"
   ]
  },
  {
   "cell_type": "markdown",
   "metadata": {},
   "source": [
    "#### KMeans"
   ]
  },
  {
   "cell_type": "code",
   "execution_count": 64,
   "metadata": {},
   "outputs": [
    {
     "data": {
      "image/png": "[encoded data removed]",
      "text/plain": [
       "<Figure size 432x288 with 1 Axes>"
      ]
     },
     "metadata": {
      "needs_background": "light"
     },
     "output_type": "display_data"
    }
   ],
   "source": [
    "K = [x for x in range(2,8)]\n",
    "result = []\n",
    "for k in K:\n",
    "    sse = 0\n",
    "    kmeans = KMeans(n_clusters=k)\n",
    "    train_features = StandardScaler().fit_transform(df_data[['Birth_Rate', 'Death_Rate']])\n",
    "    kmeans.fit(train_features)\n",
    "    labels = kmeans.labels_\n",
    "    centers = kmeans.cluster_centers_\n",
    "    for label in set(labels):\n",
    "        array = train_features[np.where(labels==label)[0].tolist(),:]\n",
    "        sse = np.sum((array - centers[label,:])**2) + sse\n",
    "    result.append([k,sse])\n",
    "x = [x[0] for x in result]\n",
    "y = [x[1] for x in result]\n",
    "plt.title('K值拐点图')\n",
    "plt.plot(x,y)\n",
    "plt.show()"
   ]
  },
  {
   "cell_type": "code",
   "execution_count": 63,
   "metadata": {},
   "outputs": [
    {
     "data": {
      "image/png": "[encoded data removed]",
      "text/plain": [
       "<Figure size 432x288 with 1 Axes>"
      ]
     },
     "metadata": {
      "needs_background": "light"
     },
     "output_type": "display_data"
    }
   ],
   "source": [
    "kmeans = KMeans(n_clusters=3)\n",
    "train_features = MinMaxScaler().fit_transform(df_data[['Birth_Rate', 'Death_Rate']])\n",
    "kmeans.fit(train_features)\n",
    "labels = kmeans.labels_\n",
    "for label in set(labels):\n",
    "    plt_data = df_data.iloc[np.where(labels==label)[0],:]\n",
    "    plt.scatter(plt_data['Birth_Rate'], plt_data['Death_Rate'])\n",
    "plt.title('KMeans模型最佳效果')\n",
    "plt.show()"
   ]
  },
  {
   "cell_type": "markdown",
   "metadata": {},
   "source": [
    "#### DBSCAN"
   ]
  },
  {
   "cell_type": "code",
   "execution_count": 135,
   "metadata": {},
   "outputs": [
    {
     "data": {
      "text/html": [
       "<div>\n",
       "<style scoped>\n",
       "    .dataframe tbody tr th:only-of-type {\n",
       "        vertical-align: middle;\n",
       "    }\n",
       "\n",
       "    .dataframe tbody tr th {\n",
       "        vertical-align: top;\n",
       "    }\n",
       "\n",
       "    .dataframe thead th {\n",
       "        text-align: right;\n",
       "    }\n",
       "</style>\n",
       "<table border=\"1\" class=\"dataframe\">\n",
       "  <thead>\n",
       "    <tr style=\"text-align: right;\">\n",
       "      <th></th>\n",
       "      <th>eps</th>\n",
       "      <th>min_samples</th>\n",
       "      <th>n_clusters</th>\n",
       "      <th>outer</th>\n",
       "      <th>state</th>\n",
       "    </tr>\n",
       "  </thead>\n",
       "  <tbody>\n",
       "    <tr>\n",
       "      <th>0</th>\n",
       "      <td>0.001</td>\n",
       "      <td>2</td>\n",
       "      <td>1</td>\n",
       "      <td>31</td>\n",
       "      <td>[]</td>\n",
       "    </tr>\n",
       "    <tr>\n",
       "      <th>1</th>\n",
       "      <td>0.001</td>\n",
       "      <td>3</td>\n",
       "      <td>1</td>\n",
       "      <td>31</td>\n",
       "      <td>[]</td>\n",
       "    </tr>\n",
       "    <tr>\n",
       "      <th>2</th>\n",
       "      <td>0.001</td>\n",
       "      <td>4</td>\n",
       "      <td>1</td>\n",
       "      <td>31</td>\n",
       "      <td>[]</td>\n",
       "    </tr>\n",
       "    <tr>\n",
       "      <th>3</th>\n",
       "      <td>0.001</td>\n",
       "      <td>5</td>\n",
       "      <td>1</td>\n",
       "      <td>31</td>\n",
       "      <td>[]</td>\n",
       "    </tr>\n",
       "    <tr>\n",
       "      <th>4</th>\n",
       "      <td>0.001</td>\n",
       "      <td>6</td>\n",
       "      <td>1</td>\n",
       "      <td>31</td>\n",
       "      <td>[]</td>\n",
       "    </tr>\n",
       "  </tbody>\n",
       "</table>\n",
       "</div>"
      ],
      "text/plain": [
       "     eps  min_samples  n_clusters  outer state\n",
       "0  0.001            2           1     31    []\n",
       "1  0.001            3           1     31    []\n",
       "2  0.001            4           1     31    []\n",
       "3  0.001            5           1     31    []\n",
       "4  0.001            6           1     31    []"
      ]
     },
     "execution_count": 135,
     "metadata": {},
     "output_type": "execute_result"
    }
   ],
   "source": [
    "eps_s = [x/1000 for x in range(1,1000,5)]\n",
    "min_samples_s = [x for x in range(2,8)]\n",
    "# df_result = pd.DataFrame(columns=['eps','min_samples','n_clusters','state'])\n",
    "data_dic={'eps':[], 'min_samples':[], 'n_clusters':[], 'outer':[], 'state':[]}\n",
    "for eps in eps_s:\n",
    "    for min_samples in min_samples_s:\n",
    "        dbscan = DBSCAN(eps=eps, min_samples=min_samples)\n",
    "        train_features = MinMaxScaler().fit_transform(df_data[['Birth_Rate', 'Death_Rate']])\n",
    "        dbscan.fit(train_features)\n",
    "        labels = dbscan.labels_\n",
    "        data_dic['eps'].append(eps)\n",
    "        data_dic['min_samples'].append(min_samples)\n",
    "        data_dic['n_clusters'].append(len(set(labels)))\n",
    "        data_dic['outer'].append(len([x for x in labels if x==-1]))\n",
    "        cluster_label = labels[labels!=-1]\n",
    "        state_list = pd.Series(cluster_label).value_counts().tolist()      \n",
    "        data_dic['state'].append(state_list)\n",
    "df_result = pd.DataFrame(data_dic)\n",
    "df_result.head()"
   ]
  },
  {
   "cell_type": "code",
   "execution_count": 137,
   "metadata": {},
   "outputs": [
    {
     "data": {
      "text/plain": [
       "eps                 0.206\n",
       "min_samples             3\n",
       "n_clusters              4\n",
       "outer                   4\n",
       "state          [17, 7, 3]\n",
       "Name: 247, dtype: object"
      ]
     },
     "execution_count": 137,
     "metadata": {},
     "output_type": "execute_result"
    }
   ],
   "source": [
    "df_result.query('n_clusters==4 and outer<=5')\n",
    "df_result.iloc[247,:]"
   ]
  },
  {
   "cell_type": "code",
   "execution_count": 139,
   "metadata": {},
   "outputs": [
    {
     "data": {
      "image/png": "[encoded data removed]",
      "text/plain": [
       "<Figure size 432x288 with 1 Axes>"
      ]
     },
     "metadata": {
      "needs_background": "light"
     },
     "output_type": "display_data"
    }
   ],
   "source": [
    "dbscan = DBSCAN(eps=0.206, min_samples=3)\n",
    "train_features = MinMaxScaler().fit_transform(df_data[['Birth_Rate', 'Death_Rate']])\n",
    "dbscan.fit(train_features)\n",
    "labels = dbscan.labels_\n",
    "for label in set(labels):\n",
    "    plt_data = df_data.iloc[np.where(labels==label)[0],:]\n",
    "    plt.scatter(plt_data['Birth_Rate'], plt_data['Death_Rate'])\n",
    "plt.title('dbscan模型最佳效果')\n",
    "plt.show()"
   ]
  },
  {
   "cell_type": "code",
   "execution_count": null,
   "metadata": {},
   "outputs": [],
   "source": []
  }
 ],
 "metadata": {
  "hide_input": false,
  "kernelspec": {
   "display_name": "Python 3",
   "language": "python",
   "name": "python3"
  },
  "language_info": {
   "codemirror_mode": {
    "name": "ipython",
    "version": 3
   },
   "file_extension": ".py",
   "mimetype": "text/x-python",
   "name": "python",
   "nbconvert_exporter": "python",
   "pygments_lexer": "ipython3",
   "version": "3.8.1"
  },
  "toc": {
   "base_numbering": 1,
   "nav_menu": {},
   "number_sections": true,
   "sideBar": true,
   "skip_h1_title": false,
   "title_cell": "Table of Contents",
   "title_sidebar": "Contents",
   "toc_cell": false,
   "toc_position": {},
   "toc_section_display": true,
   "toc_window_display": true
  },
  "varInspector": {
   "cols": {
    "lenName": 16,
    "lenType": 16,
    "lenVar": 40
   },
   "kernels_config": {
    "python": {
     "delete_cmd_postfix": "",
     "delete_cmd_prefix": "del ",
     "library": "var_list.py",
     "varRefreshCmd": "print(var_dic_list())"
    },
    "r": {
     "delete_cmd_postfix": ") ",
     "delete_cmd_prefix": "rm(",
     "library": "var_list.r",
     "varRefreshCmd": "cat(var_dic_list()) "
    }
   },
   "types_to_exclude": [
    "module",
    "function",
    "builtin_function_or_method",
    "instance",
    "_Feature"
   ],
   "window_display": false
  }
 },
 "nbformat": 4,
 "nbformat_minor": 4
}
