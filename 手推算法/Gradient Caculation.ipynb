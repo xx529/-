{
  "nbformat": 4,
  "nbformat_minor": 0,
  "metadata": {
    "hide_input": false,
    "kernelspec": {
      "display_name": "Python 3",
      "language": "python",
      "name": "python3"
    },
    "language_info": {
      "codemirror_mode": {
        "name": "ipython",
        "version": 3
      },
      "file_extension": ".py",
      "mimetype": "text/x-python",
      "name": "python",
      "nbconvert_exporter": "python",
      "pygments_lexer": "ipython3",
      "version": "3.7.6"
    },
    "toc": {
      "base_numbering": 1,
      "nav_menu": {},
      "number_sections": true,
      "sideBar": true,
      "skip_h1_title": false,
      "title_cell": "Table of Contents",
      "title_sidebar": "Contents",
      "toc_cell": false,
      "toc_position": {
        "height": "calc(100% - 180px)",
        "left": "10px",
        "top": "150px",
        "width": "226px"
      },
      "toc_section_display": true,
      "toc_window_display": true
    },
    "varInspector": {
      "cols": {
        "lenName": 16,
        "lenType": 16,
        "lenVar": 40
      },
      "kernels_config": {
        "python": {
          "delete_cmd_postfix": "",
          "delete_cmd_prefix": "del ",
          "library": "var_list.py",
          "varRefreshCmd": "print(var_dic_list())"
        },
        "r": {
          "delete_cmd_postfix": ") ",
          "delete_cmd_prefix": "rm(",
          "library": "var_list.r",
          "varRefreshCmd": "cat(var_dic_list()) "
        }
      },
      "types_to_exclude": [
        "module",
        "function",
        "builtin_function_or_method",
        "instance",
        "_Feature"
      ],
      "window_display": false
    },
    "colab": {
      "name": "Gradient Caculation.ipynb",
      "provenance": [],
      "toc_visible": true
    }
  },
  "cells": [
    {
      "cell_type": "code",
      "metadata": {
        "id": "ChFnCuNqozbm"
      },
      "source": [
        "import jax.numpy as jnp\n",
        "import jax.random as jrandom\n",
        "import jax.nn as jnn\n",
        "import jax"
      ],
      "execution_count": 61,
      "outputs": []
    },
    {
      "cell_type": "markdown",
      "metadata": {
        "id": "qwLPvNA_ozb4"
      },
      "source": [
        "# JAX Function"
      ]
    },
    {
      "cell_type": "code",
      "metadata": {
        "id": "uOPTY6jbozb5"
      },
      "source": [
        "def jax_fc(w, b, x):\n",
        "    return jnp.dot(x, w) + b\n",
        "\n",
        "def jax_sigmoid(x):\n",
        "    return jnn.sigmoid(x)\n",
        "\n",
        "def jax_softmax(x):\n",
        "    return jnn.softmax(x)\n",
        "\n",
        "def jax_relu(x):\n",
        "    return jnn.relu(x)\n",
        "\n",
        "@jax.grad\n",
        "def get_jax_logistic_regression_grad(parmas, x, y_true):\n",
        "    y_pre = jax_sigmoid(jax_fc(*parmas, x))\n",
        "    loss = -(jnp.sum(y_true * jnp.log(y_pre) + (1 - y_true) * jnp.log(1 - y_pre)))\n",
        "    return loss\n",
        "\n",
        "@jax.grad\n",
        "def get_jax_softmax_classification_grad(parmas, x, y_true):\n",
        "    pre  = jax_softmax(jax_fc(*parmas, x))\n",
        "    loss = -jnp.sum(y_true * jnp.log(pre))\n",
        "    return loss\n",
        "\n",
        "@jax.grad\n",
        "def get_jax_linear_regression_grad(parmas, x, y_true):\n",
        "    for w, b in parmas[:-1]:\n",
        "        x = jax_fc(w, b, x)\n",
        "        x = jax_relu(x)\n",
        "    y_pre = jax_fc(*parmas[-1], x)\n",
        "    loss = jnp.sum((y_true - y_pre)**2)\n",
        "    return loss"
      ],
      "execution_count": 62,
      "outputs": []
    },
    {
      "cell_type": "markdown",
      "metadata": {
        "id": "VZNG9qPLozb6"
      },
      "source": [
        "# Function Definition"
      ]
    },
    {
      "cell_type": "code",
      "metadata": {
        "id": "sYMrqihQozb7"
      },
      "source": [
        "# linear\n",
        "def linear(parmas, x):\n",
        "    w, b = parmas\n",
        "    return jnp.dot(x, w) + b\n",
        "\n",
        "def grad_linear(parmas, layer_inputs, grad_cum_dot):\n",
        "    w, b = parmas\n",
        "    dw = jnp.dot(layer_inputs.T, grad_cum_dot)\n",
        "    db = jnp.sum(grad_cum_dot, axis=0)\n",
        "    dx = jnp.dot(grad_cum_dot, w.T)\n",
        "    return (dw, db, dx)"
      ],
      "execution_count": 63,
      "outputs": []
    },
    {
      "cell_type": "code",
      "metadata": {
        "id": "nVdDr2eoozb8"
      },
      "source": [
        "# sigmoid\n",
        "def sigmoid(x):\n",
        "    return 1 / (1 + jnp.exp(-x))\n",
        "\n",
        "def grad_sigmoid(x, grad_cum_dot):\n",
        "    return grad_cum_dot * (sigmoid(x) * (1 - sigmoid(x)))"
      ],
      "execution_count": 64,
      "outputs": []
    },
    {
      "cell_type": "code",
      "metadata": {
        "id": "lY1ZS_RBozb8"
      },
      "source": [
        "# softmax\n",
        "def softmax(x):\n",
        "    return jnp.exp(x) / jnp.sum(jnp.exp(x), axis=1).reshape(-1,1)\n",
        "\n",
        "def grad_softmax(x, grad_cum_dot):\n",
        "    target_indexs = grad_cum_dot.argmin(axis=1).tolist()\n",
        "    return jnp.array([[s-1 if target_index == idx else s for idx, s in enumerate(i)] for i, target_index in zip(softmax(x), target_indexs)])"
      ],
      "execution_count": 65,
      "outputs": []
    },
    {
      "cell_type": "code",
      "metadata": {
        "id": "K0N3IvoWq4fY"
      },
      "source": [
        "# relu\n",
        "def relu(x):\n",
        "    return jnp.maximum(0, x)\n",
        "\n",
        "def grad_relu(x, grad_cum_dot):\n",
        "    return grad_cum_dot * jnp.maximum(0, x/jnp.abs(x))"
      ],
      "execution_count": 66,
      "outputs": []
    },
    {
      "cell_type": "code",
      "metadata": {
        "id": "Z6t-pId5pNwN"
      },
      "source": [
        "# binary cross entropy\n",
        "def bce_loss(y_true, y_pre):\n",
        "    return jnp.mean(y_true * jnp.log(y_pre) + (1 - y_true) * jnp.log(1 - y_pre))\n",
        "\n",
        "def grad_bce_loss(y_true, y_pre):\n",
        "    return - (y_true * 1 / y_pre + (1 - y_true) * 1 / (1 - y_pre) * -1)"
      ],
      "execution_count": 67,
      "outputs": []
    },
    {
      "cell_type": "code",
      "metadata": {
        "id": "phZLgDaBpdLP"
      },
      "source": [
        "# cross entropy loss\n",
        "def ce_loss(y_true, y_pre_pro):\n",
        "    return -jnp.sum(y_true * jnp.log(y_pre_pro))\n",
        "\n",
        "def grad_ce_loss(y_true, y_pre_pro):\n",
        "    return 1 / (y_true * y_pre_pro)"
      ],
      "execution_count": 68,
      "outputs": []
    },
    {
      "cell_type": "code",
      "metadata": {
        "id": "5PxAo06fr6s7"
      },
      "source": [
        "# mse loss\n",
        "def mse_loss(y_true, y_pre):\n",
        "    return jnp.sum((y_true - y_pre)**2)\n",
        "\n",
        "def grad_mse_loss(y_true, y_pre):\n",
        "    return -2 * (y_true - y_pre)"
      ],
      "execution_count": 69,
      "outputs": []
    },
    {
      "cell_type": "markdown",
      "metadata": {
        "id": "Je_b7NNuozb9"
      },
      "source": [
        "# Gradient Calculation"
      ]
    },
    {
      "cell_type": "markdown",
      "metadata": {
        "id": "kqwCjVl4qw-J"
      },
      "source": [
        "## Linear Regression"
      ]
    },
    {
      "cell_type": "code",
      "metadata": {
        "id": "1y2V2BI2sfKQ",
        "outputId": "097b0e0c-edb5-419a-887a-b0b3fc6ed82a",
        "colab": {
          "base_uri": "https://localhost:8080/"
        }
      },
      "source": [
        "KEY = jrandom.PRNGKey(520)\n",
        "INPUT_DIM = 3\n",
        "HIDDEN_DIM = 4\n",
        "OUTPUT_DIM = 1\n",
        "BATCH = 3\n",
        "\n",
        "parmas1 = (jrandom.normal(KEY, (INPUT_DIM, HIDDEN_DIM)), jrandom.normal(KEY, (HIDDEN_DIM, )))\n",
        "parmas2 = (jrandom.normal(KEY, (HIDDEN_DIM, OUTPUT_DIM)), jrandom.normal(KEY, (OUTPUT_DIM, )))\n",
        "x = jrandom.normal(KEY, (BATCH ,INPUT_DIM))\n",
        "y = jrandom.randint(KEY, (BATCH, OUTPUT_DIM), -10, 1)\n",
        "\n",
        "# forward\n",
        "linear_output = linear(parmas1, x)\n",
        "relu_output = relu(linear_output)\n",
        "outputs = linear(parmas2, relu_output)\n",
        "\n",
        "# loss\n",
        "loss = mse_loss(y, outputs)\n",
        "\n",
        "# gradient\n",
        "dLoss_dLinear = grad_mse_loss(y, outputs)\n",
        "dw2, db2, dx2 = grad_linear(parmas2, relu_output, dLoss_dLinear) \n",
        "dRelu_dLinear = grad_relu(linear_output, dx2) \n",
        "dw1, db1, _ = grad_linear(parmas1, x, dRelu_dLinear)\n",
        "\n",
        "\n",
        "(dw1, db1, dw2, db2)"
      ],
      "execution_count": 70,
      "outputs": [
        {
          "output_type": "execute_result",
          "data": {
            "text/plain": [
              "(DeviceArray([[ 0.09599687,  0.08536603,  0.        ,  0.03540015],\n",
              "              [-0.01222258, -0.01086903,  0.        , -0.00450724],\n",
              "              [ 0.02458649,  0.02186375,  0.        ,  0.0090666 ]],            dtype=float32),\n",
              " DeviceArray([0.0590255 , 0.05248893, 0.        , 0.02176646], dtype=float32),\n",
              " DeviceArray([[-0.17297728],\n",
              "              [-0.05039567],\n",
              "              [ 0.        ],\n",
              "              [-0.21061537]], dtype=float32),\n",
              " DeviceArray([22.230576], dtype=float32))"
            ]
          },
          "metadata": {
            "tags": []
          },
          "execution_count": 70
        }
      ]
    },
    {
      "cell_type": "code",
      "metadata": {
        "id": "tqlZLZr9yXXU",
        "outputId": "b808af69-6eca-46d6-faf9-2e08962f1c60",
        "colab": {
          "base_uri": "https://localhost:8080/"
        }
      },
      "source": [
        "get_jax_linear_regression_grad([parmas1, parmas2], x, y)"
      ],
      "execution_count": 71,
      "outputs": [
        {
          "output_type": "execute_result",
          "data": {
            "text/plain": [
              "[(DeviceArray([[ 0.09599687,  0.08536603,  0.        ,  0.03540015],\n",
              "               [-0.01222258, -0.01086903,  0.        , -0.00450724],\n",
              "               [ 0.02458649,  0.02186375,  0.        ,  0.0090666 ]],            dtype=float32),\n",
              "  DeviceArray([0.0590255 , 0.05248893, 0.        , 0.02176646], dtype=float32)),\n",
              " (DeviceArray([[-0.17297728],\n",
              "               [-0.05039567],\n",
              "               [ 0.        ],\n",
              "               [-0.21061537]], dtype=float32),\n",
              "  DeviceArray([22.230576], dtype=float32))]"
            ]
          },
          "metadata": {
            "tags": []
          },
          "execution_count": 71
        }
      ]
    },
    {
      "cell_type": "markdown",
      "metadata": {
        "id": "1aVivKp-ozb-"
      },
      "source": [
        "## Logistic Regression"
      ]
    },
    {
      "cell_type": "code",
      "metadata": {
        "colab": {
          "base_uri": "https://localhost:8080/"
        },
        "id": "tyRKR0pUozb-",
        "outputId": "ad03f94e-1ce0-41d3-87f9-bc51c0b8754d"
      },
      "source": [
        "KEY = jrandom.PRNGKey(529)\n",
        "INPUT_DIM = 3\n",
        "OUTPUT_DIM = 1\n",
        "BATCH = 4\n",
        "\n",
        "parmas = (jrandom.normal(KEY, (INPUT_DIM, OUTPUT_DIM)), jrandom.normal(KEY, (OUTPUT_DIM, )))\n",
        "x = jrandom.normal(KEY, (BATCH ,INPUT_DIM))\n",
        "y = jrandom.randint(KEY, (BATCH, OUTPUT_DIM), 0, 2)\n",
        "\n",
        "# forward\n",
        "linear_output = linear(parmas, x)\n",
        "sigmoid_output = sigmoid(linear_output)\n",
        "\n",
        "# loss\n",
        "loss = bce_loss(y, sigmoid_output)\n",
        "\n",
        "# gradient\n",
        "dLoss_dSigomid = grad_bce_loss(y, sigmoid_output)\n",
        "dSigmoid_dLinear = grad_sigmoid(linear_output, dLoss_dSigomid) \n",
        "dw, db, _ = grad_linear(parmas, x, dSigmoid_dLinear) \n",
        "\n",
        "(dw, db)"
      ],
      "execution_count": 72,
      "outputs": [
        {
          "output_type": "execute_result",
          "data": {
            "text/plain": [
              "(DeviceArray([[-0.587844  ],\n",
              "              [ 0.09830173],\n",
              "              [-0.2256486 ]], dtype=float32),\n",
              " DeviceArray([0.81867844], dtype=float32))"
            ]
          },
          "metadata": {
            "tags": []
          },
          "execution_count": 72
        }
      ]
    },
    {
      "cell_type": "code",
      "metadata": {
        "colab": {
          "base_uri": "https://localhost:8080/"
        },
        "id": "t0NbC1GyozcB",
        "outputId": "017527bf-49a6-4a8e-8e45-ceb4419762db"
      },
      "source": [
        "get_jax_logistic_regression_grad(parmas, x, y)"
      ],
      "execution_count": 73,
      "outputs": [
        {
          "output_type": "execute_result",
          "data": {
            "text/plain": [
              "(DeviceArray([[-0.587844  ],\n",
              "              [ 0.09830171],\n",
              "              [-0.22564854]], dtype=float32),\n",
              " DeviceArray([0.8186784], dtype=float32))"
            ]
          },
          "metadata": {
            "tags": []
          },
          "execution_count": 73
        }
      ]
    },
    {
      "cell_type": "markdown",
      "metadata": {
        "id": "PwZndFB9o6bf"
      },
      "source": [
        "## Softmax Classification"
      ]
    },
    {
      "cell_type": "code",
      "metadata": {
        "colab": {
          "base_uri": "https://localhost:8080/"
        },
        "id": "SwwNOPWTpWHN",
        "outputId": "00c5740b-c2e7-4461-a107-4927094f33de"
      },
      "source": [
        "KEY = jrandom.PRNGKey(129)\n",
        "INPUT_DIM = 3\n",
        "BATCH = 4\n",
        "N_CLASS = 3\n",
        "\n",
        "parmas = (jrandom.normal(KEY, (INPUT_DIM, N_CLASS)), jrandom.normal(KEY, (N_CLASS, )))\n",
        "x = jrandom.normal(KEY, (BATCH ,INPUT_DIM))\n",
        "y = jnn.one_hot(jrandom.randint(KEY, (BATCH, ), 0, N_CLASS), N_CLASS)\n",
        "\n",
        "# forward\n",
        "linear_output = linear(parmas, x)\n",
        "softmax_output = softmax(linear_output)\n",
        "\n",
        "# loss\n",
        "loss = ce_loss(y, softmax_output)\n",
        "\n",
        "# gradient\n",
        "dLoss_dSoftmax = grad_ce_loss(y, softmax_output)\n",
        "dSoftmax_dLinear = grad_softmax(linear_output, dLoss_dSoftmax) \n",
        "dw, db, _ = grad_linear(parmas, x, dSoftmax_dLinear) \n",
        "\n",
        "(dw, db)"
      ],
      "execution_count": 74,
      "outputs": [
        {
          "output_type": "execute_result",
          "data": {
            "text/plain": [
              "(DeviceArray([[-1.1197042 ,  1.4028358 , -0.28313178],\n",
              "              [ 0.62128055, -1.0922139 ,  0.47093317],\n",
              "              [-0.28436232,  0.50908446, -0.22472213]], dtype=float32),\n",
              " DeviceArray([ 1.43662  , -2.0455873,  0.6089672], dtype=float32))"
            ]
          },
          "metadata": {
            "tags": []
          },
          "execution_count": 74
        }
      ]
    },
    {
      "cell_type": "code",
      "metadata": {
        "colab": {
          "base_uri": "https://localhost:8080/"
        },
        "id": "kPsVcGYjpXpO",
        "outputId": "8a44ba26-578a-40f4-f13a-8a1f6883d79b"
      },
      "source": [
        "get_jax_softmax_classification_grad(parmas, x, y)"
      ],
      "execution_count": 75,
      "outputs": [
        {
          "output_type": "execute_result",
          "data": {
            "text/plain": [
              "(DeviceArray([[-1.119704  ,  1.402836  , -0.2831316 ],\n",
              "              [ 0.6212805 , -1.0922139 ,  0.47093332],\n",
              "              [-0.28436238,  0.5090845 , -0.22472215]], dtype=float32),\n",
              " DeviceArray([ 1.43662 , -2.045587,  0.608967], dtype=float32))"
            ]
          },
          "metadata": {
            "tags": []
          },
          "execution_count": 75
        }
      ]
    }
  ]
}