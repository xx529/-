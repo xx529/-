{
  "nbformat": 4,
  "nbformat_minor": 0,
  "metadata": {
    "hide_input": false,
    "kernelspec": {
      "display_name": "Python 3",
      "language": "python",
      "name": "python3"
    },
    "language_info": {
      "codemirror_mode": {
        "name": "ipython",
        "version": 3
      },
      "file_extension": ".py",
      "mimetype": "text/x-python",
      "name": "python",
      "nbconvert_exporter": "python",
      "pygments_lexer": "ipython3",
      "version": "3.7.6"
    },
    "toc": {
      "base_numbering": 1,
      "nav_menu": {},
      "number_sections": true,
      "sideBar": true,
      "skip_h1_title": false,
      "title_cell": "Table of Contents",
      "title_sidebar": "Contents",
      "toc_cell": false,
      "toc_position": {
        "height": "calc(100% - 180px)",
        "left": "10px",
        "top": "150px",
        "width": "226px"
      },
      "toc_section_display": true,
      "toc_window_display": true
    },
    "varInspector": {
      "cols": {
        "lenName": 16,
        "lenType": 16,
        "lenVar": 40
      },
      "kernels_config": {
        "python": {
          "delete_cmd_postfix": "",
          "delete_cmd_prefix": "del ",
          "library": "var_list.py",
          "varRefreshCmd": "print(var_dic_list())"
        },
        "r": {
          "delete_cmd_postfix": ") ",
          "delete_cmd_prefix": "rm(",
          "library": "var_list.r",
          "varRefreshCmd": "cat(var_dic_list()) "
        }
      },
      "types_to_exclude": [
        "module",
        "function",
        "builtin_function_or_method",
        "instance",
        "_Feature"
      ],
      "window_display": false
    },
    "colab": {
      "name": "Gradient Caculation.ipynb",
      "provenance": [],
      "toc_visible": true
    }
  },
  "cells": [
    {
      "cell_type": "code",
      "metadata": {
        "id": "ChFnCuNqozbm"
      },
      "source": [
        "import jax.numpy as jnp\n",
        "import jax.random as jrandom\n",
        "import jax.nn as jnn\n",
        "import jax"
      ],
      "execution_count": 1,
      "outputs": []
    },
    {
      "cell_type": "markdown",
      "metadata": {
        "id": "qwLPvNA_ozb4"
      },
      "source": [
        "# JAX Function"
      ]
    },
    {
      "cell_type": "code",
      "metadata": {
        "id": "uOPTY6jbozb5"
      },
      "source": [
        "def jax_fc(w, b, x):\n",
        "    return jnp.dot(x, w) + b\n",
        "\n",
        "def jax_sigmoid(x):\n",
        "    return jnn.sigmoid(x)\n",
        "\n",
        "def jax_softmax(x):\n",
        "    return jnn.softmax(x)\n",
        "\n",
        "@jax.grad\n",
        "def get_jax_logistic_regression_grad(parmas, x, y_true):\n",
        "    y_pre = jax_sigmoid(jax_fc(*parmas, x))\n",
        "    loss = -(jnp.sum(y_true * jnp.log(y_pre) + (1 - y_true) * jnp.log(1 - y_pre)))\n",
        "    return loss\n",
        "\n",
        "@jax.grad\n",
        "def get_jax_softmax_classification_grad(parmas, x, y_true):\n",
        "    pre  = jax_softmax(jax_fc(*parmas, x))\n",
        "    loss = -jnp.sum(y_true * jnp.log(pre))\n",
        "    return loss"
      ],
      "execution_count": 2,
      "outputs": []
    },
    {
      "cell_type": "markdown",
      "metadata": {
        "id": "VZNG9qPLozb6"
      },
      "source": [
        "# Function Definition"
      ]
    },
    {
      "cell_type": "code",
      "metadata": {
        "id": "sYMrqihQozb7"
      },
      "source": [
        "# linear\n",
        "def linear(parmas, x):\n",
        "    w, b = parmas\n",
        "    return jnp.dot(x, w) + b\n",
        "\n",
        "def grad_linear(parmas, layer_inputs, grad_cum_dot):\n",
        "    w, b = parmas\n",
        "    dw = jnp.dot(layer_inputs.T, grad_cum_dot)\n",
        "    db = jnp.sum(grad_cum_dot, axis=0)\n",
        "    dx = jnp.dot(grad_cum_dot, w.T)\n",
        "    return (dw, db, dx)"
      ],
      "execution_count": 3,
      "outputs": []
    },
    {
      "cell_type": "code",
      "metadata": {
        "id": "nVdDr2eoozb8"
      },
      "source": [
        "# sigmoid\n",
        "def sigmoid(x):\n",
        "    return 1 / (1 + jnp.exp(-x))\n",
        "\n",
        "def grad_sigmoid(x, grad_cum_dot):\n",
        "    return grad_cum_dot * (sigmoid(x) * (1 - sigmoid(x)))"
      ],
      "execution_count": 4,
      "outputs": []
    },
    {
      "cell_type": "code",
      "metadata": {
        "id": "lY1ZS_RBozb8"
      },
      "source": [
        "# softmax\n",
        "def softmax(x):\n",
        "    return jnp.exp(x) / jnp.sum(jnp.exp(x), axis=1).reshape(-1,1)\n",
        "\n",
        "def grad_softmax(x, grad_cum_dot):\n",
        "    target_indexs = grad_cum_dot.argmin(axis=1).tolist()\n",
        "    return jnp.array([[s-1 if target_index == idx else s for idx, s in enumerate(i)] for i, target_index in zip(softmax(x), target_indexs)])"
      ],
      "execution_count": 5,
      "outputs": []
    },
    {
      "cell_type": "code",
      "metadata": {
        "id": "Z6t-pId5pNwN"
      },
      "source": [
        "# binary cross entropy\n",
        "def bce_loss(y_true, y_pre):\n",
        "    return jnp.mean(y_true * jnp.log(y_pre) + (1 - y_true) * jnp.log(1 - y_pre))\n",
        "\n",
        "def grad_bce_loss(y_true, y_pre):\n",
        "    return - (y_true * 1 / y_pre + (1 - y_true) * 1 / (1 - y_pre) * -1)"
      ],
      "execution_count": 6,
      "outputs": []
    },
    {
      "cell_type": "code",
      "metadata": {
        "id": "phZLgDaBpdLP"
      },
      "source": [
        "# cross entropy loss\n",
        "def ce_loss(y_true, y_pre_pro):\n",
        "    return -jnp.sum(y_true * jnp.log(y_pre_pro))\n",
        "\n",
        "def grad_ce_loss(y_true, y_pre_pro):\n",
        "    return 1 / (y_true * y_pre_pro)"
      ],
      "execution_count": 11,
      "outputs": []
    },
    {
      "cell_type": "markdown",
      "metadata": {
        "id": "Je_b7NNuozb9"
      },
      "source": [
        "# Gradient Calculation"
      ]
    },
    {
      "cell_type": "markdown",
      "metadata": {
        "id": "1aVivKp-ozb-"
      },
      "source": [
        "## Logistic Regression"
      ]
    },
    {
      "cell_type": "code",
      "metadata": {
        "id": "tyRKR0pUozb-",
        "outputId": "0148890a-7de3-423b-d5c0-7ff320ebeb1b",
        "colab": {
          "base_uri": "https://localhost:8080/"
        }
      },
      "source": [
        "KEY = jrandom.PRNGKey(529)\n",
        "INPUT_DIM = 3\n",
        "BATCH = 4\n",
        "\n",
        "parmas = (jrandom.normal(KEY, (INPUT_DIM, 1)), jrandom.normal(KEY, (1, )))\n",
        "x = jrandom.normal(KEY, (BATCH ,INPUT_DIM))\n",
        "y = jrandom.randint(KEY, (BATCH, 1), 0, 2)\n",
        "\n",
        "# forward\n",
        "linear_output = linear(parmas, x)\n",
        "sigmoid_output = sigmoid(linear_output)\n",
        "\n",
        "# loss\n",
        "loss = bce_loss(y, sigmoid_output)\n",
        "\n",
        "# gradient\n",
        "dLoss_dSigomid = grad_bce_loss(y, sigmoid_output)\n",
        "dSigmoid_dLinear = grad_sigmoid(linear_output, dLoss_dSigomid) \n",
        "dw, db, _ = grad_linear(parmas, x, dSigmoid_dLinear) \n",
        "\n",
        "(dw, db)"
      ],
      "execution_count": 12,
      "outputs": [
        {
          "output_type": "execute_result",
          "data": {
            "text/plain": [
              "(DeviceArray([[-0.587844  ],\n",
              "              [ 0.09830173],\n",
              "              [-0.2256486 ]], dtype=float32),\n",
              " DeviceArray([0.81867844], dtype=float32))"
            ]
          },
          "metadata": {
            "tags": []
          },
          "execution_count": 12
        }
      ]
    },
    {
      "cell_type": "code",
      "metadata": {
        "id": "t0NbC1GyozcB",
        "outputId": "ca83de0a-3920-44e5-b054-d37a43afb4a9",
        "colab": {
          "base_uri": "https://localhost:8080/"
        }
      },
      "source": [
        "get_jax_logistic_regression_grad(parmas, x, y)"
      ],
      "execution_count": 13,
      "outputs": [
        {
          "output_type": "execute_result",
          "data": {
            "text/plain": [
              "(DeviceArray([[-0.587844  ],\n",
              "              [ 0.09830171],\n",
              "              [-0.22564854]], dtype=float32),\n",
              " DeviceArray([0.8186784], dtype=float32))"
            ]
          },
          "metadata": {
            "tags": []
          },
          "execution_count": 13
        }
      ]
    },
    {
      "cell_type": "markdown",
      "metadata": {
        "id": "PwZndFB9o6bf"
      },
      "source": [
        "## Softmax Classification"
      ]
    },
    {
      "cell_type": "code",
      "metadata": {
        "id": "SwwNOPWTpWHN",
        "outputId": "73af806f-fb6c-439d-d61b-eceb812bd2c0",
        "colab": {
          "base_uri": "https://localhost:8080/"
        }
      },
      "source": [
        "KEY = jrandom.PRNGKey(529)\n",
        "INPUT_DIM = 3\n",
        "BATCH = 4\n",
        "N_CLASS = 3\n",
        "\n",
        "parmas = (jrandom.normal(KEY, (INPUT_DIM, N_CLASS)), jrandom.normal(KEY, (N_CLASS, )))\n",
        "x = jrandom.normal(KEY, (BATCH ,INPUT_DIM))\n",
        "y = jnn.one_hot(jrandom.randint(KEY, (BATCH, ), 0, N_CLASS), N_CLASS)\n",
        "\n",
        "# forward\n",
        "linear_output = linear(parmas, x)\n",
        "softmax_output = softmax(linear_output)\n",
        "\n",
        "# loss\n",
        "loss = ce_loss(y, softmax_output)\n",
        "\n",
        "# gradient\n",
        "dLoss_dSoftmax = grad_ce_loss(y, softmax_output)\n",
        "dSoftmax_dLinear = grad_softmax(linear_output, dLoss_dSoftmax) \n",
        "dw, db, _ = grad_linear(parmas, x, dSoftmax_dLinear) \n",
        "\n",
        "(dw, db)"
      ],
      "execution_count": 14,
      "outputs": [
        {
          "output_type": "execute_result",
          "data": {
            "text/plain": [
              "(DeviceArray([[-1.4472896 ,  0.5539345 ,  0.8933551 ],\n",
              "              [ 0.2626161 , -0.02851331, -0.23410276],\n",
              "              [ 0.7812388 , -1.1439149 ,  0.36267602]], dtype=float32),\n",
              " DeviceArray([ 2.4134421 , -0.74843514, -1.6650069 ], dtype=float32))"
            ]
          },
          "metadata": {
            "tags": []
          },
          "execution_count": 14
        }
      ]
    },
    {
      "cell_type": "code",
      "metadata": {
        "id": "kPsVcGYjpXpO",
        "outputId": "9c71bc3d-5d49-478e-aced-b8be43f6a988",
        "colab": {
          "base_uri": "https://localhost:8080/"
        }
      },
      "source": [
        "get_jax_softmax_classification_grad(parmas, x, y)"
      ],
      "execution_count": 15,
      "outputs": [
        {
          "output_type": "execute_result",
          "data": {
            "text/plain": [
              "(DeviceArray([[-1.4472897 ,  0.5539345 ,  0.8933551 ],\n",
              "              [ 0.2626161 , -0.02851331, -0.23410273],\n",
              "              [ 0.78123885, -1.1439149 ,  0.36267602]], dtype=float32),\n",
              " DeviceArray([ 2.4134421 , -0.74843526, -1.6650071 ], dtype=float32))"
            ]
          },
          "metadata": {
            "tags": []
          },
          "execution_count": 15
        }
      ]
    },
    {
      "cell_type": "code",
      "metadata": {
        "id": "2Thn0kYipZDz"
      },
      "source": [
        ""
      ],
      "execution_count": 15,
      "outputs": []
    }
  ]
}