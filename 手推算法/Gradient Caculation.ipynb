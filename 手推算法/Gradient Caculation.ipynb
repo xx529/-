{
 "cells": [
  {
   "cell_type": "code",
   "execution_count": 1,
   "metadata": {},
   "outputs": [],
   "source": [
    "import jax.numpy as jnp\n",
    "import jax.random as jrandom\n",
    "import jax.nn as jnn\n",
    "import jax"
   ]
  },
  {
   "cell_type": "markdown",
   "metadata": {},
   "source": [
    "# JAX Function"
   ]
  },
  {
   "cell_type": "code",
   "execution_count": 2,
   "metadata": {},
   "outputs": [],
   "source": [
    "def jax_fc(w, b, x):\n",
    "    return jnp.dot(x, w) + b\n",
    "\n",
    "def jax_sigmoid(x):\n",
    "    return jnn.sigmoid(x)\n",
    "\n",
    "def jax_softmax(x):\n",
    "    return jnn.softmax(x)\n",
    "\n",
    "@jax.grad\n",
    "def get_jax_logistic_regression_grad(parmas, x, y_true):\n",
    "    y_pre = jax_sigmoid(jax_fc(*parmas, x))\n",
    "    loss = -(jnp.sum(y_true * jnp.log(y_pre) + (1 - y_true) * jnp.log(1 - y_pre)))\n",
    "    return loss"
   ]
  },
  {
   "cell_type": "markdown",
   "metadata": {},
   "source": [
    "# Function Definition"
   ]
  },
  {
   "cell_type": "code",
   "execution_count": 3,
   "metadata": {},
   "outputs": [],
   "source": [
    "# linear\n",
    "def linear(parmas, x):\n",
    "    w, b = parmas\n",
    "    return jnp.dot(x, w) + b\n",
    "\n",
    "def grad_linear(parmas, layer_inputs, grad_cum_dot):\n",
    "    w, b = parmas\n",
    "    dw = jnp.dot(layer_inputs.T, grad_cum_dot)\n",
    "    db = jnp.sum(grad_cum_dot, axis=0)\n",
    "    dx = jnp.dot(grad_cum_dot, w.T)\n",
    "    return (dw, db, dx)"
   ]
  },
  {
   "cell_type": "code",
   "execution_count": 4,
   "metadata": {},
   "outputs": [],
   "source": [
    "# sigmoid\n",
    "def sigmoid(x):\n",
    "    return 1 / (1 + jnp.exp(-x))\n",
    "\n",
    "def grad_sigmoid(x, grad_cum_dot):\n",
    "    return grad_cum_dot * (sigmoid(x) * (1 - sigmoid(x)))"
   ]
  },
  {
   "cell_type": "code",
   "execution_count": 5,
   "metadata": {},
   "outputs": [],
   "source": [
    "# binary cross entropy\n",
    "def bce_loss(y_true, y_pre):\n",
    "    return jnp.mean(y_true * jnp.log(y_pre) + (1 - y_true) * jnp.log(1 - y_pre))\n",
    "\n",
    "def grad_bce_loss(y_true, y_pre):\n",
    "    return - (y_true * 1 / y_pre + (1 - y_true) * 1 / (1 - y_pre) * -1)"
   ]
  },
  {
   "cell_type": "markdown",
   "metadata": {},
   "source": [
    "# Gradient Calculation"
   ]
  },
  {
   "cell_type": "markdown",
   "metadata": {},
   "source": [
    "## Logistic Regression"
   ]
  },
  {
   "cell_type": "code",
   "execution_count": 6,
   "metadata": {},
   "outputs": [
    {
     "name": "stderr",
     "output_type": "stream",
     "text": [
      "WARNING:absl:No GPU/TPU found, falling back to CPU. (Set TF_CPP_MIN_LOG_LEVEL=0 and rerun for more info.)\n"
     ]
    },
    {
     "data": {
      "text/plain": [
       "(DeviceArray([[-0.587844  ],\n",
       "              [ 0.09830172],\n",
       "              [-0.22564851]], dtype=float32),\n",
       " DeviceArray([0.8186784], dtype=float32))"
      ]
     },
     "execution_count": 6,
     "metadata": {},
     "output_type": "execute_result"
    }
   ],
   "source": [
    "KEY = jrandom.PRNGKey(529)\n",
    "INPUT_DIM = 3\n",
    "BATCH = 4\n",
    "\n",
    "parmas = (jrandom.normal(KEY, (INPUT_DIM, 1)), jrandom.normal(KEY, (1, )))\n",
    "x = jrandom.normal(KEY, (BATCH ,INPUT_DIM))\n",
    "y = jrandom.randint(KEY, (BATCH, 1), 0, 2)\n",
    "\n",
    "# forward\n",
    "linear_output = linear(parmas, x)\n",
    "sigmoid_output = sigmoid(linear_output)\n",
    "\n",
    "# loss\n",
    "loss = bce_loss(y, sigmoid_output)\n",
    "\n",
    "# gradient\n",
    "dLoss_dSigomid = grad_bce_loss(y, sigmoid_output)\n",
    "dSigmoid_dLinear = grad_sigmoid(linear_output, dLoss_dSigomid) \n",
    "dw, db, _ = grad_linear(parmas, x, dSigmoid_dLinear) \n",
    "\n",
    "(dw, db)"
   ]
  },
  {
   "cell_type": "code",
   "execution_count": 7,
   "metadata": {},
   "outputs": [
    {
     "data": {
      "text/plain": [
       "(DeviceArray([[-0.587844  ],\n",
       "              [ 0.09830172],\n",
       "              [-0.22564851]], dtype=float32),\n",
       " DeviceArray([0.8186784], dtype=float32))"
      ]
     },
     "execution_count": 7,
     "metadata": {},
     "output_type": "execute_result"
    }
   ],
   "source": [
    "get_jax_logistic_regression_grad(parmas, x, y)"
   ]
  }
 ],
 "metadata": {
  "hide_input": false,
  "kernelspec": {
   "display_name": "Python 3",
   "language": "python",
   "name": "python3"
  },
  "language_info": {
   "codemirror_mode": {
    "name": "ipython",
    "version": 3
   },
   "file_extension": ".py",
   "mimetype": "text/x-python",
   "name": "python",
   "nbconvert_exporter": "python",
   "pygments_lexer": "ipython3",
   "version": "3.7.6"
  },
  "toc": {
   "base_numbering": 1,
   "nav_menu": {},
   "number_sections": true,
   "sideBar": true,
   "skip_h1_title": false,
   "title_cell": "Table of Contents",
   "title_sidebar": "Contents",
   "toc_cell": false,
   "toc_position": {
    "height": "calc(100% - 180px)",
    "left": "10px",
    "top": "150px",
    "width": "226px"
   },
   "toc_section_display": true,
   "toc_window_display": true
  },
  "varInspector": {
   "cols": {
    "lenName": 16,
    "lenType": 16,
    "lenVar": 40
   },
   "kernels_config": {
    "python": {
     "delete_cmd_postfix": "",
     "delete_cmd_prefix": "del ",
     "library": "var_list.py",
     "varRefreshCmd": "print(var_dic_list())"
    },
    "r": {
     "delete_cmd_postfix": ") ",
     "delete_cmd_prefix": "rm(",
     "library": "var_list.r",
     "varRefreshCmd": "cat(var_dic_list()) "
    }
   },
   "types_to_exclude": [
    "module",
    "function",
    "builtin_function_or_method",
    "instance",
    "_Feature"
   ],
   "window_display": false
  }
 },
 "nbformat": 4,
 "nbformat_minor": 4
}
