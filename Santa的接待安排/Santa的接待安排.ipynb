{
 "cells": [
  {
   "cell_type": "markdown",
   "metadata": {},
   "source": [
    "# Santa的接待安排\n",
    "## 任务信息\n",
    "### 任务背景\n",
    "圣诞节前100天，Santa开放了workshop，欢迎以家庭单位的参观，如何更合理的安排这些家庭参观？\n",
    "\n",
    "### 安排满足条件：\n",
    "* 每天访问的人数需要在125-300人\n",
    "* 每个家庭必须并且只安排一次参观\n",
    "\n",
    "### 任务评价指标：Score = preference cost + accounting penalty（最小化该目标）\n",
    "* preference cost：安排给每个家庭对应的choice需要额外的支出\n",
    "\n",
    "|安排|礼品卡|每个家庭成员|\n",
    "|--|--|--|\n",
    "|Choice_0|不需要|不需要|\n",
    "|Choice_1|50|不需要|\n",
    "|Choice_2|50|9|\n",
    "|Choice_3|100|9|\n",
    "|Choice_4|200|9|\n",
    "|Choice_5|200|18|\n",
    "|Choice_6|300|18|\n",
    "|Choice_7|300|36|\n",
    "|Choice_8|400|36|\n",
    "|Choice_9|500|235|\n",
    "|otherwise|500|425|\n",
    "\n",
    "* accounting penalty：Santa安排的财务成本\n",
    "\n",
    "$$accounting penalty = \\sum^1_{d=100}\\frac{N_d-125}{400}N_d^{0.5+\\frac{|N_d-N_{d+1}|}{50}}$$\n",
    "\n",
    "    1. 其中 N(d) 代表当天安排人数\n",
    "    2. N(d+1) 代表前一天安排人数（因为N代表距离圣诞节的天数）\n",
    "\n",
    "### 数据描述：\n",
    "* 每个家庭有10个选择choice0-9\n",
    "* 数字代表了距离圣诞节的天数，比如 1代表12月24日\n",
    "* 家庭数量 5000，即family_id 为[0, 4999]\n",
    "* n_people 每个家庭人数\n",
    "\n",
    "### 结果格式\n",
    "|family_id|\tassigned_day|\n",
    "|--|--|\n",
    "|0|\t100|\n",
    "|1|\t99|\n",
    "|2|\t98|\n",
    "|3|\t97|\n",
    "|……|\t……|\n",
    "|4999|\t1|"
   ]
  },
  {
   "cell_type": "markdown",
   "metadata": {},
   "source": [
    "## 数据加载"
   ]
  },
  {
   "cell_type": "code",
   "execution_count": 24,
   "metadata": {},
   "outputs": [],
   "source": [
    "import pandas as pd"
   ]
  },
  {
   "cell_type": "code",
   "execution_count": 25,
   "metadata": {},
   "outputs": [
    {
     "data": {
      "text/html": [
       "<div>\n",
       "<style scoped>\n",
       "    .dataframe tbody tr th:only-of-type {\n",
       "        vertical-align: middle;\n",
       "    }\n",
       "\n",
       "    .dataframe tbody tr th {\n",
       "        vertical-align: top;\n",
       "    }\n",
       "\n",
       "    .dataframe thead th {\n",
       "        text-align: right;\n",
       "    }\n",
       "</style>\n",
       "<table border=\"1\" class=\"dataframe\">\n",
       "  <thead>\n",
       "    <tr style=\"text-align: right;\">\n",
       "      <th></th>\n",
       "      <th>family_id</th>\n",
       "      <th>choice_0</th>\n",
       "      <th>choice_1</th>\n",
       "      <th>choice_2</th>\n",
       "      <th>choice_3</th>\n",
       "      <th>choice_4</th>\n",
       "      <th>choice_5</th>\n",
       "      <th>choice_6</th>\n",
       "      <th>choice_7</th>\n",
       "      <th>choice_8</th>\n",
       "      <th>choice_9</th>\n",
       "      <th>n_people</th>\n",
       "    </tr>\n",
       "  </thead>\n",
       "  <tbody>\n",
       "    <tr>\n",
       "      <th>0</th>\n",
       "      <td>0</td>\n",
       "      <td>52</td>\n",
       "      <td>38</td>\n",
       "      <td>12</td>\n",
       "      <td>82</td>\n",
       "      <td>33</td>\n",
       "      <td>75</td>\n",
       "      <td>64</td>\n",
       "      <td>76</td>\n",
       "      <td>10</td>\n",
       "      <td>28</td>\n",
       "      <td>4</td>\n",
       "    </tr>\n",
       "    <tr>\n",
       "      <th>1</th>\n",
       "      <td>1</td>\n",
       "      <td>26</td>\n",
       "      <td>4</td>\n",
       "      <td>82</td>\n",
       "      <td>5</td>\n",
       "      <td>11</td>\n",
       "      <td>47</td>\n",
       "      <td>38</td>\n",
       "      <td>6</td>\n",
       "      <td>66</td>\n",
       "      <td>61</td>\n",
       "      <td>4</td>\n",
       "    </tr>\n",
       "    <tr>\n",
       "      <th>2</th>\n",
       "      <td>2</td>\n",
       "      <td>100</td>\n",
       "      <td>54</td>\n",
       "      <td>25</td>\n",
       "      <td>12</td>\n",
       "      <td>27</td>\n",
       "      <td>82</td>\n",
       "      <td>10</td>\n",
       "      <td>89</td>\n",
       "      <td>80</td>\n",
       "      <td>33</td>\n",
       "      <td>3</td>\n",
       "    </tr>\n",
       "    <tr>\n",
       "      <th>3</th>\n",
       "      <td>3</td>\n",
       "      <td>2</td>\n",
       "      <td>95</td>\n",
       "      <td>1</td>\n",
       "      <td>96</td>\n",
       "      <td>32</td>\n",
       "      <td>6</td>\n",
       "      <td>40</td>\n",
       "      <td>31</td>\n",
       "      <td>9</td>\n",
       "      <td>59</td>\n",
       "      <td>2</td>\n",
       "    </tr>\n",
       "    <tr>\n",
       "      <th>4</th>\n",
       "      <td>4</td>\n",
       "      <td>53</td>\n",
       "      <td>1</td>\n",
       "      <td>47</td>\n",
       "      <td>93</td>\n",
       "      <td>26</td>\n",
       "      <td>3</td>\n",
       "      <td>46</td>\n",
       "      <td>16</td>\n",
       "      <td>42</td>\n",
       "      <td>39</td>\n",
       "      <td>4</td>\n",
       "    </tr>\n",
       "  </tbody>\n",
       "</table>\n",
       "</div>"
      ],
      "text/plain": [
       "   family_id  choice_0  choice_1  choice_2  choice_3  choice_4  choice_5  \\\n",
       "0          0        52        38        12        82        33        75   \n",
       "1          1        26         4        82         5        11        47   \n",
       "2          2       100        54        25        12        27        82   \n",
       "3          3         2        95         1        96        32         6   \n",
       "4          4        53         1        47        93        26         3   \n",
       "\n",
       "   choice_6  choice_7  choice_8  choice_9  n_people  \n",
       "0        64        76        10        28         4  \n",
       "1        38         6        66        61         4  \n",
       "2        10        89        80        33         3  \n",
       "3        40        31         9        59         2  \n",
       "4        46        16        42        39         4  "
      ]
     },
     "execution_count": 25,
     "metadata": {},
     "output_type": "execute_result"
    }
   ],
   "source": [
    "data = pd.read_csv('./family_data.csv')\n",
    "data.head()"
   ]
  },
  {
   "cell_type": "code",
   "execution_count": 26,
   "metadata": {},
   "outputs": [],
   "source": [
    "import matplotlib.pyplot as plt"
   ]
  },
  {
   "cell_type": "code",
   "execution_count": 27,
   "metadata": {},
   "outputs": [
    {
     "data": {
      "image/png": "[encoded data removed]",
      "text/plain": [
       "<Figure size 432x288 with 1 Axes>"
      ]
     },
     "metadata": {
      "needs_background": "light"
     },
     "output_type": "display_data"
    }
   ],
   "source": [
    "# 家庭人数可视化\n",
    "data['n_people'].value_counts().sort_index().plot.bar()\n",
    "plt.show()"
   ]
  },
  {
   "cell_type": "markdown",
   "metadata": {},
   "source": [
    "# 数据定义\n",
    "1. 将日期全部减1，方便矩阵索引\n",
    "2. family_pcost：每个家庭安排在某一天的 preference cost 矩阵"
   ]
  },
  {
   "cell_type": "code",
   "execution_count": 28,
   "metadata": {},
   "outputs": [],
   "source": [
    "import numpy as np"
   ]
  },
  {
   "cell_type": "code",
   "execution_count": 29,
   "metadata": {
    "scrolled": true
   },
   "outputs": [
    {
     "data": {
      "text/html": [
       "<div>\n",
       "<style scoped>\n",
       "    .dataframe tbody tr th:only-of-type {\n",
       "        vertical-align: middle;\n",
       "    }\n",
       "\n",
       "    .dataframe tbody tr th {\n",
       "        vertical-align: top;\n",
       "    }\n",
       "\n",
       "    .dataframe thead th {\n",
       "        text-align: right;\n",
       "    }\n",
       "</style>\n",
       "<table border=\"1\" class=\"dataframe\">\n",
       "  <thead>\n",
       "    <tr style=\"text-align: right;\">\n",
       "      <th></th>\n",
       "      <th>family_id</th>\n",
       "      <th>choice_0</th>\n",
       "      <th>choice_1</th>\n",
       "      <th>choice_2</th>\n",
       "      <th>choice_3</th>\n",
       "      <th>choice_4</th>\n",
       "      <th>choice_5</th>\n",
       "      <th>choice_6</th>\n",
       "      <th>choice_7</th>\n",
       "      <th>choice_8</th>\n",
       "      <th>choice_9</th>\n",
       "      <th>n_people</th>\n",
       "    </tr>\n",
       "  </thead>\n",
       "  <tbody>\n",
       "    <tr>\n",
       "      <th>0</th>\n",
       "      <td>0</td>\n",
       "      <td>51</td>\n",
       "      <td>37</td>\n",
       "      <td>11</td>\n",
       "      <td>81</td>\n",
       "      <td>32</td>\n",
       "      <td>74</td>\n",
       "      <td>63</td>\n",
       "      <td>75</td>\n",
       "      <td>9</td>\n",
       "      <td>27</td>\n",
       "      <td>4</td>\n",
       "    </tr>\n",
       "    <tr>\n",
       "      <th>1</th>\n",
       "      <td>1</td>\n",
       "      <td>25</td>\n",
       "      <td>3</td>\n",
       "      <td>81</td>\n",
       "      <td>4</td>\n",
       "      <td>10</td>\n",
       "      <td>46</td>\n",
       "      <td>37</td>\n",
       "      <td>5</td>\n",
       "      <td>65</td>\n",
       "      <td>60</td>\n",
       "      <td>4</td>\n",
       "    </tr>\n",
       "    <tr>\n",
       "      <th>2</th>\n",
       "      <td>2</td>\n",
       "      <td>99</td>\n",
       "      <td>53</td>\n",
       "      <td>24</td>\n",
       "      <td>11</td>\n",
       "      <td>26</td>\n",
       "      <td>81</td>\n",
       "      <td>9</td>\n",
       "      <td>88</td>\n",
       "      <td>79</td>\n",
       "      <td>32</td>\n",
       "      <td>3</td>\n",
       "    </tr>\n",
       "    <tr>\n",
       "      <th>3</th>\n",
       "      <td>3</td>\n",
       "      <td>1</td>\n",
       "      <td>94</td>\n",
       "      <td>0</td>\n",
       "      <td>95</td>\n",
       "      <td>31</td>\n",
       "      <td>5</td>\n",
       "      <td>39</td>\n",
       "      <td>30</td>\n",
       "      <td>8</td>\n",
       "      <td>58</td>\n",
       "      <td>2</td>\n",
       "    </tr>\n",
       "    <tr>\n",
       "      <th>4</th>\n",
       "      <td>4</td>\n",
       "      <td>52</td>\n",
       "      <td>0</td>\n",
       "      <td>46</td>\n",
       "      <td>92</td>\n",
       "      <td>25</td>\n",
       "      <td>2</td>\n",
       "      <td>45</td>\n",
       "      <td>15</td>\n",
       "      <td>41</td>\n",
       "      <td>38</td>\n",
       "      <td>4</td>\n",
       "    </tr>\n",
       "  </tbody>\n",
       "</table>\n",
       "</div>"
      ],
      "text/plain": [
       "   family_id  choice_0  choice_1  choice_2  choice_3  choice_4  choice_5  \\\n",
       "0          0        51        37        11        81        32        74   \n",
       "1          1        25         3        81         4        10        46   \n",
       "2          2        99        53        24        11        26        81   \n",
       "3          3         1        94         0        95        31         5   \n",
       "4          4        52         0        46        92        25         2   \n",
       "\n",
       "   choice_6  choice_7  choice_8  choice_9  n_people  \n",
       "0        63        75         9        27         4  \n",
       "1        37         5        65        60         4  \n",
       "2         9        88        79        32         3  \n",
       "3        39        30         8        58         2  \n",
       "4        45        15        41        38         4  "
      ]
     },
     "execution_count": 29,
     "metadata": {},
     "output_type": "execute_result"
    }
   ],
   "source": [
    "# 将日期全部减1，方便矩阵索引\n",
    "for col in data.drop(['family_id', 'n_people'], axis=1).columns:\n",
    "    data[col] = data[col] - 1\n",
    "data.head()"
   ]
  },
  {
   "cell_type": "code",
   "execution_count": 30,
   "metadata": {},
   "outputs": [],
   "source": [
    "# 计算每个家庭安排在某一天的 preference cost\n",
    "def get_family_pcost(choice, n_people):\n",
    "    # choice对应的pcost\n",
    "    temp_dict = {0:(0,0), 1:(50,0), 2:(50,9), 3:(100,9), 4:(200,9), 5:(200,28), 6:(300,18), 7:(300,36), 8:(400,36), 9:(500,235), 10:(500,425)}\n",
    "    return temp_dict[choice][0] + temp_dict[choice][1] * n_people\n",
    "    \n",
    "\n",
    "# 每个家庭安排在某一天的 preference cost\n",
    "family_pcost = np.ones(shape=(5000,100), dtype=np.int)    \n",
    "\n",
    "for row_data, n_people in zip(data.drop(['family_id', 'n_people'], axis=1).iterrows(), data['n_people']):\n",
    "    family_id, choice_days = row_data[0], row_data[1].values\n",
    "\n",
    "    # choice 0-9 计算\n",
    "    family_pcost[family_id, choice_days] = [get_family_pcost(x, n_people) for x in range(10)] \n",
    "    \n",
    "    # choice之外的日期计算\n",
    "    family_pcost[family_id][family_pcost[family_id] == 1] = get_family_pcost(10, n_people) "
   ]
  },
  {
   "cell_type": "code",
   "execution_count": 31,
   "metadata": {},
   "outputs": [
    {
     "data": {
      "text/plain": [
       "array([[0.        , 0.        , 0.        , ..., 0.        , 0.        ,\n",
       "        0.        ],\n",
       "       [0.        , 0.        , 0.        , ..., 0.        , 0.        ,\n",
       "        0.        ],\n",
       "       [0.        , 0.        , 0.        , ..., 0.        , 0.        ,\n",
       "        0.        ],\n",
       "       ...,\n",
       "       [0.        , 0.        , 0.        , ..., 7.46610759, 8.36716954,\n",
       "        9.37697794],\n",
       "       [0.        , 0.        , 0.        , ..., 8.4302077 , 7.52185316,\n",
       "        8.4302077 ],\n",
       "       [0.        , 0.        , 0.        , ..., 9.51970597, 8.49339085,\n",
       "        7.57772228]])"
      ]
     },
     "execution_count": 31,
     "metadata": {},
     "output_type": "execute_result"
    }
   ],
   "source": [
    "# 计算 accounting penalty 矩阵\n",
    "accounting_penalty = np.zeros(shape=(301, 301))\n",
    "\n",
    "for N_d in range(len(accounting_penalty)):\n",
    "    for N_d_1 in range(len(accounting_penalty)):\n",
    "        if N_d_1 < 125 or N_d < 125:\n",
    "            continue\n",
    "        else:\n",
    "            accounting_penalty[N_d, N_d_1] = (N_d - 125) / 400 * (N_d ** (0.5 + abs(N_d - N_d_1) / 50))\n",
    "\n",
    "accounting_penalty"
   ]
  },
  {
   "cell_type": "markdown",
   "metadata": {},
   "source": [
    "# 评判标准\n",
    "1. check：是否符合两个条件\n",
    "2. score：最终评分"
   ]
  },
  {
   "cell_type": "code",
   "execution_count": 32,
   "metadata": {},
   "outputs": [],
   "source": [
    "# 条件判断\n",
    "def check_family(df_assignment):\n",
    "    if df_assignment['family_id'].nunique() != 5000:\n",
    "        return False\n",
    "    else:\n",
    "        return True\n",
    "    \n",
    "def check_assigned_day(df_assignment, df_n_people):\n",
    "    temp = pd.merge(df_assignment, df_n_people, on='family_id').groupby('assigned_day')['n_people'].sum().values\n",
    "    if (temp < 125).any() or (temp > 300).any():\n",
    "        return False\n",
    "    else:\n",
    "        return True\n",
    "\n",
    "def check(df_assignment, df_n_people):\n",
    "    if check_family(df_assignment) and check_assigned_day(df_assignment, df_n_people):\n",
    "        return True\n",
    "    else:\n",
    "        return False"
   ]
  },
  {
   "cell_type": "code",
   "execution_count": 33,
   "metadata": {},
   "outputs": [],
   "source": [
    "# score 计算\n",
    "def score_preference_cost(df_assignment, family_pcost):\n",
    "    family_id_array = df_assignment['family_id'].values\n",
    "    family_cost_index = df_assignment['assigned_day'].values - 1\n",
    "    return family_pcost[family_id_array, family_cost_index].sum()\n",
    "\n",
    "def score_accounting_penalty(df_assignment, accounting_penalty, df_n_people):\n",
    "    N_d = pd.merge(df_assignment, df_n_people, on='family_id').groupby('assigned_day')['n_people'].sum().values\n",
    "    N_d = np.append(N_d, N_d[-1])\n",
    "    return np.array([accounting_penalty[N_d[x], N_d[x+1]] for x in range(len(N_d)-1)]).sum()\n",
    "\n",
    "def score(df_assignment, family_pcost, accounting_penalty, df_n_people):\n",
    "    return score_preference_cost(df_assignment, family_pcost) + score_accounting_penalty(df_assignment, accounting_penalty, df_n_people)"
   ]
  },
  {
   "cell_type": "code",
   "execution_count": 34,
   "metadata": {},
   "outputs": [],
   "source": [
    "# 最终评估\n",
    "def evaluate(df_assignment, family_pcost, accounting_penalty, df_n_people):\n",
    "    if not check(df_assignment, df_n_people):\n",
    "        return -1\n",
    "    else:\n",
    "        return score(df_assignment, family_pcost, accounting_penalty, df_n_people)"
   ]
  },
  {
   "cell_type": "code",
   "execution_count": 35,
   "metadata": {},
   "outputs": [
    {
     "data": {
      "text/plain": [
       "10473697.403135022"
      ]
     },
     "execution_count": 35,
     "metadata": {},
     "output_type": "execute_result"
    }
   ],
   "source": [
    "# test\n",
    "sub = pd.read_csv('./sample_submission.csv')\n",
    "evaluate(sub, family_pcost, accounting_penalty, data)"
   ]
  },
  {
   "cell_type": "markdown",
   "metadata": {},
   "source": [
    "# 随机求解"
   ]
  },
  {
   "cell_type": "code",
   "execution_count": 36,
   "metadata": {},
   "outputs": [],
   "source": [
    "import random"
   ]
  },
  {
   "cell_type": "code",
   "execution_count": 37,
   "metadata": {},
   "outputs": [
    {
     "name": "stdout",
     "output_type": "stream",
     "text": [
      "CPU times: user 2.26 s, sys: 17.3 ms, total: 2.28 s\n",
      "Wall time: 2.92 s\n"
     ]
    },
    {
     "data": {
      "text/plain": [
       "10473697.403135022"
      ]
     },
     "execution_count": 37,
     "metadata": {},
     "output_type": "execute_result"
    }
   ],
   "source": [
    "%%time\n",
    "\n",
    "sub_random = sub.copy()\n",
    "best_random_score = evaluate(sub, family_pcost, accounting_penalty, data)\n",
    "\n",
    "for i in range(100):\n",
    "    sub_random['assigned_day'] = np.array([random.randint(1, 100) for x in range(len(sub))])\n",
    "    result = evaluate(sub_random, family_pcost, accounting_penalty, data)\n",
    "    if result > 0:\n",
    "        if result < best_random_score:\n",
    "            best_random_score = result\n",
    "            best_random_assignment = sub_random.copy()\n",
    "    \n",
    "    print('round：{}'.format(i), end='\\r' ,flush = True)\n",
    "    \n",
    "best_random_score"
   ]
  },
  {
   "cell_type": "markdown",
   "metadata": {},
   "source": [
    "# 概率随机求解\n",
    "给予每个家庭前10的choice高概率"
   ]
  },
  {
   "cell_type": "code",
   "execution_count": 38,
   "metadata": {},
   "outputs": [],
   "source": [
    "def softmax(array):\n",
    "    return np.exp(array) / np.exp(array).sum(axis=1).reshape(-1, 1)"
   ]
  },
  {
   "cell_type": "code",
   "execution_count": 39,
   "metadata": {},
   "outputs": [
    {
     "name": "stdout",
     "output_type": "stream",
     "text": [
      "CPU times: user 27.1 s, sys: 13 ms, total: 27.1 s\n",
      "Wall time: 42.5 s\n"
     ]
    },
    {
     "data": {
      "text/plain": [
       "10384023.94306106"
      ]
     },
     "execution_count": 39,
     "metadata": {},
     "output_type": "execute_result"
    }
   ],
   "source": [
    "%%time\n",
    "\n",
    "temp = family_pcost.copy()\n",
    "temp[temp == 0] = 1\n",
    "temp = softmax(1/temp)\n",
    "\n",
    "sub_p_random = sub.copy()\n",
    "best_p_random_score = evaluate(sub, family_pcost, accounting_penalty, data)\n",
    "sep_list = [x for x in range(1, 101)]\n",
    "\n",
    "for i in range(100):\n",
    "    sub_p_random['assigned_day'] = np.array([np.random.choice(sep_list, p=temp[x]) for x in range(len(sub))])\n",
    "    result = evaluate(sub_p_random, family_pcost, accounting_penalty, data)\n",
    "    if result > 0:\n",
    "        if result < best_p_random_score:\n",
    "            best_p_random_score = result\n",
    "            best_p_random_assignment = sub_p_random.copy()\n",
    "    \n",
    "    print('round：{}'.format(i), end='\\r' ,flush = True)\n",
    "\n",
    "best_p_random_score"
   ]
  },
  {
   "cell_type": "markdown",
   "metadata": {},
   "source": [
    "# preference cost 线性规划求解"
   ]
  },
  {
   "cell_type": "code",
   "execution_count": 40,
   "metadata": {},
   "outputs": [],
   "source": [
    "from ortools.linear_solver import pywraplp\n",
    "from functools import reduce"
   ]
  },
  {
   "cell_type": "markdown",
   "metadata": {},
   "source": [
    "## 部分求解（线性求解）"
   ]
  },
  {
   "cell_type": "code",
   "execution_count": 48,
   "metadata": {},
   "outputs": [],
   "source": [
    "# 线性求节器\n",
    "solver = pywraplp.Solver('Santa', pywraplp.Solver.GLOP_LINEAR_PROGRAMMING)"
   ]
  },
  {
   "cell_type": "code",
   "execution_count": 49,
   "metadata": {},
   "outputs": [
    {
     "name": "stdout",
     "output_type": "stream",
     "text": [
      "变量个数： 500000\n"
     ]
    }
   ],
   "source": [
    "# 定义变量（0/1型，5000*100个，字典保存）\n",
    "x = {(i,j): solver.BoolVar('x({},{})'.format(i,j)) for i in range(5000) for j in range(100)}\n",
    "print('变量个数：', solver.NumVariables())"
   ]
  },
  {
   "cell_type": "code",
   "execution_count": 50,
   "metadata": {},
   "outputs": [
    {
     "name": "stdout",
     "output_type": "stream",
     "text": [
      "约束个数： 5398\n"
     ]
    }
   ],
   "source": [
    "# 约束1：每个家庭前10个choice只安排一次\n",
    "for i in range(5000):\n",
    "    family_seq = [x[(i,j)] for j in data.iloc[i].values[1:-1]]\n",
    "    solver.Add(reduce(lambda x,y: x+y, family_seq) == 1)\n",
    "\n",
    "# 约束2：每天访问人数在125到300之间\n",
    "family_n_people = data['n_people'].values\n",
    "for j in range(100):\n",
    "    people_per_day_seq = [x[(i,j)]*family_n_people[i] for i in range(5000)]\n",
    "    solver.Add(reduce(lambda x,y: x+y, people_per_day_seq) >= 125)\n",
    "    solver.Add(reduce(lambda x,y: x+y, people_per_day_seq) <= 300)\n",
    "\n",
    "# 约束3，前后两天访问人数相差不超过25人\n",
    "DIFF = 20\n",
    "current_day = [x[(i,0)]*family_n_people[i] for i in range(5000)]\n",
    "for j in range(1, 100):\n",
    "    next_day = [x[(i,j)]*family_n_people[i] for i in range(5000)]\n",
    "    diff = reduce(lambda x,y: x+y, next_day) - reduce(lambda x,y: x+y, current_day)\n",
    "    solver.Add(diff <= DIFF)\n",
    "    solver.Add(diff >= -DIFF)\n",
    "    current_day = next_day\n",
    "\n",
    "print('约束个数：', solver.NumConstraints())"
   ]
  },
  {
   "cell_type": "code",
   "execution_count": 51,
   "metadata": {
    "scrolled": true
   },
   "outputs": [
    {
     "name": "stdout",
     "output_type": "stream",
     "text": [
      "status: 0\n",
      "optimal: 76959.32142857143\n",
      "CPU times: user 32.7 s, sys: 347 ms, total: 33 s\n",
      "Wall time: 50 s\n"
     ]
    }
   ],
   "source": [
    "%%time\n",
    "\n",
    "# 优化问题求解（最小化）\n",
    "pcost = reduce(lambda x,y: x+y, [x[(i,j)]*family_pcost[i,j] for i in range(5000) for j in range(100)])\n",
    "\n",
    "solver.Minimize(pcost)\n",
    "status = solver.Solve()\n",
    "\n",
    "# 优化结果\n",
    "print('status:', status)\n",
    "print('optimal:', solver.Objective().Value())"
   ]
  },
  {
   "cell_type": "code",
   "execution_count": 56,
   "metadata": {
    "scrolled": true
   },
   "outputs": [
    {
     "data": {
      "text/html": [
       "<div>\n",
       "<style scoped>\n",
       "    .dataframe tbody tr th:only-of-type {\n",
       "        vertical-align: middle;\n",
       "    }\n",
       "\n",
       "    .dataframe tbody tr th {\n",
       "        vertical-align: top;\n",
       "    }\n",
       "\n",
       "    .dataframe thead th {\n",
       "        text-align: right;\n",
       "    }\n",
       "</style>\n",
       "<table border=\"1\" class=\"dataframe\">\n",
       "  <thead>\n",
       "    <tr style=\"text-align: right;\">\n",
       "      <th></th>\n",
       "      <th>family_id</th>\n",
       "      <th>assigned_day</th>\n",
       "    </tr>\n",
       "  </thead>\n",
       "  <tbody>\n",
       "    <tr>\n",
       "      <th>0</th>\n",
       "      <td>0</td>\n",
       "      <td>52</td>\n",
       "    </tr>\n",
       "    <tr>\n",
       "      <th>1</th>\n",
       "      <td>1</td>\n",
       "      <td>26</td>\n",
       "    </tr>\n",
       "    <tr>\n",
       "      <th>2</th>\n",
       "      <td>2</td>\n",
       "      <td>100</td>\n",
       "    </tr>\n",
       "    <tr>\n",
       "      <th>3</th>\n",
       "      <td>3</td>\n",
       "      <td>2</td>\n",
       "    </tr>\n",
       "    <tr>\n",
       "      <th>4</th>\n",
       "      <td>4</td>\n",
       "      <td>53</td>\n",
       "    </tr>\n",
       "    <tr>\n",
       "      <th>...</th>\n",
       "      <td>...</td>\n",
       "      <td>...</td>\n",
       "    </tr>\n",
       "    <tr>\n",
       "      <th>4931</th>\n",
       "      <td>4995</td>\n",
       "      <td>16</td>\n",
       "    </tr>\n",
       "    <tr>\n",
       "      <th>4932</th>\n",
       "      <td>4996</td>\n",
       "      <td>88</td>\n",
       "    </tr>\n",
       "    <tr>\n",
       "      <th>4933</th>\n",
       "      <td>4997</td>\n",
       "      <td>32</td>\n",
       "    </tr>\n",
       "    <tr>\n",
       "      <th>4934</th>\n",
       "      <td>4998</td>\n",
       "      <td>92</td>\n",
       "    </tr>\n",
       "    <tr>\n",
       "      <th>4935</th>\n",
       "      <td>4999</td>\n",
       "      <td>13</td>\n",
       "    </tr>\n",
       "  </tbody>\n",
       "</table>\n",
       "<p>4936 rows × 2 columns</p>\n",
       "</div>"
      ],
      "text/plain": [
       "      family_id  assigned_day\n",
       "0             0            52\n",
       "1             1            26\n",
       "2             2           100\n",
       "3             3             2\n",
       "4             4            53\n",
       "...         ...           ...\n",
       "4931       4995            16\n",
       "4932       4996            88\n",
       "4933       4997            32\n",
       "4934       4998            92\n",
       "4935       4999            13\n",
       "\n",
       "[4936 rows x 2 columns]"
      ]
     },
     "execution_count": 56,
     "metadata": {},
     "output_type": "execute_result"
    }
   ],
   "source": [
    "# 结果查看\n",
    "result_dict = {'family_id':[], 'assigned_day':[]}\n",
    "for i in range(5000):\n",
    "    for j in range(100):\n",
    "        if x[(i,j)].solution_value() > 0.9:\n",
    "            result_dict['family_id'].append(i)\n",
    "            result_dict['assigned_day'].append(j+1)\n",
    "\n",
    "df_result = pd.DataFrame(result_dict)\n",
    "df_result"
   ]
  },
  {
   "cell_type": "code",
   "execution_count": 57,
   "metadata": {},
   "outputs": [],
   "source": [
    "temp = df_result['family_id'].value_counts().sort_index()\n",
    "fail_family_id = temp[temp != 1].index.values\n",
    "succee_family_id = temp[temp == 1].index.values"
   ]
  },
  {
   "cell_type": "code",
   "execution_count": 62,
   "metadata": {},
   "outputs": [
    {
     "data": {
      "text/plain": [
       "64"
      ]
     },
     "execution_count": 62,
     "metadata": {},
     "output_type": "execute_result"
    }
   ],
   "source": [
    "len(fail_family_id)"
   ]
  },
  {
   "cell_type": "code",
   "execution_count": 25,
   "metadata": {},
   "outputs": [],
   "source": [
    "df_result_part_1 = df_result[df_result['family_id'].isin(succee_family_id)]"
   ]
  },
  {
   "cell_type": "markdown",
   "metadata": {},
   "source": [
    "## 余下未解部分（整型求解）"
   ]
  },
  {
   "cell_type": "code",
   "execution_count": 64,
   "metadata": {},
   "outputs": [],
   "source": [
    "# 整型线性求节器\n",
    "solver_int = pywraplp.Solver('Santa', pywraplp.Solver.CBC_MIXED_INTEGER_PROGRAMMING)"
   ]
  },
  {
   "cell_type": "code",
   "execution_count": 65,
   "metadata": {},
   "outputs": [
    {
     "name": "stdout",
     "output_type": "stream",
     "text": [
      "变量个数： 6400\n"
     ]
    }
   ],
   "source": [
    "# 定义变量\n",
    "x_int = {(i,j): solver_int.BoolVar('x_int({},{})'.format(i,j)) for i in fail_family_id for j in range(100)}\n",
    "print('变量个数：', solver_int.NumVariables())"
   ]
  },
  {
   "cell_type": "code",
   "execution_count": 66,
   "metadata": {},
   "outputs": [],
   "source": [
    "# 每天剩余容量\n",
    "occupancy = pd.merge(df_result_part_1, data[['family_id', 'n_people']], on='family_id').groupby('assigned_day')['n_people'].sum().values\n",
    "occupancy_max = 300 - occupancy\n",
    "occupancy_min = 125 - occupancy"
   ]
  },
  {
   "cell_type": "code",
   "execution_count": 67,
   "metadata": {},
   "outputs": [
    {
     "name": "stdout",
     "output_type": "stream",
     "text": [
      "约束个数： 462\n"
     ]
    }
   ],
   "source": [
    "# 约束1：每个家庭只安排一次\n",
    "for i in fail_family_id:\n",
    "    family_seq = [x_int[(i,j)] for j in range(100)]\n",
    "    solver_int.Add(reduce(lambda x,y: x+y, family_seq) == 1)\n",
    "\n",
    "# 约束2：每天访问人数在大于125，小于剩余量\n",
    "family_n_people = data['n_people'].values\n",
    "for j in range(100):\n",
    "    people_per_day_seq = [x_int[(i,j)]*family_n_people[i] for i in fail_family_id]\n",
    "    solver_int.Add(reduce(lambda x,y: x+y, people_per_day_seq) >= occupancy_min[j])\n",
    "    solver_int.Add(reduce(lambda x,y: x+y, people_per_day_seq) <= occupancy_max[j])\n",
    "\n",
    "# 约束3，前后两天访问人数相差不超过40人\n",
    "DIFF = 40\n",
    "current_day = [x_int[(i,0)]*family_n_people[i] for i in fail_family_id]\n",
    "for j in range(1, 100):\n",
    "    next_day = [x_int[(i,j)]*family_n_people[i] for i in fail_family_id]\n",
    "    diff = reduce(lambda x,y: x+y, next_day) - reduce(lambda x,y: x+y, current_day) + occupancy[j] - occupancy[j-1]\n",
    "    solver_int.Add(diff <= DIFF)\n",
    "    solver_int.Add(diff >= -DIFF)\n",
    "    current_day = next_day\n",
    "\n",
    "print('约束个数：', solver_int.NumConstraints())"
   ]
  },
  {
   "cell_type": "code",
   "execution_count": 68,
   "metadata": {},
   "outputs": [
    {
     "name": "stdout",
     "output_type": "stream",
     "text": [
      "status: 0\n",
      "optimal: 1301.0\n",
      "CPU times: user 1.29 s, sys: 90.8 ms, total: 1.38 s\n",
      "Wall time: 3 s\n"
     ]
    }
   ],
   "source": [
    "%%time\n",
    "\n",
    "# 优化问题求解（最小化）\n",
    "pcost = reduce(lambda x,y: x+y, [x_int[(i,j)]*family_pcost[i,j] for i in fail_family_id for j in range(100)])\n",
    "\n",
    "solver_int.Minimize(pcost)\n",
    "status = solver_int.Solve()\n",
    "\n",
    "# 优化结果\n",
    "print('status:', status)\n",
    "print('optimal:', solver_int.Objective().Value())"
   ]
  },
  {
   "cell_type": "code",
   "execution_count": 69,
   "metadata": {},
   "outputs": [
    {
     "data": {
      "text/html": [
       "<div>\n",
       "<style scoped>\n",
       "    .dataframe tbody tr th:only-of-type {\n",
       "        vertical-align: middle;\n",
       "    }\n",
       "\n",
       "    .dataframe tbody tr th {\n",
       "        vertical-align: top;\n",
       "    }\n",
       "\n",
       "    .dataframe thead th {\n",
       "        text-align: right;\n",
       "    }\n",
       "</style>\n",
       "<table border=\"1\" class=\"dataframe\">\n",
       "  <thead>\n",
       "    <tr style=\"text-align: right;\">\n",
       "      <th></th>\n",
       "      <th>family_id</th>\n",
       "      <th>assigned_day</th>\n",
       "    </tr>\n",
       "  </thead>\n",
       "  <tbody>\n",
       "    <tr>\n",
       "      <th>0</th>\n",
       "      <td>97</td>\n",
       "      <td>96</td>\n",
       "    </tr>\n",
       "    <tr>\n",
       "      <th>1</th>\n",
       "      <td>233</td>\n",
       "      <td>92</td>\n",
       "    </tr>\n",
       "    <tr>\n",
       "      <th>2</th>\n",
       "      <td>244</td>\n",
       "      <td>39</td>\n",
       "    </tr>\n",
       "    <tr>\n",
       "      <th>3</th>\n",
       "      <td>248</td>\n",
       "      <td>33</td>\n",
       "    </tr>\n",
       "    <tr>\n",
       "      <th>4</th>\n",
       "      <td>295</td>\n",
       "      <td>47</td>\n",
       "    </tr>\n",
       "    <tr>\n",
       "      <th>...</th>\n",
       "      <td>...</td>\n",
       "      <td>...</td>\n",
       "    </tr>\n",
       "    <tr>\n",
       "      <th>59</th>\n",
       "      <td>4898</td>\n",
       "      <td>46</td>\n",
       "    </tr>\n",
       "    <tr>\n",
       "      <th>60</th>\n",
       "      <td>4914</td>\n",
       "      <td>39</td>\n",
       "    </tr>\n",
       "    <tr>\n",
       "      <th>61</th>\n",
       "      <td>4918</td>\n",
       "      <td>59</td>\n",
       "    </tr>\n",
       "    <tr>\n",
       "      <th>62</th>\n",
       "      <td>4936</td>\n",
       "      <td>74</td>\n",
       "    </tr>\n",
       "    <tr>\n",
       "      <th>63</th>\n",
       "      <td>4979</td>\n",
       "      <td>14</td>\n",
       "    </tr>\n",
       "  </tbody>\n",
       "</table>\n",
       "<p>64 rows × 2 columns</p>\n",
       "</div>"
      ],
      "text/plain": [
       "    family_id  assigned_day\n",
       "0          97            96\n",
       "1         233            92\n",
       "2         244            39\n",
       "3         248            33\n",
       "4         295            47\n",
       "..        ...           ...\n",
       "59       4898            46\n",
       "60       4914            39\n",
       "61       4918            59\n",
       "62       4936            74\n",
       "63       4979            14\n",
       "\n",
       "[64 rows x 2 columns]"
      ]
     },
     "execution_count": 69,
     "metadata": {},
     "output_type": "execute_result"
    }
   ],
   "source": [
    "# 结果查看\n",
    "result_dict = {'family_id':[], 'assigned_day':[]}\n",
    "for i in fail_family_id:\n",
    "    for j in range(100):\n",
    "        if x_int[(i,j)].solution_value() != 0.0:\n",
    "            result_dict['family_id'].append(i)\n",
    "            result_dict['assigned_day'].append(j+1)\n",
    "\n",
    "df_result_part_2 = pd.DataFrame(result_dict)\n",
    "df_result_part_2"
   ]
  },
  {
   "cell_type": "markdown",
   "metadata": {},
   "source": [
    "# 合并结果"
   ]
  },
  {
   "cell_type": "code",
   "execution_count": 32,
   "metadata": {},
   "outputs": [
    {
     "name": "stdout",
     "output_type": "stream",
     "text": [
      "规划结果：$78489\n"
     ]
    }
   ],
   "source": [
    "df_finall = pd.concat([df_result_part_1, df_result_part_2], axis=0).sort_values('family_id').reset_index(drop=True)\n",
    "print('规划结果：${:.0f}'.format(evaluate(df_finall, family_pcost, accounting_penalty, data)))"
   ]
  },
  {
   "cell_type": "markdown",
   "metadata": {},
   "source": [
    "# 模型调优"
   ]
  },
  {
   "cell_type": "code",
   "execution_count": 59,
   "metadata": {
    "scrolled": false
   },
   "outputs": [
    {
     "name": "stdout",
     "output_type": "stream",
     "text": [
      "epoch:1, family_id:35  , day:31  --> 87 (choice_5), best_score:78487\n",
      "epoch:1, family_id:76  , day:79  --> 46 (choice_5), best_score:78463\n",
      "epoch:1, family_id:150 , day:72  --> 60 (choice_4), best_score:78349\n",
      "epoch:2, family_id:35  , day:31  --> 87 (choice_5), best_score:78348\n",
      "epoch:2, family_id:76  , day:79  --> 46 (choice_5), best_score:78324\n",
      "epoch:2, family_id:217 , day:5   --> 38 (choice_2), best_score:78297\n",
      "epoch:2, family_id:402 , day:63  --> 25 (choice_6), best_score:78272\n",
      "epoch:2, family_id:620 , day:79  --> 52 (choice_6), best_score:78227\n",
      "epoch:2, family_id:4151, day:69  --> 68 (choice_3), best_score:78226\n",
      "epoch:3, family_id:35  , day:31  --> 87 (choice_5), best_score:78224\n",
      "epoch:3, family_id:76  , day:79  --> 46 (choice_5), best_score:78200\n",
      "epoch:3, family_id:217 , day:5   --> 38 (choice_2), best_score:78173\n",
      "epoch:3, family_id:402 , day:63  --> 25 (choice_6), best_score:78149\n",
      "epoch:3, family_id:620 , day:79  --> 52 (choice_6), best_score:78104\n",
      "epoch:4, family_id:35  , day:31  --> 87 (choice_5), best_score:78102\n",
      "epoch:4, family_id:76  , day:79  --> 46 (choice_5), best_score:78076\n",
      "epoch:4, family_id:217 , day:5   --> 38 (choice_2), best_score:78051\n",
      "epoch:4, family_id:402 , day:63  --> 25 (choice_6), best_score:78027\n",
      "epoch:4, family_id:3423, day:72  --> 25 (choice_9), best_score:78024\n",
      "epoch:5, family_id:35  , day:31  --> 87 (choice_5), best_score:78023\n",
      "epoch:5, family_id:76  , day:79  --> 46 (choice_5), best_score:77997\n",
      "epoch:5, family_id:217 , day:5   --> 38 (choice_2), best_score:77972\n",
      "epoch:5, family_id:1475, day:72  --> 94 (choice_6), best_score:77955\n",
      "epoch:5, family_id:1727, day:90  --> 95 (choice_5), best_score:77949\n",
      "epoch:6, family_id:35  , day:31  --> 87 (choice_5), best_score:77948\n",
      "epoch:6, family_id:76  , day:79  --> 46 (choice_5), best_score:77922\n",
      "epoch:6, family_id:217 , day:5   --> 38 (choice_2), best_score:77897\n",
      "epoch:6, family_id:1475, day:72  --> 94 (choice_6), best_score:77880\n",
      "epoch:6, family_id:1889, day:76  --> 75 (choice_3), best_score:77878\n",
      "epoch:7, family_id:35  , day:31  --> 87 (choice_5), best_score:77877\n",
      "epoch:7, family_id:76  , day:79  --> 46 (choice_5), best_score:77851\n",
      "epoch:7, family_id:217 , day:5   --> 38 (choice_2), best_score:77826\n",
      "epoch:7, family_id:1475, day:72  --> 94 (choice_6), best_score:77808\n",
      "epoch:8, family_id:35  , day:31  --> 87 (choice_5), best_score:77807\n",
      "epoch:8, family_id:76  , day:79  --> 46 (choice_5), best_score:77781\n",
      "epoch:8, family_id:217 , day:5   --> 38 (choice_2), best_score:77756\n",
      "epoch:8, family_id:1596, day:36  --> 95 (choice_1), best_score:77750\n",
      "epoch:8, family_id:4090, day:5   --> 7  (choice_9), best_score:77746\n",
      "epoch:9, family_id:35  , day:31  --> 87 (choice_5), best_score:77744\n",
      "epoch:9, family_id:76  , day:79  --> 46 (choice_5), best_score:77718\n",
      "epoch:9, family_id:462 , day:58  --> 80 (choice_4), best_score:77713\n",
      "epoch:9, family_id:703 , day:56  --> 66 (choice_8), best_score:77702\n",
      "epoch:9, family_id:1444, day:42  --> 81 (choice_6), best_score:77699\n",
      "epoch:9, family_id:1596, day:36  --> 95 (choice_1), best_score:77688\n",
      "epoch:9, family_id:4244, day:65  --> 46 (choice_1), best_score:77685\n",
      "epoch:10, family_id:35  , day:31  --> 87 (choice_5), best_score:77683\n",
      "epoch:10, family_id:76  , day:79  --> 46 (choice_5), best_score:77667\n",
      "epoch:10, family_id:462 , day:58  --> 80 (choice_4), best_score:77652\n",
      "epoch:10, family_id:703 , day:56  --> 66 (choice_8), best_score:77641\n",
      "epoch:10, family_id:1444, day:42  --> 81 (choice_6), best_score:77639\n",
      "epoch:10, family_id:1596, day:36  --> 95 (choice_1), best_score:77627\n",
      "epoch:11, family_id:35  , day:31  --> 87 (choice_5), best_score:77625\n",
      "epoch:11, family_id:76  , day:79  --> 46 (choice_5), best_score:77609\n",
      "epoch:11, family_id:462 , day:58  --> 80 (choice_4), best_score:77594\n",
      "epoch:11, family_id:703 , day:56  --> 66 (choice_8), best_score:77583\n",
      "epoch:11, family_id:1444, day:42  --> 81 (choice_6), best_score:77581\n",
      "epoch:11, family_id:1704, day:9   --> 60 (choice_2), best_score:77578\n",
      "epoch:12, family_id:35  , day:31  --> 87 (choice_5), best_score:77577\n",
      "epoch:12, family_id:76  , day:79  --> 46 (choice_5), best_score:77561\n",
      "epoch:12, family_id:462 , day:58  --> 80 (choice_4), best_score:77545\n",
      "epoch:12, family_id:703 , day:56  --> 66 (choice_8), best_score:77534\n",
      "epoch:12, family_id:1444, day:42  --> 81 (choice_6), best_score:77532\n",
      "epoch:13, family_id:35  , day:31  --> 87 (choice_5), best_score:77531\n",
      "epoch:13, family_id:76  , day:79  --> 46 (choice_5), best_score:77514\n",
      "epoch:13, family_id:462 , day:58  --> 80 (choice_4), best_score:77495\n",
      "epoch:13, family_id:703 , day:56  --> 66 (choice_8), best_score:77488\n",
      "epoch:13, family_id:1569, day:63  --> 52 (choice_6), best_score:77488\n",
      "epoch:14, family_id:35  , day:31  --> 87 (choice_5), best_score:77486\n",
      "epoch:14, family_id:76  , day:79  --> 46 (choice_5), best_score:77470\n",
      "epoch:14, family_id:462 , day:58  --> 80 (choice_4), best_score:77450\n",
      "epoch:14, family_id:703 , day:56  --> 66 (choice_8), best_score:77444\n",
      "epoch:14, family_id:3412, day:97  --> 1  (choice_3), best_score:77443\n",
      "epoch:15, family_id:35  , day:31  --> 87 (choice_5), best_score:77442\n",
      "epoch:15, family_id:76  , day:79  --> 46 (choice_5), best_score:77426\n",
      "epoch:15, family_id:462 , day:58  --> 80 (choice_4), best_score:77406\n",
      "epoch:15, family_id:703 , day:56  --> 66 (choice_8), best_score:77399\n",
      "epoch:16, family_id:35  , day:31  --> 87 (choice_5), best_score:77398\n",
      "epoch:16, family_id:76  , day:79  --> 46 (choice_5), best_score:77382\n",
      "epoch:16, family_id:462 , day:58  --> 80 (choice_4), best_score:77362\n",
      "epoch:16, family_id:1912, day:90  --> 59 (choice_0), best_score:77361\n",
      "epoch:16, family_id:1912, day:90  --> 58 (choice_1), best_score:77361\n",
      "epoch:16, family_id:3234, day:43  --> 73 (choice_2), best_score:77359\n",
      "epoch:17, family_id:35  , day:31  --> 87 (choice_5), best_score:77357\n",
      "epoch:17, family_id:76  , day:79  --> 46 (choice_5), best_score:77341\n",
      "epoch:17, family_id:462 , day:58  --> 80 (choice_4), best_score:77321\n",
      "epoch:17, family_id:1912, day:90  --> 59 (choice_0), best_score:77321\n",
      "epoch:17, family_id:1912, day:90  --> 58 (choice_1), best_score:77320\n",
      "epoch:17, family_id:3280, day:37  --> 88 (choice_8), best_score:77319\n",
      "epoch:18, family_id:35  , day:31  --> 87 (choice_5), best_score:77315\n",
      "epoch:18, family_id:76  , day:79  --> 46 (choice_5), best_score:77301\n",
      "epoch:18, family_id:462 , day:58  --> 80 (choice_4), best_score:77282\n",
      "epoch:18, family_id:1912, day:90  --> 59 (choice_0), best_score:77281\n",
      "epoch:18, family_id:1912, day:90  --> 58 (choice_1), best_score:77280\n",
      "epoch:19, family_id:35  , day:31  --> 87 (choice_5), best_score:77277\n",
      "epoch:19, family_id:76  , day:79  --> 46 (choice_5), best_score:77263\n",
      "epoch:19, family_id:462 , day:58  --> 80 (choice_4), best_score:77231\n",
      "epoch:20, family_id:35  , day:31  --> 87 (choice_5), best_score:77227\n",
      "epoch:20, family_id:76  , day:79  --> 46 (choice_5), best_score:77212\n",
      "epoch:20, family_id:1115, day:31  --> 96 (choice_6), best_score:77203\n",
      "epoch:20, family_id:1878, day:50  --> 73 (choice_4), best_score:77198\n",
      "epoch:20, family_id:2896, day:16  --> 48 (choice_4), best_score:77197\n",
      "epoch:20, family_id:3099, day:83  --> 96 (choice_3), best_score:77192\n",
      "epoch:21, family_id:35  , day:31  --> 87 (choice_5), best_score:77189\n",
      "epoch:21, family_id:76  , day:79  --> 46 (choice_5), best_score:77174\n",
      "epoch:21, family_id:1115, day:31  --> 96 (choice_6), best_score:77174\n",
      "epoch:21, family_id:1369, day:93  --> 87 (choice_8), best_score:77167\n",
      "epoch:21, family_id:1878, day:50  --> 73 (choice_4), best_score:77160\n",
      "epoch:21, family_id:2896, day:16  --> 48 (choice_4), best_score:77158\n",
      "epoch:21, family_id:3390, day:65  --> 95 (choice_8), best_score:77158\n",
      "epoch:21, family_id:3498, day:79  --> 48 (choice_3), best_score:77154\n",
      "epoch:22, family_id:35  , day:31  --> 87 (choice_5), best_score:77151\n",
      "epoch:22, family_id:76  , day:79  --> 46 (choice_5), best_score:77132\n",
      "epoch:22, family_id:1369, day:93  --> 87 (choice_8), best_score:77129\n",
      "epoch:22, family_id:1878, day:50  --> 73 (choice_4), best_score:77122\n",
      "epoch:22, family_id:3390, day:65  --> 95 (choice_8), best_score:77120\n",
      "epoch:22, family_id:4485, day:86  --> 18 (choice_9), best_score:77118\n",
      "epoch:23, family_id:35  , day:31  --> 87 (choice_5), best_score:77116\n",
      "epoch:23, family_id:76  , day:79  --> 46 (choice_5), best_score:77096\n"
     ]
    },
    {
     "name": "stdout",
     "output_type": "stream",
     "text": [
      "epoch:23, family_id:1369, day:93  --> 87 (choice_8), best_score:77094\n",
      "epoch:23, family_id:1878, day:50  --> 73 (choice_4), best_score:77086\n",
      "epoch:23, family_id:3390, day:65  --> 95 (choice_8), best_score:77084\n",
      "epoch:24, family_id:35  , day:31  --> 87 (choice_5), best_score:77081\n",
      "epoch:24, family_id:76  , day:79  --> 46 (choice_5), best_score:77061\n",
      "epoch:24, family_id:1115, day:31  --> 96 (choice_6), best_score:77060\n",
      "epoch:24, family_id:1369, day:93  --> 87 (choice_8), best_score:77059\n",
      "epoch:24, family_id:1878, day:50  --> 73 (choice_4), best_score:77051\n",
      "epoch:25, family_id:35  , day:31  --> 87 (choice_5), best_score:77049\n",
      "epoch:25, family_id:76  , day:79  --> 46 (choice_5), best_score:77029\n",
      "epoch:25, family_id:1115, day:31  --> 96 (choice_6), best_score:77027\n",
      "epoch:25, family_id:1369, day:93  --> 87 (choice_8), best_score:77027\n",
      "epoch:25, family_id:3710, day:69  --> 73 (choice_7), best_score:77020\n",
      "epoch:26, family_id:35  , day:31  --> 87 (choice_5), best_score:77018\n",
      "epoch:26, family_id:76  , day:79  --> 46 (choice_5), best_score:76998\n",
      "epoch:26, family_id:1115, day:31  --> 96 (choice_6), best_score:76996\n",
      "epoch:26, family_id:1369, day:93  --> 87 (choice_8), best_score:76996\n",
      "epoch:26, family_id:4434, day:44  --> 66 (choice_3), best_score:76994\n",
      "epoch:26, family_id:4958, day:65  --> 2  (choice_3), best_score:76989\n",
      "epoch:27, family_id:35  , day:31  --> 87 (choice_5), best_score:76987\n",
      "epoch:27, family_id:76  , day:79  --> 46 (choice_5), best_score:76967\n",
      "epoch:27, family_id:1115, day:31  --> 96 (choice_6), best_score:76965\n",
      "epoch:27, family_id:1369, day:93  --> 87 (choice_8), best_score:76965\n",
      "epoch:27, family_id:4434, day:44  --> 66 (choice_3), best_score:76960\n",
      "epoch:28, family_id:35  , day:31  --> 87 (choice_5), best_score:76958\n",
      "epoch:28, family_id:76  , day:79  --> 46 (choice_5), best_score:76938\n",
      "epoch:28, family_id:1115, day:31  --> 96 (choice_6), best_score:76936\n",
      "epoch:28, family_id:1369, day:93  --> 87 (choice_8), best_score:76936\n",
      "epoch:29, family_id:76  , day:79  --> 46 (choice_5), best_score:76914\n",
      "epoch:29, family_id:1115, day:31  --> 96 (choice_6), best_score:76912\n",
      "epoch:30, family_id:76  , day:79  --> 46 (choice_5), best_score:76890\n",
      "epoch:30, family_id:2049, day:30  --> 94 (choice_4), best_score:76875\n",
      "epoch:31, family_id:76  , day:79  --> 46 (choice_5), best_score:76853\n",
      "epoch:31, family_id:1791, day:27  --> 30 (choice_9), best_score:76851\n",
      "epoch:32, family_id:76  , day:79  --> 46 (choice_5), best_score:76828\n",
      "epoch:32, family_id:4431, day:30  --> 67 (choice_1), best_score:76820\n",
      "epoch:33, family_id:76  , day:79  --> 46 (choice_5), best_score:76798\n",
      "epoch:34, family_id:908 , day:90  --> 95 (choice_7), best_score:76790\n",
      "epoch:34, family_id:1858, day:14  --> 59 (choice_2), best_score:76786\n",
      "epoch:34, family_id:3480, day:83  --> 32 (choice_5), best_score:76782\n",
      "epoch:34, family_id:4763, day:49  --> 66 (choice_9), best_score:76778\n",
      "epoch:35, family_id:908 , day:90  --> 95 (choice_7), best_score:76770\n",
      "epoch:35, family_id:1858, day:14  --> 59 (choice_2), best_score:76766\n",
      "epoch:35, family_id:3480, day:83  --> 32 (choice_5), best_score:76761\n",
      "epoch:36, family_id:908 , day:90  --> 95 (choice_7), best_score:76754\n",
      "epoch:36, family_id:1858, day:14  --> 59 (choice_2), best_score:76750\n",
      "epoch:36, family_id:4686, day:24  --> 80 (choice_5), best_score:76749\n",
      "epoch:37, family_id:908 , day:90  --> 95 (choice_7), best_score:76742\n",
      "epoch:37, family_id:1858, day:14  --> 59 (choice_2), best_score:76738\n",
      "epoch:38, family_id:908 , day:90  --> 95 (choice_7), best_score:76730\n",
      "epoch:38, family_id:2326, day:23  --> 87 (choice_4), best_score:76728\n",
      "epoch:38, family_id:4809, day:51  --> 73 (choice_9), best_score:76727\n",
      "epoch:39, family_id:78  , day:52  --> 53 (choice_7), best_score:76720\n",
      "epoch:39, family_id:2326, day:23  --> 87 (choice_4), best_score:76718\n",
      "epoch:39, family_id:3447, day:52  --> 38 (choice_8), best_score:76712\n",
      "epoch:40, family_id:908 , day:90  --> 95 (choice_7), best_score:76705\n",
      "epoch:40, family_id:2326, day:23  --> 87 (choice_4), best_score:76703\n",
      "epoch:41, family_id:908 , day:90  --> 95 (choice_7), best_score:76695\n",
      "epoch:41, family_id:2019, day:22  --> 94 (choice_9), best_score:76685\n",
      "epoch:42, family_id:908 , day:90  --> 95 (choice_7), best_score:76675\n",
      "epoch:43, family_id:2390, day:44  --> 67 (choice_9), best_score:76669\n",
      "epoch:44, family_id:3233, day:20  --> 18 (choice_6), best_score:76664\n",
      "epoch:45, family_id:4139, day:46  --> 80 (choice_6), best_score:76662\n",
      "epoch:46, family_id:3181, day:14  --> 46 (choice_3), best_score:76660\n",
      "epoch:47 id:4999\r"
     ]
    }
   ],
   "source": [
    "# 每个家庭重新选择前10个choice\n",
    "epoch = 0\n",
    "best_score = evaluate(df_finall, family_pcost, accounting_penalty, data)\n",
    "best_assigned = df_finall.copy()\n",
    "fine_tune_data = data.drop(['n_people', 'family_id'], axis=1).values\n",
    "stop = 1\n",
    "\n",
    "while stop > 0:\n",
    "    epoch += 1\n",
    "    stop = 0\n",
    "    \n",
    "    df_current = best_assigned.copy()\n",
    "    \n",
    "    for index, iter_data in df_current.iterrows():\n",
    "        temp = iter_data[1]\n",
    "        \n",
    "        for i in range(10):\n",
    "            choice_day = fine_tune_data[index, i]\n",
    "            iter_data[1] = choice_day\n",
    "            current_score = evaluate(df_current, family_pcost, accounting_penalty, data)\n",
    "            \n",
    "            if current_score < best_score and current_score > 0:\n",
    "                stop += 1\n",
    "                best_score = current_score\n",
    "                best_assigned = df_current.copy()\n",
    "                print('epoch:{}, family_id:{:<4}, day:{:<3} --> {:<3}(choice_{}), best_score:{:.0f}'.format(epoch, index, temp, choice_day, i, best_score))\n",
    "            \n",
    "            print('epoch:{} id:{}'.format(epoch, index), end='\\r', flush=True)\n",
    "            \n",
    "        iter_data[1] = temp\n",
    "        \n",
    "            "
   ]
  },
  {
   "cell_type": "code",
   "execution_count": 187,
   "metadata": {},
   "outputs": [
    {
     "data": {
      "text/plain": [
       "76659.74215728356"
      ]
     },
     "execution_count": 187,
     "metadata": {},
     "output_type": "execute_result"
    }
   ],
   "source": [
    "evaluate(best_assigned, family_pcost, accounting_penalty, data)"
   ]
  },
  {
   "cell_type": "code",
   "execution_count": 188,
   "metadata": {},
   "outputs": [
    {
     "data": {
      "image/png": "[encoded data removed]",
      "text/plain": [
       "<Figure size 1224x432 with 1 Axes>"
      ]
     },
     "metadata": {
      "needs_background": "light"
     },
     "output_type": "display_data"
    }
   ],
   "source": [
    "temp_best_assigned = pd.merge(best_assigned, data, on='family_id')\n",
    "\n",
    "plt.figure(figsize=(17, 6))\n",
    "plt.bar([x for x in range(1, 101)], temp_best_assigned.groupby('assigned_day')['n_people'].sum().values, width=0.6, label='otherwise')\n",
    "\n",
    "assign_day = temp_best_assigned['assigned_day'].values\n",
    "choice = temp_best_assigned.drop(['assigned_day', 'n_people', 'family_id', 'n_people'], axis=1).values\n",
    "\n",
    "in_choice = []\n",
    "for i, j in zip(assign_day, choice):\n",
    "    if i in j:\n",
    "        in_choice.append(1)\n",
    "    else:\n",
    "        in_choice.append(0)\n",
    "        \n",
    "temp_best_assigned['in_choice'] = in_choice\n",
    "in_choice_data = temp_best_assigned[temp_best_assigned['in_choice'] == 1].groupby('assigned_day')['n_people'].sum().reset_index()\n",
    "index = in_choice_data['assigned_day']\n",
    "in_choice_data_array = np.zeros(100)\n",
    "in_choice_data_array[in_choice_data['assigned_day'].values] = in_choice_data['n_people'].values\n",
    "plt.bar([x for x in range(1, 101)], in_choice_data_array, label='in_choice', width=0.6)\n",
    "\n",
    "plt.hlines(temp_best_assigned['n_people'].sum() / 100, 1, 100, colors='r', linestyles='--', label='人均每天')\n",
    "plt.xticks(ticks=[x for x in range(1, 101)], labels=[x for x in range(1, 101)])\n",
    "plt.legend()\n",
    "plt.show()"
   ]
  }
 ],
 "metadata": {
  "kernelspec": {
   "display_name": "Python 3",
   "language": "python",
   "name": "python3"
  },
  "language_info": {
   "codemirror_mode": {
    "name": "ipython",
    "version": 3
   },
   "file_extension": ".py",
   "mimetype": "text/x-python",
   "name": "python",
   "nbconvert_exporter": "python",
   "pygments_lexer": "ipython3",
   "version": "3.7.6"
  }
 },
 "nbformat": 4,
 "nbformat_minor": 4
}
