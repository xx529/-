{
 "cells": [
  {
   "cell_type": "markdown",
   "metadata": {},
   "source": [
    "## 业务场景"
   ]
  },
  {
   "cell_type": "markdown",
   "metadata": {},
   "source": [
    "我们有员工的各种统计信息，以及该员工是否已经离职，统计的信息包括了（工资、出差、工作环境满意度、工作投入度、是否加班、是否升职、工资提升比例等）现在需要你来通过训练数据得出 员工离职预测。"
   ]
  },
  {
   "cell_type": "markdown",
   "metadata": {},
   "source": [
    "|字段|解释|含义\n",
    "--|--|--\n",
    "Age|\t员工年龄\n",
    "Attrition|\t员工是否已经离职|Yes表示离职，No表示未离职\n",
    "BusinessTravel|\t商务差旅频率|Non-Travel不出差，TravelRarely不经常出差，TravelFrequently经常出差\n",
    "DailyRate|\t平均每日工资\n",
    "Department|\t员工所在部门|Sales销售部，Research & Development研发部，HumanResources人力资源部\t\n",
    "DistanceFromHome|\t公司跟家庭住址的距离|从1到29，1表示最近，29表示最远\n",
    "Education|\t员工的教育程度|从1到5，5表示教育程度最高\n",
    "EducationField|\t员工所学习的专业领域|Life Sciences表示生命科学，Medical表示医疗，Marketing表示市场营销，Technical Degree表示技术学位，Human Resources表示人力资源，Other表示其他\n",
    "EmployeeNumber|\t员工号码\n",
    "EnvironmentSatisfaction|\t员工对于工作环境的满意程度|从1到4，1的满意程度最低，4的满意程度最高\n",
    "Gender|\t员工性别|Male表示男性，Female表示女性\n",
    "JobInvolvement|\t员工工作投入度|从1到4，1为投入度最低，4为投入度最高\n",
    "JobLevel|\t职业级别|从1到5，1为最低级别，5为最高级别\n",
    "JobRole|\t工作角色|Sales Executive销售主管，Research Scientist科学研究员，Laboratory Technician实验室技术员，Manufacturing Director制造总监，Healthcare Representative医疗代表，Manager经理，Sales Representative销售代表，Research Director研究总监，Human Resources人力资源\n",
    "JobSatisfaction|\t工作满意度|从1到4，1代表满意度最低，4代表最高\n",
    "MaritalStatus|\t员工婚姻状况|Single单身，Married已婚，Divorced离婚\n",
    "MonthlyIncome|\t员工月收入|范围在1009到19999之间\n",
    "NumCompaniesWorked|\t员工曾经工作过的公司数\n",
    "Over18|\t年龄是否超过18岁\n",
    "OverTime|\t是否加班|Yes表示加班，No表示不加班\n",
    "PercentSalaryHike|\t工资提高的百分比\n",
    "PerformanceRating|\t绩效评估\n",
    "RelationshipSatisfaction|\t关系满意度|从1到4，1表示满意度最低，4表示满意度最高\n",
    "StandardHours|\t标准工时\n",
    "StockOptionLevel|\t股票期权水平\n",
    "TotalWorkingYears|\t总工龄\n",
    "TrainingTimesLastYear|\t上一年的培训时长|从0到6，0表示没有培训，6表示培训时间最长\n",
    "WorkLifeBalance|\t工作与生活平衡程度|从1到4，1表示平衡程度最低，4表示平衡程度最高\n",
    "YearsAtCompany|\t在目前公司工作年数\n",
    "YearsInCurrentRole|\t在目前工作职责的工作年数\n",
    "YearsSinceLastPromotion|\t距离上次升职时长\n",
    "YearsWithCurrManager|\t跟目前的管理者共事年数"
   ]
  },
  {
   "cell_type": "code",
   "execution_count": 85,
   "metadata": {},
   "outputs": [],
   "source": [
    "from itertools import product\n",
    "import pandas as pd\n",
    "import numpy as np\n",
    "import matplotlib.pyplot as plt\n",
    "from sklearn.preprocessing import MinMaxScaler\n",
    "from sklearn.preprocessing import StandardScaler\n",
    "from sklearn.model_selection import train_test_split\n",
    "from sklearn.tree import DecisionTreeClassifier\n",
    "from sklearn.ensemble import RandomForestClassifier\n",
    "from sklearn.svm import SVC\n",
    "from sklearn.neighbors import KNeighborsClassifier\n",
    "from sklearn.linear_model import LogisticRegression\n",
    "from sklearn.naive_bayes import BernoulliNB\n",
    "from sklearn.linear_model import RidgeClassifier\n",
    "from sklearn.model_selection import cross_val_score\n",
    "from sklearn.ensemble import AdaBoostClassifier\n",
    "from sklearn.metrics import roc_curve\n",
    "from sklearn.metrics import auc\n",
    "from sklearn.metrics import recall_score\n",
    "from sklearn.metrics import f1_score\n",
    "plt.rcParams['font.sans-serif'] = ['SimHei']"
   ]
  },
  {
   "cell_type": "markdown",
   "metadata": {},
   "source": [
    "## 数据获取"
   ]
  },
  {
   "cell_type": "code",
   "execution_count": 2,
   "metadata": {
    "scrolled": true
   },
   "outputs": [
    {
     "data": {
      "text/html": [
       "<div>\n",
       "<style scoped>\n",
       "    .dataframe tbody tr th:only-of-type {\n",
       "        vertical-align: middle;\n",
       "    }\n",
       "\n",
       "    .dataframe tbody tr th {\n",
       "        vertical-align: top;\n",
       "    }\n",
       "\n",
       "    .dataframe thead th {\n",
       "        text-align: right;\n",
       "    }\n",
       "</style>\n",
       "<table border=\"1\" class=\"dataframe\">\n",
       "  <thead>\n",
       "    <tr style=\"text-align: right;\">\n",
       "      <th></th>\n",
       "      <th>user_id</th>\n",
       "      <th>Age</th>\n",
       "      <th>Attrition</th>\n",
       "      <th>BusinessTravel</th>\n",
       "      <th>DailyRate</th>\n",
       "      <th>Department</th>\n",
       "      <th>DistanceFromHome</th>\n",
       "      <th>Education</th>\n",
       "      <th>EducationField</th>\n",
       "      <th>EmployeeCount</th>\n",
       "      <th>...</th>\n",
       "      <th>StandardHours</th>\n",
       "      <th>StockOptionLevel</th>\n",
       "      <th>TotalWorkingYears</th>\n",
       "      <th>TrainingTimesLastYear</th>\n",
       "      <th>WorkLifeBalance</th>\n",
       "      <th>YearsAtCompany</th>\n",
       "      <th>YearsInCurrentRole</th>\n",
       "      <th>YearsSinceLastPromotion</th>\n",
       "      <th>YearsWithCurrManager</th>\n",
       "      <th>train_or_test</th>\n",
       "    </tr>\n",
       "  </thead>\n",
       "  <tbody>\n",
       "    <tr>\n",
       "      <th>0</th>\n",
       "      <td>1374</td>\n",
       "      <td>58</td>\n",
       "      <td>No</td>\n",
       "      <td>Travel_Rarely</td>\n",
       "      <td>605</td>\n",
       "      <td>Sales</td>\n",
       "      <td>21</td>\n",
       "      <td>3</td>\n",
       "      <td>Life Sciences</td>\n",
       "      <td>1</td>\n",
       "      <td>...</td>\n",
       "      <td>80</td>\n",
       "      <td>1</td>\n",
       "      <td>29</td>\n",
       "      <td>2</td>\n",
       "      <td>2</td>\n",
       "      <td>1</td>\n",
       "      <td>0</td>\n",
       "      <td>0</td>\n",
       "      <td>0</td>\n",
       "      <td>1</td>\n",
       "    </tr>\n",
       "    <tr>\n",
       "      <th>1</th>\n",
       "      <td>1092</td>\n",
       "      <td>45</td>\n",
       "      <td>No</td>\n",
       "      <td>Travel_Rarely</td>\n",
       "      <td>950</td>\n",
       "      <td>Research &amp; Development</td>\n",
       "      <td>28</td>\n",
       "      <td>3</td>\n",
       "      <td>Technical Degree</td>\n",
       "      <td>1</td>\n",
       "      <td>...</td>\n",
       "      <td>80</td>\n",
       "      <td>1</td>\n",
       "      <td>8</td>\n",
       "      <td>3</td>\n",
       "      <td>3</td>\n",
       "      <td>5</td>\n",
       "      <td>4</td>\n",
       "      <td>0</td>\n",
       "      <td>3</td>\n",
       "      <td>1</td>\n",
       "    </tr>\n",
       "    <tr>\n",
       "      <th>2</th>\n",
       "      <td>768</td>\n",
       "      <td>40</td>\n",
       "      <td>No</td>\n",
       "      <td>Travel_Rarely</td>\n",
       "      <td>300</td>\n",
       "      <td>Sales</td>\n",
       "      <td>26</td>\n",
       "      <td>3</td>\n",
       "      <td>Marketing</td>\n",
       "      <td>1</td>\n",
       "      <td>...</td>\n",
       "      <td>80</td>\n",
       "      <td>1</td>\n",
       "      <td>8</td>\n",
       "      <td>3</td>\n",
       "      <td>2</td>\n",
       "      <td>7</td>\n",
       "      <td>7</td>\n",
       "      <td>7</td>\n",
       "      <td>5</td>\n",
       "      <td>1</td>\n",
       "    </tr>\n",
       "    <tr>\n",
       "      <th>3</th>\n",
       "      <td>569</td>\n",
       "      <td>36</td>\n",
       "      <td>No</td>\n",
       "      <td>Non-Travel</td>\n",
       "      <td>1434</td>\n",
       "      <td>Sales</td>\n",
       "      <td>8</td>\n",
       "      <td>4</td>\n",
       "      <td>Life Sciences</td>\n",
       "      <td>1</td>\n",
       "      <td>...</td>\n",
       "      <td>80</td>\n",
       "      <td>0</td>\n",
       "      <td>10</td>\n",
       "      <td>1</td>\n",
       "      <td>3</td>\n",
       "      <td>10</td>\n",
       "      <td>7</td>\n",
       "      <td>0</td>\n",
       "      <td>9</td>\n",
       "      <td>1</td>\n",
       "    </tr>\n",
       "    <tr>\n",
       "      <th>4</th>\n",
       "      <td>911</td>\n",
       "      <td>25</td>\n",
       "      <td>Yes</td>\n",
       "      <td>Travel_Frequently</td>\n",
       "      <td>599</td>\n",
       "      <td>Sales</td>\n",
       "      <td>24</td>\n",
       "      <td>1</td>\n",
       "      <td>Life Sciences</td>\n",
       "      <td>1</td>\n",
       "      <td>...</td>\n",
       "      <td>80</td>\n",
       "      <td>0</td>\n",
       "      <td>1</td>\n",
       "      <td>4</td>\n",
       "      <td>3</td>\n",
       "      <td>1</td>\n",
       "      <td>0</td>\n",
       "      <td>1</td>\n",
       "      <td>0</td>\n",
       "      <td>1</td>\n",
       "    </tr>\n",
       "  </tbody>\n",
       "</table>\n",
       "<p>5 rows × 37 columns</p>\n",
       "</div>"
      ],
      "text/plain": [
       "   user_id  Age Attrition     BusinessTravel  DailyRate  \\\n",
       "0     1374   58        No      Travel_Rarely        605   \n",
       "1     1092   45        No      Travel_Rarely        950   \n",
       "2      768   40        No      Travel_Rarely        300   \n",
       "3      569   36        No         Non-Travel       1434   \n",
       "4      911   25       Yes  Travel_Frequently        599   \n",
       "\n",
       "               Department  DistanceFromHome  Education    EducationField  \\\n",
       "0                   Sales                21          3     Life Sciences   \n",
       "1  Research & Development                28          3  Technical Degree   \n",
       "2                   Sales                26          3         Marketing   \n",
       "3                   Sales                 8          4     Life Sciences   \n",
       "4                   Sales                24          1     Life Sciences   \n",
       "\n",
       "   EmployeeCount  ...  StandardHours  StockOptionLevel TotalWorkingYears  \\\n",
       "0              1  ...             80                 1                29   \n",
       "1              1  ...             80                 1                 8   \n",
       "2              1  ...             80                 1                 8   \n",
       "3              1  ...             80                 0                10   \n",
       "4              1  ...             80                 0                 1   \n",
       "\n",
       "   TrainingTimesLastYear  WorkLifeBalance  YearsAtCompany YearsInCurrentRole  \\\n",
       "0                      2                2               1                  0   \n",
       "1                      3                3               5                  4   \n",
       "2                      3                2               7                  7   \n",
       "3                      1                3              10                  7   \n",
       "4                      4                3               1                  0   \n",
       "\n",
       "   YearsSinceLastPromotion YearsWithCurrManager  train_or_test  \n",
       "0                        0                    0              1  \n",
       "1                        0                    3              1  \n",
       "2                        7                    5              1  \n",
       "3                        0                    9              1  \n",
       "4                        1                    0              1  \n",
       "\n",
       "[5 rows x 37 columns]"
      ]
     },
     "execution_count": 2,
     "metadata": {},
     "output_type": "execute_result"
    }
   ],
   "source": [
    "df_train = pd.read_csv('./train.csv')\n",
    "df_train['train_or_test'] = 1\n",
    "df_train.head()"
   ]
  },
  {
   "cell_type": "code",
   "execution_count": 3,
   "metadata": {},
   "outputs": [
    {
     "name": "stdout",
     "output_type": "stream",
     "text": [
      "<class 'pandas.core.frame.DataFrame'>\n",
      "RangeIndex: 1176 entries, 0 to 1175\n",
      "Data columns (total 37 columns):\n",
      " #   Column                    Non-Null Count  Dtype \n",
      "---  ------                    --------------  ----- \n",
      " 0   user_id                   1176 non-null   int64 \n",
      " 1   Age                       1176 non-null   int64 \n",
      " 2   Attrition                 1176 non-null   object\n",
      " 3   BusinessTravel            1176 non-null   object\n",
      " 4   DailyRate                 1176 non-null   int64 \n",
      " 5   Department                1176 non-null   object\n",
      " 6   DistanceFromHome          1176 non-null   int64 \n",
      " 7   Education                 1176 non-null   int64 \n",
      " 8   EducationField            1176 non-null   object\n",
      " 9   EmployeeCount             1176 non-null   int64 \n",
      " 10  EmployeeNumber            1176 non-null   int64 \n",
      " 11  EnvironmentSatisfaction   1176 non-null   int64 \n",
      " 12  Gender                    1176 non-null   object\n",
      " 13  HourlyRate                1176 non-null   int64 \n",
      " 14  JobInvolvement            1176 non-null   int64 \n",
      " 15  JobLevel                  1176 non-null   int64 \n",
      " 16  JobRole                   1176 non-null   object\n",
      " 17  JobSatisfaction           1176 non-null   int64 \n",
      " 18  MaritalStatus             1176 non-null   object\n",
      " 19  MonthlyIncome             1176 non-null   int64 \n",
      " 20  MonthlyRate               1176 non-null   int64 \n",
      " 21  NumCompaniesWorked        1176 non-null   int64 \n",
      " 22  Over18                    1176 non-null   object\n",
      " 23  OverTime                  1176 non-null   object\n",
      " 24  PercentSalaryHike         1176 non-null   int64 \n",
      " 25  PerformanceRating         1176 non-null   int64 \n",
      " 26  RelationshipSatisfaction  1176 non-null   int64 \n",
      " 27  StandardHours             1176 non-null   int64 \n",
      " 28  StockOptionLevel          1176 non-null   int64 \n",
      " 29  TotalWorkingYears         1176 non-null   int64 \n",
      " 30  TrainingTimesLastYear     1176 non-null   int64 \n",
      " 31  WorkLifeBalance           1176 non-null   int64 \n",
      " 32  YearsAtCompany            1176 non-null   int64 \n",
      " 33  YearsInCurrentRole        1176 non-null   int64 \n",
      " 34  YearsSinceLastPromotion   1176 non-null   int64 \n",
      " 35  YearsWithCurrManager      1176 non-null   int64 \n",
      " 36  train_or_test             1176 non-null   int64 \n",
      "dtypes: int64(28), object(9)\n",
      "memory usage: 340.1+ KB\n"
     ]
    }
   ],
   "source": [
    "df_train.info()"
   ]
  },
  {
   "cell_type": "code",
   "execution_count": 4,
   "metadata": {},
   "outputs": [
    {
     "data": {
      "text/html": [
       "<div>\n",
       "<style scoped>\n",
       "    .dataframe tbody tr th:only-of-type {\n",
       "        vertical-align: middle;\n",
       "    }\n",
       "\n",
       "    .dataframe tbody tr th {\n",
       "        vertical-align: top;\n",
       "    }\n",
       "\n",
       "    .dataframe thead th {\n",
       "        text-align: right;\n",
       "    }\n",
       "</style>\n",
       "<table border=\"1\" class=\"dataframe\">\n",
       "  <thead>\n",
       "    <tr style=\"text-align: right;\">\n",
       "      <th></th>\n",
       "      <th>user_id</th>\n",
       "      <th>Age</th>\n",
       "      <th>BusinessTravel</th>\n",
       "      <th>DailyRate</th>\n",
       "      <th>Department</th>\n",
       "      <th>DistanceFromHome</th>\n",
       "      <th>Education</th>\n",
       "      <th>EducationField</th>\n",
       "      <th>EmployeeCount</th>\n",
       "      <th>EmployeeNumber</th>\n",
       "      <th>...</th>\n",
       "      <th>StandardHours</th>\n",
       "      <th>StockOptionLevel</th>\n",
       "      <th>TotalWorkingYears</th>\n",
       "      <th>TrainingTimesLastYear</th>\n",
       "      <th>WorkLifeBalance</th>\n",
       "      <th>YearsAtCompany</th>\n",
       "      <th>YearsInCurrentRole</th>\n",
       "      <th>YearsSinceLastPromotion</th>\n",
       "      <th>YearsWithCurrManager</th>\n",
       "      <th>train_or_test</th>\n",
       "    </tr>\n",
       "  </thead>\n",
       "  <tbody>\n",
       "    <tr>\n",
       "      <th>0</th>\n",
       "      <td>442</td>\n",
       "      <td>36</td>\n",
       "      <td>Non-Travel</td>\n",
       "      <td>635</td>\n",
       "      <td>Sales</td>\n",
       "      <td>10</td>\n",
       "      <td>4</td>\n",
       "      <td>Medical</td>\n",
       "      <td>1</td>\n",
       "      <td>592</td>\n",
       "      <td>...</td>\n",
       "      <td>80</td>\n",
       "      <td>0</td>\n",
       "      <td>10</td>\n",
       "      <td>3</td>\n",
       "      <td>2</td>\n",
       "      <td>10</td>\n",
       "      <td>3</td>\n",
       "      <td>9</td>\n",
       "      <td>7</td>\n",
       "      <td>0</td>\n",
       "    </tr>\n",
       "    <tr>\n",
       "      <th>1</th>\n",
       "      <td>1091</td>\n",
       "      <td>33</td>\n",
       "      <td>Travel_Rarely</td>\n",
       "      <td>575</td>\n",
       "      <td>Research &amp; Development</td>\n",
       "      <td>25</td>\n",
       "      <td>3</td>\n",
       "      <td>Life Sciences</td>\n",
       "      <td>1</td>\n",
       "      <td>1545</td>\n",
       "      <td>...</td>\n",
       "      <td>80</td>\n",
       "      <td>0</td>\n",
       "      <td>5</td>\n",
       "      <td>2</td>\n",
       "      <td>3</td>\n",
       "      <td>5</td>\n",
       "      <td>3</td>\n",
       "      <td>0</td>\n",
       "      <td>2</td>\n",
       "      <td>0</td>\n",
       "    </tr>\n",
       "    <tr>\n",
       "      <th>2</th>\n",
       "      <td>981</td>\n",
       "      <td>35</td>\n",
       "      <td>Travel_Frequently</td>\n",
       "      <td>662</td>\n",
       "      <td>Sales</td>\n",
       "      <td>18</td>\n",
       "      <td>4</td>\n",
       "      <td>Marketing</td>\n",
       "      <td>1</td>\n",
       "      <td>1380</td>\n",
       "      <td>...</td>\n",
       "      <td>80</td>\n",
       "      <td>1</td>\n",
       "      <td>5</td>\n",
       "      <td>0</td>\n",
       "      <td>2</td>\n",
       "      <td>4</td>\n",
       "      <td>2</td>\n",
       "      <td>3</td>\n",
       "      <td>2</td>\n",
       "      <td>0</td>\n",
       "    </tr>\n",
       "    <tr>\n",
       "      <th>3</th>\n",
       "      <td>785</td>\n",
       "      <td>40</td>\n",
       "      <td>Travel_Rarely</td>\n",
       "      <td>1492</td>\n",
       "      <td>Research &amp; Development</td>\n",
       "      <td>20</td>\n",
       "      <td>4</td>\n",
       "      <td>Technical Degree</td>\n",
       "      <td>1</td>\n",
       "      <td>1092</td>\n",
       "      <td>...</td>\n",
       "      <td>80</td>\n",
       "      <td>1</td>\n",
       "      <td>14</td>\n",
       "      <td>6</td>\n",
       "      <td>3</td>\n",
       "      <td>11</td>\n",
       "      <td>10</td>\n",
       "      <td>11</td>\n",
       "      <td>1</td>\n",
       "      <td>0</td>\n",
       "    </tr>\n",
       "    <tr>\n",
       "      <th>4</th>\n",
       "      <td>1332</td>\n",
       "      <td>29</td>\n",
       "      <td>Travel_Frequently</td>\n",
       "      <td>459</td>\n",
       "      <td>Research &amp; Development</td>\n",
       "      <td>24</td>\n",
       "      <td>2</td>\n",
       "      <td>Life Sciences</td>\n",
       "      <td>1</td>\n",
       "      <td>1868</td>\n",
       "      <td>...</td>\n",
       "      <td>80</td>\n",
       "      <td>0</td>\n",
       "      <td>1</td>\n",
       "      <td>3</td>\n",
       "      <td>2</td>\n",
       "      <td>1</td>\n",
       "      <td>0</td>\n",
       "      <td>1</td>\n",
       "      <td>0</td>\n",
       "      <td>0</td>\n",
       "    </tr>\n",
       "  </tbody>\n",
       "</table>\n",
       "<p>5 rows × 36 columns</p>\n",
       "</div>"
      ],
      "text/plain": [
       "   user_id  Age     BusinessTravel  DailyRate              Department  \\\n",
       "0      442   36         Non-Travel        635                   Sales   \n",
       "1     1091   33      Travel_Rarely        575  Research & Development   \n",
       "2      981   35  Travel_Frequently        662                   Sales   \n",
       "3      785   40      Travel_Rarely       1492  Research & Development   \n",
       "4     1332   29  Travel_Frequently        459  Research & Development   \n",
       "\n",
       "   DistanceFromHome  Education    EducationField  EmployeeCount  \\\n",
       "0                10          4           Medical              1   \n",
       "1                25          3     Life Sciences              1   \n",
       "2                18          4         Marketing              1   \n",
       "3                20          4  Technical Degree              1   \n",
       "4                24          2     Life Sciences              1   \n",
       "\n",
       "   EmployeeNumber  ...  StandardHours StockOptionLevel  TotalWorkingYears  \\\n",
       "0             592  ...             80                0                 10   \n",
       "1            1545  ...             80                0                  5   \n",
       "2            1380  ...             80                1                  5   \n",
       "3            1092  ...             80                1                 14   \n",
       "4            1868  ...             80                0                  1   \n",
       "\n",
       "   TrainingTimesLastYear  WorkLifeBalance YearsAtCompany  YearsInCurrentRole  \\\n",
       "0                      3                2             10                   3   \n",
       "1                      2                3              5                   3   \n",
       "2                      0                2              4                   2   \n",
       "3                      6                3             11                  10   \n",
       "4                      3                2              1                   0   \n",
       "\n",
       "  YearsSinceLastPromotion  YearsWithCurrManager  train_or_test  \n",
       "0                       9                     7              0  \n",
       "1                       0                     2              0  \n",
       "2                       3                     2              0  \n",
       "3                      11                     1              0  \n",
       "4                       1                     0              0  \n",
       "\n",
       "[5 rows x 36 columns]"
      ]
     },
     "execution_count": 4,
     "metadata": {},
     "output_type": "execute_result"
    }
   ],
   "source": [
    "df_test = pd.read_csv('./test.csv')\n",
    "df_test['train_or_test'] = 0\n",
    "df_test.head()"
   ]
  },
  {
   "cell_type": "code",
   "execution_count": 5,
   "metadata": {},
   "outputs": [
    {
     "name": "stdout",
     "output_type": "stream",
     "text": [
      "<class 'pandas.core.frame.DataFrame'>\n",
      "RangeIndex: 294 entries, 0 to 293\n",
      "Data columns (total 36 columns):\n",
      " #   Column                    Non-Null Count  Dtype \n",
      "---  ------                    --------------  ----- \n",
      " 0   user_id                   294 non-null    int64 \n",
      " 1   Age                       294 non-null    int64 \n",
      " 2   BusinessTravel            294 non-null    object\n",
      " 3   DailyRate                 294 non-null    int64 \n",
      " 4   Department                294 non-null    object\n",
      " 5   DistanceFromHome          294 non-null    int64 \n",
      " 6   Education                 294 non-null    int64 \n",
      " 7   EducationField            294 non-null    object\n",
      " 8   EmployeeCount             294 non-null    int64 \n",
      " 9   EmployeeNumber            294 non-null    int64 \n",
      " 10  EnvironmentSatisfaction   294 non-null    int64 \n",
      " 11  Gender                    294 non-null    object\n",
      " 12  HourlyRate                294 non-null    int64 \n",
      " 13  JobInvolvement            294 non-null    int64 \n",
      " 14  JobLevel                  294 non-null    int64 \n",
      " 15  JobRole                   294 non-null    object\n",
      " 16  JobSatisfaction           294 non-null    int64 \n",
      " 17  MaritalStatus             294 non-null    object\n",
      " 18  MonthlyIncome             294 non-null    int64 \n",
      " 19  MonthlyRate               294 non-null    int64 \n",
      " 20  NumCompaniesWorked        294 non-null    int64 \n",
      " 21  Over18                    294 non-null    object\n",
      " 22  OverTime                  294 non-null    object\n",
      " 23  PercentSalaryHike         294 non-null    int64 \n",
      " 24  PerformanceRating         294 non-null    int64 \n",
      " 25  RelationshipSatisfaction  294 non-null    int64 \n",
      " 26  StandardHours             294 non-null    int64 \n",
      " 27  StockOptionLevel          294 non-null    int64 \n",
      " 28  TotalWorkingYears         294 non-null    int64 \n",
      " 29  TrainingTimesLastYear     294 non-null    int64 \n",
      " 30  WorkLifeBalance           294 non-null    int64 \n",
      " 31  YearsAtCompany            294 non-null    int64 \n",
      " 32  YearsInCurrentRole        294 non-null    int64 \n",
      " 33  YearsSinceLastPromotion   294 non-null    int64 \n",
      " 34  YearsWithCurrManager      294 non-null    int64 \n",
      " 35  train_or_test             294 non-null    int64 \n",
      "dtypes: int64(28), object(8)\n",
      "memory usage: 82.8+ KB\n"
     ]
    }
   ],
   "source": [
    "df_test.info()"
   ]
  },
  {
   "cell_type": "markdown",
   "metadata": {},
   "source": [
    "## 数据探索"
   ]
  },
  {
   "cell_type": "markdown",
   "metadata": {},
   "source": [
    "### 标签分布"
   ]
  },
  {
   "cell_type": "code",
   "execution_count": 6,
   "metadata": {},
   "outputs": [
    {
     "data": {
      "image/png": "[encoded data removed]",
      "text/plain": [
       "<Figure size 432x288 with 1 Axes>"
      ]
     },
     "metadata": {
      "needs_background": "light"
     },
     "output_type": "display_data"
    }
   ],
   "source": [
    "df_train['Attrition'].value_counts().plot.bar()\n",
    "plt.show()"
   ]
  },
  {
   "cell_type": "markdown",
   "metadata": {},
   "source": [
    "### 连续变量分布"
   ]
  },
  {
   "cell_type": "code",
   "execution_count": 7,
   "metadata": {},
   "outputs": [
    {
     "data": {
      "image/png": "[encoded data removed]",
      "text/plain": [
       "<Figure size 1080x360 with 1 Axes>"
      ]
     },
     "metadata": {
      "needs_background": "light"
     },
     "output_type": "display_data"
    }
   ],
   "source": [
    "check_columns_1 = ['Age','DailyRate','MonthlyIncome', 'NumCompaniesWorked', 'PercentSalaryHike', \n",
    "                 'StandardHours', 'TotalWorkingYears','YearsAtCompany','YearsInCurrentRole',\n",
    "                'YearsSinceLastPromotion', 'YearsWithCurrManager','DistanceFromHome', 'HourlyRate',\n",
    "                  'MonthlyRate',]\n",
    "min_max_value = MinMaxScaler().fit_transform(df_train[check_columns_1].values)\n",
    "fig = plt.figure(figsize=(15,5))\n",
    "plt.boxplot(min_max_value, labels=check_columns_1,)\n",
    "plt.xlabel('columns')\n",
    "plt.title('连续变量分布情况')\n",
    "fig.autofmt_xdate()\n",
    "plt.show()"
   ]
  },
  {
   "cell_type": "markdown",
   "metadata": {},
   "source": [
    "### 相关程度"
   ]
  },
  {
   "cell_type": "code",
   "execution_count": 8,
   "metadata": {},
   "outputs": [
    {
     "data": {
      "image/png": "[encoded data removed]",
      "text/plain": [
       "<Figure size 1296x576 with 2 Axes>"
      ]
     },
     "metadata": {
      "needs_background": "light"
     },
     "output_type": "display_data"
    }
   ],
   "source": [
    "fig = plt.figure(figsize=(18,8))\n",
    "corr_array = df_train[check_columns_1].corr().values\n",
    "plt.imshow(corr_array, cmap='binary')\n",
    "plt.xticks([x for x in range(len(check_columns_1))], check_columns_1)\n",
    "plt.yticks([x for x in range(len(check_columns_1))], check_columns_1)\n",
    "for x, y in product([x for x in range(len(check_columns_1))], repeat=2):\n",
    "    plt.text(x-0.2,y,round(corr_array[x,y],2),)  \n",
    "plt.colorbar()\n",
    "fig.autofmt_xdate()\n",
    "plt.show()"
   ]
  },
  {
   "cell_type": "markdown",
   "metadata": {},
   "source": [
    "## 数据预处理"
   ]
  },
  {
   "cell_type": "code",
   "execution_count": 77,
   "metadata": {
    "scrolled": true
   },
   "outputs": [],
   "source": [
    "# 合并训练集测试集\n",
    "df_all = pd.concat([df_train, df_test], axis=0)\n",
    "\n",
    "# 标签处理 -> yes:1, no:0\n",
    "df_labels = df_train['Attrition'].map({'Yes':1, 'No':0})"
   ]
  },
  {
   "cell_type": "code",
   "execution_count": 78,
   "metadata": {},
   "outputs": [],
   "source": [
    "# 删除不需要的特征\n",
    "features = [x for x in df_train.columns if x not in [\n",
    "    'Attrition', 'EmployeeNumber','user_id', 'StandardHours', 'Over18']]\n",
    "df_deal = df_all[features]\n",
    "\n",
    "# 离散变量独热编码处理\n",
    "one_hot_list = [x for x in features if x not in check_columns_1+['train_or_test']]\n",
    "for column in one_hot_list:\n",
    "    df_dum = pd.get_dummies(df_deal[column], prefix=column)\n",
    "    df_deal = pd.concat([df_deal, df_dum], axis=1)\n",
    "    df_deal = df_deal.drop(column, axis=1)\n",
    "\n",
    "# # 离散变量自然数编码处理\n",
    "# int_list = [x for x in features if x not in check_columns_1+['train_or_test']]\n",
    "# for column in int_list:\n",
    "#     df_deal[column] = pd.factorize(df_deal[column])[0].tolist()"
   ]
  },
  {
   "cell_type": "code",
   "execution_count": 80,
   "metadata": {},
   "outputs": [],
   "source": [
    "处理连续变量outliers值\n",
    "outlier_columns = ['MonthlyIncome', 'TotalWorkingYears', 'YearsAtCompany', \n",
    "\n",
    "for column in outlier_columns:\n",
    "    Q1 = df_deal[column].quantile(0.25)\n",
    "    Q3 = df_deal[column].quantile(0.75)\n",
    "    IQR = Q3 - Q1\n",
    "    up_limit = Q3 + 1.5 * IQR\n",
    "    df_deal[column] = df_deal[column].apply(lambda x: up_limit if x > up_limit else x)"
   ]
  },
  {
   "cell_type": "code",
   "execution_count": 98,
   "metadata": {},
   "outputs": [],
   "source": [
    "# 数据集测试集拆分\n",
    "df_train_pre = df_deal.query('train_or_test == 1')\n",
    "df_train_pre = df_train_pre.drop('train_or_test', axis=1)\n",
    "df_test_pre =  df_deal.query('train_or_test == 0')\n",
    "df_test_pre = df_test_pre.drop('train_or_test', axis=1)\n",
    "\n",
    "# 数据标准化\n",
    "train_features = StandardScaler().fit_transform(df_train_pre.values)\n",
    "test_features = StandardScaler().fit_transform(df_test_pre.values)"
   ]
  },
  {
   "cell_type": "markdown",
   "metadata": {},
   "source": [
    "## 训练集评估集拆分"
   ]
  },
  {
   "cell_type": "code",
   "execution_count": 82,
   "metadata": {},
   "outputs": [],
   "source": [
    "X_train, X_test, y_train, y_test = train_test_split(\n",
    "    train_features, df_labels, test_size=0.33, random_state=529, )"
   ]
  },
  {
   "cell_type": "markdown",
   "metadata": {},
   "source": [
    "## 模型选择"
   ]
  },
  {
   "cell_type": "code",
   "execution_count": 87,
   "metadata": {},
   "outputs": [
    {
     "data": {
      "text/html": [
       "<div>\n",
       "<style scoped>\n",
       "    .dataframe tbody tr th:only-of-type {\n",
       "        vertical-align: middle;\n",
       "    }\n",
       "\n",
       "    .dataframe tbody tr th {\n",
       "        vertical-align: top;\n",
       "    }\n",
       "\n",
       "    .dataframe thead th {\n",
       "        text-align: right;\n",
       "    }\n",
       "</style>\n",
       "<table border=\"1\" class=\"dataframe\">\n",
       "  <thead>\n",
       "    <tr style=\"text-align: right;\">\n",
       "      <th></th>\n",
       "      <th>dtree</th>\n",
       "      <th>rtree</th>\n",
       "      <th>svm</th>\n",
       "      <th>knn</th>\n",
       "      <th>logr</th>\n",
       "      <th>bnb</th>\n",
       "      <th>ridge</th>\n",
       "      <th>ada</th>\n",
       "    </tr>\n",
       "  </thead>\n",
       "  <tbody>\n",
       "    <tr>\n",
       "      <th>f1_score</th>\n",
       "      <td>0.32</td>\n",
       "      <td>0.17</td>\n",
       "      <td>0.16</td>\n",
       "      <td>0.19</td>\n",
       "      <td>0.55</td>\n",
       "      <td>0.52</td>\n",
       "      <td>0.45</td>\n",
       "      <td>0.42</td>\n",
       "    </tr>\n",
       "    <tr>\n",
       "      <th>precision</th>\n",
       "      <td>0.35</td>\n",
       "      <td>0.93</td>\n",
       "      <td>0.87</td>\n",
       "      <td>0.71</td>\n",
       "      <td>0.67</td>\n",
       "      <td>0.50</td>\n",
       "      <td>0.86</td>\n",
       "      <td>0.53</td>\n",
       "    </tr>\n",
       "    <tr>\n",
       "      <th>recall</th>\n",
       "      <td>0.34</td>\n",
       "      <td>0.13</td>\n",
       "      <td>0.09</td>\n",
       "      <td>0.11</td>\n",
       "      <td>0.46</td>\n",
       "      <td>0.54</td>\n",
       "      <td>0.31</td>\n",
       "      <td>0.35</td>\n",
       "    </tr>\n",
       "    <tr>\n",
       "      <th>accuracy</th>\n",
       "      <td>0.79</td>\n",
       "      <td>0.86</td>\n",
       "      <td>0.86</td>\n",
       "      <td>0.85</td>\n",
       "      <td>0.88</td>\n",
       "      <td>0.84</td>\n",
       "      <td>0.88</td>\n",
       "      <td>0.85</td>\n",
       "    </tr>\n",
       "    <tr>\n",
       "      <th>roc_auc</th>\n",
       "      <td>0.60</td>\n",
       "      <td>0.80</td>\n",
       "      <td>0.82</td>\n",
       "      <td>0.69</td>\n",
       "      <td>0.82</td>\n",
       "      <td>0.80</td>\n",
       "      <td>0.81</td>\n",
       "      <td>0.77</td>\n",
       "    </tr>\n",
       "  </tbody>\n",
       "</table>\n",
       "</div>"
      ],
      "text/plain": [
       "           dtree  rtree   svm   knn  logr   bnb  ridge   ada\n",
       "f1_score    0.32   0.17  0.16  0.19  0.55  0.52   0.45  0.42\n",
       "precision   0.35   0.93  0.87  0.71  0.67  0.50   0.86  0.53\n",
       "recall      0.34   0.13  0.09  0.11  0.46  0.54   0.31  0.35\n",
       "accuracy    0.79   0.86  0.86  0.85  0.88  0.84   0.88  0.85\n",
       "roc_auc     0.60   0.80  0.82  0.69  0.82  0.80   0.81  0.77"
      ]
     },
     "execution_count": 87,
     "metadata": {},
     "output_type": "execute_result"
    }
   ],
   "source": [
    "models = {'dtree': DecisionTreeClassifier(), \n",
    "          'rtree': RandomForestClassifier(), \n",
    "          'svm': SVC(), \n",
    "          'knn': KNeighborsClassifier(), \n",
    "          'logr': LogisticRegression(),\n",
    "          'bnb': BernoulliNB(),\n",
    "          'ridge': RidgeClassifier(),\n",
    "          'ada': AdaBoostClassifier()\n",
    "         }\n",
    "\n",
    "df = pd.DataFrame(index=['f1_score', 'precision', 'recall', 'accuracy', 'roc_auc'])\n",
    "for clf in models:\n",
    "    score_f1 = cross_val_score(models[clf], X_train, y_train, cv=5, scoring='f1').mean()\n",
    "    score_pr = cross_val_score(models[clf], X_train, y_train, cv=5, scoring='precision').mean()\n",
    "    score_re = cross_val_score(models[clf], X_train, y_train, cv=5, scoring='recall').mean()\n",
    "    score_ac = cross_val_score(models[clf], X_train, y_train, cv=5, scoring='accuracy').mean()\n",
    "    score_auc = cross_val_score(models[clf], X_train, y_train, cv=5, scoring='roc_auc').mean()\n",
    "    df[clf] = np.round(np.array([score_f1, score_pr, score_re, score_ac, score_auc]),2)\n",
    "df"
   ]
  },
  {
   "cell_type": "code",
   "execution_count": 92,
   "metadata": {},
   "outputs": [
    {
     "data": {
      "image/png": "[encoded data removed]",
      "text/plain": [
       "<Figure size 432x288 with 1 Axes>"
      ]
     },
     "metadata": {
      "needs_background": "light"
     },
     "output_type": "display_data"
    }
   ],
   "source": [
    "clf = LogisticRegression()\n",
    "clf.fit(X_train, y_train)\n",
    "predict = clf.predict(X_test)\n",
    "y_score = clf.predict_proba(X_test)[:,1]\n",
    "predict = clf.predict(X_test)\n",
    "\n",
    "# ROC曲线\n",
    "fpr, tpr, thresholds = roc_curve(y_test, y_score)\n",
    "roc_auc = auc(fpr, tpr)\n",
    "auc(fpr, tpr)\n",
    "plt.stackplot(fpr, tpr, color='steelblue', alpha = 0.5, edgecolor = 'black')\n",
    "plt.plot(fpr, tpr, color='black', lw = 1)\n",
    "plt.plot([0,1],[0,1], color = 'red', linestyle = '--')\n",
    "plt.text(0.5,0.3,'ROC curve ( area = {} )'.format(round(roc_auc,2)))\n",
    "plt.text(0.5,0.2,'分类器:{}'.format(clf))\n",
    "plt.xlabel('1-Specificity')\n",
    "plt.ylabel('Sensitivity')\n",
    "plt.show()"
   ]
  },
  {
   "cell_type": "markdown",
   "metadata": {},
   "source": [
    "## 预测"
   ]
  },
  {
   "cell_type": "code",
   "execution_count": 99,
   "metadata": {},
   "outputs": [],
   "source": [
    "predict = clf.predict(test_features)"
   ]
  },
  {
   "cell_type": "code",
   "execution_count": 108,
   "metadata": {
    "collapsed": true
   },
   "outputs": [
    {
     "data": {
      "text/plain": [
       "array([4.96364192e-02, 2.49202763e-02, 4.07383165e-01, 2.99384357e-01,\n",
       "       5.99048355e-01, 1.33043253e-02, 1.46581544e-01, 1.41487197e-02,\n",
       "       2.62962892e-04, 2.83428317e-01, 8.06396928e-03, 1.99700321e-01,\n",
       "       1.51148850e-02, 7.77147596e-01, 5.88668919e-02, 1.19207449e-03,\n",
       "       4.28459009e-02, 6.51984040e-03, 3.61142291e-01, 1.68330690e-01,\n",
       "       1.19311407e-01, 5.79773626e-02, 7.20421914e-03, 1.07524378e-02,\n",
       "       3.49718966e-01, 3.89378912e-01, 1.62189300e-01, 8.49037702e-02,\n",
       "       7.70230046e-01, 1.19059272e-02, 7.85644878e-03, 4.28013183e-02,\n",
       "       3.51851878e-01, 4.95837309e-01, 2.28135247e-02, 3.33221756e-04,\n",
       "       2.29142332e-02, 1.08292104e-01, 7.20068019e-02, 1.91114842e-01,\n",
       "       1.71434571e-03, 4.01640022e-02, 3.51616583e-04, 2.17076402e-02,\n",
       "       2.50108436e-02, 6.57801345e-01, 5.32882237e-01, 1.42792925e-04,\n",
       "       2.27285144e-01, 1.24141622e-01, 4.95258992e-03, 4.94008410e-01,\n",
       "       3.23410646e-02, 6.68138721e-02, 5.76519140e-01, 9.52799330e-02,\n",
       "       8.17168437e-03, 4.86656748e-01, 4.41490287e-03, 6.80631811e-01,\n",
       "       6.72699476e-03, 2.61400007e-01, 3.30121338e-02, 7.23140790e-03,\n",
       "       1.37781574e-01, 3.07338026e-01, 2.38638129e-01, 7.63591655e-02,\n",
       "       8.35444047e-02, 6.88058659e-01, 5.32143217e-02, 5.86425705e-02,\n",
       "       2.45544819e-02, 7.39572728e-02, 1.86510615e-02, 1.41077387e-01,\n",
       "       8.33707377e-03, 2.92425691e-02, 4.90123543e-01, 4.38982650e-03,\n",
       "       3.23623625e-03, 4.40427838e-03, 6.68921078e-02, 1.54833798e-02,\n",
       "       1.11710565e-01, 6.60452600e-02, 1.14065914e-04, 2.46065919e-02,\n",
       "       2.97587790e-03, 1.65381927e-02, 4.22365695e-02, 2.09749730e-02,\n",
       "       2.62031026e-01, 4.58835684e-01, 9.30913084e-05, 2.62859900e-02,\n",
       "       4.55065406e-01, 8.53625111e-01, 5.12324740e-02, 1.27470985e-01,\n",
       "       7.44499107e-02, 1.62440070e-01, 6.82972800e-03, 4.29308580e-03,\n",
       "       1.61460291e-01, 1.06279856e-03, 1.55760164e-01, 1.12639077e-01,\n",
       "       8.15241484e-02, 2.32129522e-01, 1.60500204e-03, 2.21670294e-03,\n",
       "       1.96890575e-03, 6.02774358e-02, 2.95486168e-02, 5.55244575e-02,\n",
       "       3.68685915e-03, 1.05515573e-01, 4.73658124e-04, 2.12535109e-04,\n",
       "       1.09374153e-01, 4.59315215e-02, 2.04376940e-02, 9.34150422e-01,\n",
       "       2.33385197e-01, 3.80825000e-04, 1.17602257e-02, 5.84228364e-02,\n",
       "       2.98722207e-01, 1.16878372e-03, 1.56944518e-05, 6.83792949e-01,\n",
       "       6.49437985e-01, 1.76029971e-01, 7.16881073e-02, 1.40962815e-01,\n",
       "       5.20762082e-01, 6.58227813e-02, 6.85279479e-01, 2.60969189e-01,\n",
       "       1.57803380e-04, 3.53426838e-02, 9.02645982e-03, 8.32577580e-02,\n",
       "       1.14806281e-01, 1.39659902e-02, 1.22999925e-01, 1.00521724e-02,\n",
       "       8.66336256e-02, 1.57917591e-01, 1.33902858e-03, 9.31981862e-02,\n",
       "       5.13405237e-02, 2.90833884e-01, 3.81328126e-02, 1.44206262e-03,\n",
       "       1.10677049e-03, 3.25124736e-01, 1.21300930e-02, 2.14910649e-02,\n",
       "       2.84086686e-01, 2.28564873e-03, 1.73248038e-02, 9.63048597e-01,\n",
       "       1.97942073e-03, 4.21398989e-02, 6.89000031e-01, 3.55850991e-02,\n",
       "       8.88099197e-03, 1.38820017e-04, 5.58305809e-02, 1.97955677e-02,\n",
       "       8.26834443e-03, 2.78316387e-01, 1.07538367e-03, 8.05561463e-02,\n",
       "       2.50361435e-02, 1.39964814e-02, 7.98353653e-02, 1.10549736e-01,\n",
       "       8.02657439e-03, 9.36813213e-02, 5.50145989e-04, 9.80430331e-01,\n",
       "       1.24904793e-02, 1.29849727e-01, 6.07026130e-01, 9.75165410e-03,\n",
       "       2.51181426e-01, 3.79461692e-01, 3.28692901e-01, 3.37761854e-01,\n",
       "       1.79064000e-02, 4.14062584e-03, 9.95134933e-03, 3.80024113e-02,\n",
       "       9.49806143e-03, 2.36261506e-02, 7.79244389e-01, 1.00087786e-02,\n",
       "       2.86773733e-01, 4.82097192e-01, 9.52395148e-01, 1.74766567e-02,\n",
       "       3.72821755e-02, 1.37321367e-02, 7.58208709e-02, 1.38092407e-03,\n",
       "       7.62827428e-02, 1.48722591e-02, 1.09112985e-01, 8.89621301e-02,\n",
       "       2.53158614e-02, 7.72395582e-01, 1.49278042e-02, 1.87008372e-03,\n",
       "       4.73772738e-03, 1.03905971e-01, 5.67528577e-02, 1.18665240e-01,\n",
       "       9.46454657e-02, 3.51071611e-01, 2.97586571e-01, 6.96113907e-04,\n",
       "       3.63393646e-01, 5.61676424e-04, 3.19434123e-02, 2.24488770e-01,\n",
       "       8.09837056e-01, 8.21067148e-02, 3.32769089e-02, 8.12601356e-02,\n",
       "       7.60432531e-03, 1.69865443e-02, 1.35388479e-02, 7.89037927e-02,\n",
       "       6.65316228e-01, 2.15223352e-04, 1.35739705e-01, 1.02241710e-04,\n",
       "       1.57880169e-01, 3.35284280e-01, 4.16614552e-03, 7.06262003e-02,\n",
       "       5.20493760e-01, 3.81910576e-02, 4.14021142e-02, 1.21101698e-01,\n",
       "       9.13482572e-02, 9.09665500e-02, 1.32742758e-01, 2.69819150e-02,\n",
       "       2.46039733e-01, 8.24621966e-05, 1.30974756e-01, 9.10568796e-02,\n",
       "       1.20461160e-05, 2.37939337e-01, 6.46299753e-01, 7.58354660e-01,\n",
       "       1.18711976e-01, 1.53577079e-02, 1.06361029e-01, 7.01306452e-02,\n",
       "       2.72400307e-02, 2.68114056e-01, 3.56320674e-03, 8.02929175e-01,\n",
       "       4.02004431e-01, 1.83841719e-02, 5.72652875e-02, 3.62822574e-03,\n",
       "       3.67853629e-02, 7.35600526e-03, 7.28451731e-03, 3.95560159e-02,\n",
       "       3.71898622e-01, 3.55548701e-01, 1.19137509e-01, 1.40123670e-01,\n",
       "       5.81735446e-01, 2.15636005e-03, 1.03757751e-01, 2.22162839e-01,\n",
       "       8.07151233e-03, 7.34020679e-02, 2.23854343e-05, 4.80801822e-02,\n",
       "       5.97258802e-03, 6.23197892e-02, 3.47848016e-02, 5.17668483e-01,\n",
       "       1.55978002e-02, 1.15015309e-02])"
      ]
     },
     "execution_count": 108,
     "metadata": {},
     "output_type": "execute_result"
    }
   ],
   "source": [
    "clf.predict_proba(test_features)[:,1]"
   ]
  },
  {
   "cell_type": "code",
   "execution_count": 111,
   "metadata": {},
   "outputs": [],
   "source": [
    "df_test['Attrition'] = clf.predict_proba(test_features)[:,1]"
   ]
  },
  {
   "cell_type": "code",
   "execution_count": 113,
   "metadata": {},
   "outputs": [],
   "source": [
    "df_finall = df_test[['user_id', 'Attrition']]"
   ]
  },
  {
   "cell_type": "code",
   "execution_count": 115,
   "metadata": {},
   "outputs": [],
   "source": [
    "df_finall.to_csv('./predict.csv')"
   ]
  },
  {
   "cell_type": "code",
   "execution_count": null,
   "metadata": {},
   "outputs": [],
   "source": []
  }
 ],
 "metadata": {
  "hide_input": false,
  "kernelspec": {
   "display_name": "Python 3",
   "language": "python",
   "name": "python3"
  },
  "language_info": {
   "codemirror_mode": {
    "name": "ipython",
    "version": 3
   },
   "file_extension": ".py",
   "mimetype": "text/x-python",
   "name": "python",
   "nbconvert_exporter": "python",
   "pygments_lexer": "ipython3",
   "version": "3.8.1"
  },
  "toc": {
   "base_numbering": 1,
   "nav_menu": {},
   "number_sections": true,
   "sideBar": true,
   "skip_h1_title": false,
   "title_cell": "Table of Contents",
   "title_sidebar": "Contents",
   "toc_cell": false,
   "toc_position": {},
   "toc_section_display": true,
   "toc_window_display": true
  },
  "varInspector": {
   "cols": {
    "lenName": 16,
    "lenType": 16,
    "lenVar": 40
   },
   "kernels_config": {
    "python": {
     "delete_cmd_postfix": "",
     "delete_cmd_prefix": "del ",
     "library": "var_list.py",
     "varRefreshCmd": "print(var_dic_list())"
    },
    "r": {
     "delete_cmd_postfix": ") ",
     "delete_cmd_prefix": "rm(",
     "library": "var_list.r",
     "varRefreshCmd": "cat(var_dic_list()) "
    }
   },
   "types_to_exclude": [
    "module",
    "function",
    "builtin_function_or_method",
    "instance",
    "_Feature"
   ],
   "window_display": false
  }
 },
 "nbformat": 4,
 "nbformat_minor": 4
}
