{
 "cells": [
  {
   "cell_type": "markdown",
   "metadata": {},
   "source": [
    "# 概要"
   ]
  },
  {
   "cell_type": "markdown",
   "metadata": {},
   "source": [
    "**任务简介**\n",
    "\n",
    "赛题以预测二手车的交易价格为任务，数据集报名后可见并可下载，该数据来自某交易平台的二手车交易记录，总数据量超过40w，包含31列变量信息，其中15列为匿名变量。为了保证比赛的公平性，将会从中抽取15万条作为训练集，5万条作为测试集A，5万条作为测试集B，同时会对name、model、brand和regionCode等信息进行脱敏。"
   ]
  },
  {
   "cell_type": "code",
   "execution_count": 263,
   "metadata": {},
   "outputs": [],
   "source": [
    "import pandas as pd\n",
    "import numpy as np\n",
    "import matplotlib.pyplot as plt\n",
    "from sklearn.model_selection import train_test_split\n",
    "from sklearn.preprocessing import StandardScaler\n",
    "from sklearn.linear_model import LinearRegression, Lasso\n",
    "from sklearn.neighbors import KNeighborsClassifier\n",
    "from sklearn.ensemble import GradientBoostingRegressor\n",
    "from sklearn.tree import DecisionTreeRegressor\n",
    "from sklearn.metrics import mean_absolute_error\n",
    "from sklearn.model_selection import learning_curve\n",
    "from sklearn.preprocessing import OneHotEncoder\n",
    "from sklearn.decomposition import PCA\n",
    "from sklearn.feature_selection import SelectKBest, SelectFromModel\n",
    "from sklearn.preprocessing import MinMaxScaler\n",
    "from sklearn.ensemble import GradientBoostingRegressor"
   ]
  },
  {
   "cell_type": "markdown",
   "metadata": {},
   "source": [
    "# 数据探索"
   ]
  },
  {
   "cell_type": "code",
   "execution_count": 204,
   "metadata": {
    "scrolled": true
   },
   "outputs": [
    {
     "data": {
      "text/html": [
       "<div>\n",
       "<style scoped>\n",
       "    .dataframe tbody tr th:only-of-type {\n",
       "        vertical-align: middle;\n",
       "    }\n",
       "\n",
       "    .dataframe tbody tr th {\n",
       "        vertical-align: top;\n",
       "    }\n",
       "\n",
       "    .dataframe thead th {\n",
       "        text-align: right;\n",
       "    }\n",
       "</style>\n",
       "<table border=\"1\" class=\"dataframe\">\n",
       "  <thead>\n",
       "    <tr style=\"text-align: right;\">\n",
       "      <th></th>\n",
       "      <th>SaleID</th>\n",
       "      <th>name</th>\n",
       "      <th>regDate</th>\n",
       "      <th>model</th>\n",
       "      <th>brand</th>\n",
       "      <th>bodyType</th>\n",
       "      <th>fuelType</th>\n",
       "      <th>gearbox</th>\n",
       "      <th>power</th>\n",
       "      <th>kilometer</th>\n",
       "      <th>...</th>\n",
       "      <th>v_5</th>\n",
       "      <th>v_6</th>\n",
       "      <th>v_7</th>\n",
       "      <th>v_8</th>\n",
       "      <th>v_9</th>\n",
       "      <th>v_10</th>\n",
       "      <th>v_11</th>\n",
       "      <th>v_12</th>\n",
       "      <th>v_13</th>\n",
       "      <th>v_14</th>\n",
       "    </tr>\n",
       "  </thead>\n",
       "  <tbody>\n",
       "    <tr>\n",
       "      <th>0</th>\n",
       "      <td>0</td>\n",
       "      <td>736</td>\n",
       "      <td>20040402</td>\n",
       "      <td>30.0</td>\n",
       "      <td>6</td>\n",
       "      <td>1.0</td>\n",
       "      <td>0.0</td>\n",
       "      <td>0.0</td>\n",
       "      <td>60</td>\n",
       "      <td>12.5</td>\n",
       "      <td>...</td>\n",
       "      <td>0.235676</td>\n",
       "      <td>0.101988</td>\n",
       "      <td>0.129549</td>\n",
       "      <td>0.022816</td>\n",
       "      <td>0.097462</td>\n",
       "      <td>-2.881803</td>\n",
       "      <td>2.804097</td>\n",
       "      <td>-2.420821</td>\n",
       "      <td>0.795292</td>\n",
       "      <td>0.914762</td>\n",
       "    </tr>\n",
       "    <tr>\n",
       "      <th>1</th>\n",
       "      <td>1</td>\n",
       "      <td>2262</td>\n",
       "      <td>20030301</td>\n",
       "      <td>40.0</td>\n",
       "      <td>1</td>\n",
       "      <td>2.0</td>\n",
       "      <td>0.0</td>\n",
       "      <td>0.0</td>\n",
       "      <td>0</td>\n",
       "      <td>15.0</td>\n",
       "      <td>...</td>\n",
       "      <td>0.264777</td>\n",
       "      <td>0.121004</td>\n",
       "      <td>0.135731</td>\n",
       "      <td>0.026597</td>\n",
       "      <td>0.020582</td>\n",
       "      <td>-4.900482</td>\n",
       "      <td>2.096338</td>\n",
       "      <td>-1.030483</td>\n",
       "      <td>-1.722674</td>\n",
       "      <td>0.245522</td>\n",
       "    </tr>\n",
       "    <tr>\n",
       "      <th>2</th>\n",
       "      <td>2</td>\n",
       "      <td>14874</td>\n",
       "      <td>20040403</td>\n",
       "      <td>115.0</td>\n",
       "      <td>15</td>\n",
       "      <td>1.0</td>\n",
       "      <td>0.0</td>\n",
       "      <td>0.0</td>\n",
       "      <td>163</td>\n",
       "      <td>12.5</td>\n",
       "      <td>...</td>\n",
       "      <td>0.251410</td>\n",
       "      <td>0.114912</td>\n",
       "      <td>0.165147</td>\n",
       "      <td>0.062173</td>\n",
       "      <td>0.027075</td>\n",
       "      <td>-4.846749</td>\n",
       "      <td>1.803559</td>\n",
       "      <td>1.565330</td>\n",
       "      <td>-0.832687</td>\n",
       "      <td>-0.229963</td>\n",
       "    </tr>\n",
       "    <tr>\n",
       "      <th>3</th>\n",
       "      <td>3</td>\n",
       "      <td>71865</td>\n",
       "      <td>19960908</td>\n",
       "      <td>109.0</td>\n",
       "      <td>10</td>\n",
       "      <td>0.0</td>\n",
       "      <td>0.0</td>\n",
       "      <td>1.0</td>\n",
       "      <td>193</td>\n",
       "      <td>15.0</td>\n",
       "      <td>...</td>\n",
       "      <td>0.274293</td>\n",
       "      <td>0.110300</td>\n",
       "      <td>0.121964</td>\n",
       "      <td>0.033395</td>\n",
       "      <td>0.000000</td>\n",
       "      <td>-4.509599</td>\n",
       "      <td>1.285940</td>\n",
       "      <td>-0.501868</td>\n",
       "      <td>-2.438353</td>\n",
       "      <td>-0.478699</td>\n",
       "    </tr>\n",
       "    <tr>\n",
       "      <th>4</th>\n",
       "      <td>4</td>\n",
       "      <td>111080</td>\n",
       "      <td>20120103</td>\n",
       "      <td>110.0</td>\n",
       "      <td>5</td>\n",
       "      <td>1.0</td>\n",
       "      <td>0.0</td>\n",
       "      <td>0.0</td>\n",
       "      <td>68</td>\n",
       "      <td>5.0</td>\n",
       "      <td>...</td>\n",
       "      <td>0.228036</td>\n",
       "      <td>0.073205</td>\n",
       "      <td>0.091880</td>\n",
       "      <td>0.078819</td>\n",
       "      <td>0.121534</td>\n",
       "      <td>-1.896240</td>\n",
       "      <td>0.910783</td>\n",
       "      <td>0.931110</td>\n",
       "      <td>2.834518</td>\n",
       "      <td>1.923482</td>\n",
       "    </tr>\n",
       "    <tr>\n",
       "      <th>5</th>\n",
       "      <td>5</td>\n",
       "      <td>137642</td>\n",
       "      <td>20090602</td>\n",
       "      <td>24.0</td>\n",
       "      <td>10</td>\n",
       "      <td>0.0</td>\n",
       "      <td>1.0</td>\n",
       "      <td>0.0</td>\n",
       "      <td>109</td>\n",
       "      <td>10.0</td>\n",
       "      <td>...</td>\n",
       "      <td>0.260246</td>\n",
       "      <td>0.000518</td>\n",
       "      <td>0.119838</td>\n",
       "      <td>0.090922</td>\n",
       "      <td>0.048769</td>\n",
       "      <td>1.885526</td>\n",
       "      <td>-2.721943</td>\n",
       "      <td>2.457660</td>\n",
       "      <td>-0.286973</td>\n",
       "      <td>0.206573</td>\n",
       "    </tr>\n",
       "    <tr>\n",
       "      <th>6</th>\n",
       "      <td>6</td>\n",
       "      <td>2402</td>\n",
       "      <td>19990411</td>\n",
       "      <td>13.0</td>\n",
       "      <td>4</td>\n",
       "      <td>0.0</td>\n",
       "      <td>0.0</td>\n",
       "      <td>1.0</td>\n",
       "      <td>150</td>\n",
       "      <td>15.0</td>\n",
       "      <td>...</td>\n",
       "      <td>0.267998</td>\n",
       "      <td>0.117675</td>\n",
       "      <td>0.142334</td>\n",
       "      <td>0.025446</td>\n",
       "      <td>0.028174</td>\n",
       "      <td>-4.902200</td>\n",
       "      <td>1.610616</td>\n",
       "      <td>-0.834605</td>\n",
       "      <td>-1.996117</td>\n",
       "      <td>-0.103180</td>\n",
       "    </tr>\n",
       "    <tr>\n",
       "      <th>7</th>\n",
       "      <td>7</td>\n",
       "      <td>165346</td>\n",
       "      <td>19990706</td>\n",
       "      <td>26.0</td>\n",
       "      <td>14</td>\n",
       "      <td>1.0</td>\n",
       "      <td>0.0</td>\n",
       "      <td>0.0</td>\n",
       "      <td>101</td>\n",
       "      <td>15.0</td>\n",
       "      <td>...</td>\n",
       "      <td>0.239506</td>\n",
       "      <td>0.000000</td>\n",
       "      <td>0.122943</td>\n",
       "      <td>0.039839</td>\n",
       "      <td>0.082413</td>\n",
       "      <td>3.693829</td>\n",
       "      <td>-0.245014</td>\n",
       "      <td>-2.192810</td>\n",
       "      <td>0.236728</td>\n",
       "      <td>0.195567</td>\n",
       "    </tr>\n",
       "    <tr>\n",
       "      <th>8</th>\n",
       "      <td>8</td>\n",
       "      <td>2974</td>\n",
       "      <td>20030205</td>\n",
       "      <td>19.0</td>\n",
       "      <td>1</td>\n",
       "      <td>2.0</td>\n",
       "      <td>1.0</td>\n",
       "      <td>1.0</td>\n",
       "      <td>179</td>\n",
       "      <td>15.0</td>\n",
       "      <td>...</td>\n",
       "      <td>0.263833</td>\n",
       "      <td>0.116583</td>\n",
       "      <td>0.144255</td>\n",
       "      <td>0.039851</td>\n",
       "      <td>0.024388</td>\n",
       "      <td>-4.925234</td>\n",
       "      <td>1.587796</td>\n",
       "      <td>0.075348</td>\n",
       "      <td>-1.551098</td>\n",
       "      <td>0.069433</td>\n",
       "    </tr>\n",
       "    <tr>\n",
       "      <th>9</th>\n",
       "      <td>9</td>\n",
       "      <td>82021</td>\n",
       "      <td>19980101</td>\n",
       "      <td>7.0</td>\n",
       "      <td>7</td>\n",
       "      <td>5.0</td>\n",
       "      <td>0.0</td>\n",
       "      <td>0.0</td>\n",
       "      <td>88</td>\n",
       "      <td>15.0</td>\n",
       "      <td>...</td>\n",
       "      <td>0.262473</td>\n",
       "      <td>0.068267</td>\n",
       "      <td>0.012176</td>\n",
       "      <td>0.010291</td>\n",
       "      <td>0.098727</td>\n",
       "      <td>-1.089584</td>\n",
       "      <td>0.600683</td>\n",
       "      <td>-4.186210</td>\n",
       "      <td>0.198273</td>\n",
       "      <td>-1.025822</td>\n",
       "    </tr>\n",
       "  </tbody>\n",
       "</table>\n",
       "<p>10 rows × 31 columns</p>\n",
       "</div>"
      ],
      "text/plain": [
       "   SaleID    name   regDate  model  brand  bodyType  fuelType  gearbox  power  \\\n",
       "0       0     736  20040402   30.0      6       1.0       0.0      0.0     60   \n",
       "1       1    2262  20030301   40.0      1       2.0       0.0      0.0      0   \n",
       "2       2   14874  20040403  115.0     15       1.0       0.0      0.0    163   \n",
       "3       3   71865  19960908  109.0     10       0.0       0.0      1.0    193   \n",
       "4       4  111080  20120103  110.0      5       1.0       0.0      0.0     68   \n",
       "5       5  137642  20090602   24.0     10       0.0       1.0      0.0    109   \n",
       "6       6    2402  19990411   13.0      4       0.0       0.0      1.0    150   \n",
       "7       7  165346  19990706   26.0     14       1.0       0.0      0.0    101   \n",
       "8       8    2974  20030205   19.0      1       2.0       1.0      1.0    179   \n",
       "9       9   82021  19980101    7.0      7       5.0       0.0      0.0     88   \n",
       "\n",
       "   kilometer  ...       v_5       v_6       v_7       v_8       v_9      v_10  \\\n",
       "0       12.5  ...  0.235676  0.101988  0.129549  0.022816  0.097462 -2.881803   \n",
       "1       15.0  ...  0.264777  0.121004  0.135731  0.026597  0.020582 -4.900482   \n",
       "2       12.5  ...  0.251410  0.114912  0.165147  0.062173  0.027075 -4.846749   \n",
       "3       15.0  ...  0.274293  0.110300  0.121964  0.033395  0.000000 -4.509599   \n",
       "4        5.0  ...  0.228036  0.073205  0.091880  0.078819  0.121534 -1.896240   \n",
       "5       10.0  ...  0.260246  0.000518  0.119838  0.090922  0.048769  1.885526   \n",
       "6       15.0  ...  0.267998  0.117675  0.142334  0.025446  0.028174 -4.902200   \n",
       "7       15.0  ...  0.239506  0.000000  0.122943  0.039839  0.082413  3.693829   \n",
       "8       15.0  ...  0.263833  0.116583  0.144255  0.039851  0.024388 -4.925234   \n",
       "9       15.0  ...  0.262473  0.068267  0.012176  0.010291  0.098727 -1.089584   \n",
       "\n",
       "       v_11      v_12      v_13      v_14  \n",
       "0  2.804097 -2.420821  0.795292  0.914762  \n",
       "1  2.096338 -1.030483 -1.722674  0.245522  \n",
       "2  1.803559  1.565330 -0.832687 -0.229963  \n",
       "3  1.285940 -0.501868 -2.438353 -0.478699  \n",
       "4  0.910783  0.931110  2.834518  1.923482  \n",
       "5 -2.721943  2.457660 -0.286973  0.206573  \n",
       "6  1.610616 -0.834605 -1.996117 -0.103180  \n",
       "7 -0.245014 -2.192810  0.236728  0.195567  \n",
       "8  1.587796  0.075348 -1.551098  0.069433  \n",
       "9  0.600683 -4.186210  0.198273 -1.025822  \n",
       "\n",
       "[10 rows x 31 columns]"
      ]
     },
     "execution_count": 204,
     "metadata": {},
     "output_type": "execute_result"
    }
   ],
   "source": [
    "data_train = pd.read_csv('./used_car_train_20200313.csv', sep=' ')\n",
    "data_train.head(10)"
   ]
  },
  {
   "cell_type": "code",
   "execution_count": 205,
   "metadata": {
    "scrolled": true
   },
   "outputs": [
    {
     "name": "stdout",
     "output_type": "stream",
     "text": [
      "<class 'pandas.core.frame.DataFrame'>\n",
      "RangeIndex: 150000 entries, 0 to 149999\n",
      "Data columns (total 31 columns):\n",
      " #   Column             Non-Null Count   Dtype  \n",
      "---  ------             --------------   -----  \n",
      " 0   SaleID             150000 non-null  int64  \n",
      " 1   name               150000 non-null  int64  \n",
      " 2   regDate            150000 non-null  int64  \n",
      " 3   model              149999 non-null  float64\n",
      " 4   brand              150000 non-null  int64  \n",
      " 5   bodyType           145494 non-null  float64\n",
      " 6   fuelType           141320 non-null  float64\n",
      " 7   gearbox            144019 non-null  float64\n",
      " 8   power              150000 non-null  int64  \n",
      " 9   kilometer          150000 non-null  float64\n",
      " 10  notRepairedDamage  150000 non-null  object \n",
      " 11  regionCode         150000 non-null  int64  \n",
      " 12  seller             150000 non-null  int64  \n",
      " 13  offerType          150000 non-null  int64  \n",
      " 14  creatDate          150000 non-null  int64  \n",
      " 15  price              150000 non-null  int64  \n",
      " 16  v_0                150000 non-null  float64\n",
      " 17  v_1                150000 non-null  float64\n",
      " 18  v_2                150000 non-null  float64\n",
      " 19  v_3                150000 non-null  float64\n",
      " 20  v_4                150000 non-null  float64\n",
      " 21  v_5                150000 non-null  float64\n",
      " 22  v_6                150000 non-null  float64\n",
      " 23  v_7                150000 non-null  float64\n",
      " 24  v_8                150000 non-null  float64\n",
      " 25  v_9                150000 non-null  float64\n",
      " 26  v_10               150000 non-null  float64\n",
      " 27  v_11               150000 non-null  float64\n",
      " 28  v_12               150000 non-null  float64\n",
      " 29  v_13               150000 non-null  float64\n",
      " 30  v_14               150000 non-null  float64\n",
      "dtypes: float64(20), int64(10), object(1)\n",
      "memory usage: 35.5+ MB\n"
     ]
    }
   ],
   "source": [
    "data_train.info()"
   ]
  },
  {
   "cell_type": "code",
   "execution_count": 206,
   "metadata": {},
   "outputs": [],
   "source": [
    "# 变量类型\n",
    "date_columns = ['creatDate', 'regDate']\n",
    "useless_columns = ['SaleID', 'name', 'regionCode',]\n",
    "label_columns = ['price']\n",
    "categorical_columns = ['brand', 'bodyType', 'fuelType', 'gearbox', 'notRepairedDamage', 'seller', 'offerType', 'model']\n",
    "numeric_columns = ['power', 'kilometer', 'v_0', 'v_1', 'v_2', 'v_3', 'v_4', 'v_5', 'v_6', 'v_7', 'v_8', 'v_9', \n",
    "                   'v_10', 'v_11', 'v_12','v_13', 'v_14']"
   ]
  },
  {
   "cell_type": "code",
   "execution_count": 207,
   "metadata": {
    "scrolled": true
   },
   "outputs": [
    {
     "data": {
      "text/html": [
       "<div>\n",
       "<style scoped>\n",
       "    .dataframe tbody tr th:only-of-type {\n",
       "        vertical-align: middle;\n",
       "    }\n",
       "\n",
       "    .dataframe tbody tr th {\n",
       "        vertical-align: top;\n",
       "    }\n",
       "\n",
       "    .dataframe thead th {\n",
       "        text-align: right;\n",
       "    }\n",
       "</style>\n",
       "<table border=\"1\" class=\"dataframe\">\n",
       "  <thead>\n",
       "    <tr style=\"text-align: right;\">\n",
       "      <th></th>\n",
       "      <th>SaleID</th>\n",
       "      <th>name</th>\n",
       "      <th>regDate</th>\n",
       "      <th>model</th>\n",
       "      <th>brand</th>\n",
       "      <th>bodyType</th>\n",
       "      <th>fuelType</th>\n",
       "      <th>gearbox</th>\n",
       "      <th>power</th>\n",
       "      <th>kilometer</th>\n",
       "      <th>...</th>\n",
       "      <th>v_5</th>\n",
       "      <th>v_6</th>\n",
       "      <th>v_7</th>\n",
       "      <th>v_8</th>\n",
       "      <th>v_9</th>\n",
       "      <th>v_10</th>\n",
       "      <th>v_11</th>\n",
       "      <th>v_12</th>\n",
       "      <th>v_13</th>\n",
       "      <th>v_14</th>\n",
       "    </tr>\n",
       "  </thead>\n",
       "  <tbody>\n",
       "    <tr>\n",
       "      <th>0</th>\n",
       "      <td>200000</td>\n",
       "      <td>133777</td>\n",
       "      <td>20000501</td>\n",
       "      <td>67.0</td>\n",
       "      <td>0</td>\n",
       "      <td>1.0</td>\n",
       "      <td>0.0</td>\n",
       "      <td>0.0</td>\n",
       "      <td>101</td>\n",
       "      <td>15.0</td>\n",
       "      <td>...</td>\n",
       "      <td>0.236520</td>\n",
       "      <td>0.000241</td>\n",
       "      <td>0.105319</td>\n",
       "      <td>0.046233</td>\n",
       "      <td>0.094522</td>\n",
       "      <td>3.619512</td>\n",
       "      <td>-0.280607</td>\n",
       "      <td>-2.019761</td>\n",
       "      <td>0.978828</td>\n",
       "      <td>0.803322</td>\n",
       "    </tr>\n",
       "    <tr>\n",
       "      <th>1</th>\n",
       "      <td>200001</td>\n",
       "      <td>61206</td>\n",
       "      <td>19950211</td>\n",
       "      <td>19.0</td>\n",
       "      <td>6</td>\n",
       "      <td>2.0</td>\n",
       "      <td>0.0</td>\n",
       "      <td>0.0</td>\n",
       "      <td>73</td>\n",
       "      <td>6.0</td>\n",
       "      <td>...</td>\n",
       "      <td>0.261518</td>\n",
       "      <td>0.000000</td>\n",
       "      <td>0.120323</td>\n",
       "      <td>0.046784</td>\n",
       "      <td>0.035385</td>\n",
       "      <td>2.997376</td>\n",
       "      <td>-1.406705</td>\n",
       "      <td>-1.020884</td>\n",
       "      <td>-1.349990</td>\n",
       "      <td>-0.200542</td>\n",
       "    </tr>\n",
       "    <tr>\n",
       "      <th>2</th>\n",
       "      <td>200002</td>\n",
       "      <td>67829</td>\n",
       "      <td>20090606</td>\n",
       "      <td>5.0</td>\n",
       "      <td>5</td>\n",
       "      <td>4.0</td>\n",
       "      <td>0.0</td>\n",
       "      <td>0.0</td>\n",
       "      <td>120</td>\n",
       "      <td>5.0</td>\n",
       "      <td>...</td>\n",
       "      <td>0.261691</td>\n",
       "      <td>0.090836</td>\n",
       "      <td>0.000000</td>\n",
       "      <td>0.079655</td>\n",
       "      <td>0.073586</td>\n",
       "      <td>-3.951084</td>\n",
       "      <td>-0.433467</td>\n",
       "      <td>0.918964</td>\n",
       "      <td>1.634604</td>\n",
       "      <td>1.027173</td>\n",
       "    </tr>\n",
       "    <tr>\n",
       "      <th>3</th>\n",
       "      <td>200003</td>\n",
       "      <td>8892</td>\n",
       "      <td>20020601</td>\n",
       "      <td>22.0</td>\n",
       "      <td>9</td>\n",
       "      <td>1.0</td>\n",
       "      <td>0.0</td>\n",
       "      <td>0.0</td>\n",
       "      <td>58</td>\n",
       "      <td>15.0</td>\n",
       "      <td>...</td>\n",
       "      <td>0.236050</td>\n",
       "      <td>0.101777</td>\n",
       "      <td>0.098950</td>\n",
       "      <td>0.026830</td>\n",
       "      <td>0.096614</td>\n",
       "      <td>-2.846788</td>\n",
       "      <td>2.800267</td>\n",
       "      <td>-2.524610</td>\n",
       "      <td>1.076819</td>\n",
       "      <td>0.461610</td>\n",
       "    </tr>\n",
       "    <tr>\n",
       "      <th>4</th>\n",
       "      <td>200004</td>\n",
       "      <td>76998</td>\n",
       "      <td>20030301</td>\n",
       "      <td>46.0</td>\n",
       "      <td>6</td>\n",
       "      <td>0.0</td>\n",
       "      <td>NaN</td>\n",
       "      <td>0.0</td>\n",
       "      <td>116</td>\n",
       "      <td>15.0</td>\n",
       "      <td>...</td>\n",
       "      <td>0.257000</td>\n",
       "      <td>0.000000</td>\n",
       "      <td>0.066732</td>\n",
       "      <td>0.057771</td>\n",
       "      <td>0.068852</td>\n",
       "      <td>2.839010</td>\n",
       "      <td>-1.659801</td>\n",
       "      <td>-0.924142</td>\n",
       "      <td>0.199423</td>\n",
       "      <td>0.451014</td>\n",
       "    </tr>\n",
       "  </tbody>\n",
       "</table>\n",
       "<p>5 rows × 30 columns</p>\n",
       "</div>"
      ],
      "text/plain": [
       "   SaleID    name   regDate  model  brand  bodyType  fuelType  gearbox  power  \\\n",
       "0  200000  133777  20000501   67.0      0       1.0       0.0      0.0    101   \n",
       "1  200001   61206  19950211   19.0      6       2.0       0.0      0.0     73   \n",
       "2  200002   67829  20090606    5.0      5       4.0       0.0      0.0    120   \n",
       "3  200003    8892  20020601   22.0      9       1.0       0.0      0.0     58   \n",
       "4  200004   76998  20030301   46.0      6       0.0       NaN      0.0    116   \n",
       "\n",
       "   kilometer  ...       v_5       v_6       v_7       v_8       v_9      v_10  \\\n",
       "0       15.0  ...  0.236520  0.000241  0.105319  0.046233  0.094522  3.619512   \n",
       "1        6.0  ...  0.261518  0.000000  0.120323  0.046784  0.035385  2.997376   \n",
       "2        5.0  ...  0.261691  0.090836  0.000000  0.079655  0.073586 -3.951084   \n",
       "3       15.0  ...  0.236050  0.101777  0.098950  0.026830  0.096614 -2.846788   \n",
       "4       15.0  ...  0.257000  0.000000  0.066732  0.057771  0.068852  2.839010   \n",
       "\n",
       "       v_11      v_12      v_13      v_14  \n",
       "0 -0.280607 -2.019761  0.978828  0.803322  \n",
       "1 -1.406705 -1.020884 -1.349990 -0.200542  \n",
       "2 -0.433467  0.918964  1.634604  1.027173  \n",
       "3  2.800267 -2.524610  1.076819  0.461610  \n",
       "4 -1.659801 -0.924142  0.199423  0.451014  \n",
       "\n",
       "[5 rows x 30 columns]"
      ]
     },
     "execution_count": 207,
     "metadata": {},
     "output_type": "execute_result"
    }
   ],
   "source": [
    "data_test = pd.read_csv('./used_car_testB_20200421.csv', sep=' ')\n",
    "data_test.head(5)"
   ]
  },
  {
   "cell_type": "code",
   "execution_count": 208,
   "metadata": {},
   "outputs": [
    {
     "name": "stdout",
     "output_type": "stream",
     "text": [
      "<class 'pandas.core.frame.DataFrame'>\n",
      "RangeIndex: 50000 entries, 0 to 49999\n",
      "Data columns (total 30 columns):\n",
      " #   Column             Non-Null Count  Dtype  \n",
      "---  ------             --------------  -----  \n",
      " 0   SaleID             50000 non-null  int64  \n",
      " 1   name               50000 non-null  int64  \n",
      " 2   regDate            50000 non-null  int64  \n",
      " 3   model              50000 non-null  float64\n",
      " 4   brand              50000 non-null  int64  \n",
      " 5   bodyType           48496 non-null  float64\n",
      " 6   fuelType           47076 non-null  float64\n",
      " 7   gearbox            48032 non-null  float64\n",
      " 8   power              50000 non-null  int64  \n",
      " 9   kilometer          50000 non-null  float64\n",
      " 10  notRepairedDamage  50000 non-null  object \n",
      " 11  regionCode         50000 non-null  int64  \n",
      " 12  seller             50000 non-null  int64  \n",
      " 13  offerType          50000 non-null  int64  \n",
      " 14  creatDate          50000 non-null  int64  \n",
      " 15  v_0                50000 non-null  float64\n",
      " 16  v_1                50000 non-null  float64\n",
      " 17  v_2                50000 non-null  float64\n",
      " 18  v_3                50000 non-null  float64\n",
      " 19  v_4                50000 non-null  float64\n",
      " 20  v_5                50000 non-null  float64\n",
      " 21  v_6                50000 non-null  float64\n",
      " 22  v_7                50000 non-null  float64\n",
      " 23  v_8                50000 non-null  float64\n",
      " 24  v_9                50000 non-null  float64\n",
      " 25  v_10               50000 non-null  float64\n",
      " 26  v_11               50000 non-null  float64\n",
      " 27  v_12               50000 non-null  float64\n",
      " 28  v_13               50000 non-null  float64\n",
      " 29  v_14               50000 non-null  float64\n",
      "dtypes: float64(20), int64(9), object(1)\n",
      "memory usage: 11.4+ MB\n"
     ]
    }
   ],
   "source": [
    "data_test.info()"
   ]
  },
  {
   "cell_type": "code",
   "execution_count": 209,
   "metadata": {},
   "outputs": [
    {
     "data": {
      "image/png": "[encoded data removed]",
      "text/plain": [
       "<Figure size 432x288 with 1 Axes>"
      ]
     },
     "metadata": {
      "needs_background": "light"
     },
     "output_type": "display_data"
    }
   ],
   "source": [
    "# 标签分布查看\n",
    "data_train['price'].hist(bins=100)\n",
    "plt.show()"
   ]
  },
  {
   "cell_type": "code",
   "execution_count": 210,
   "metadata": {},
   "outputs": [
    {
     "data": {
      "image/png": "[encoded data removed]",
      "text/plain": [
       "<Figure size 1152x432 with 2 Axes>"
      ]
     },
     "metadata": {
      "needs_background": "light"
     },
     "output_type": "display_data"
    }
   ],
   "source": [
    "# 缺失值查看\n",
    "train_null = data_train[data_train.columns[data_train.isnull().sum() != 0]].isnull().sum()\n",
    "test_null = data_test[data_test.columns[data_test.isnull().sum() != 0]].isnull().sum()\n",
    "fig, ax = plt.subplots(1, 2, figsize=(16,6), sharey=True)\n",
    "for idx, (i, j) in enumerate(zip([train_null, test_null], ['train', 'test'])):\n",
    "    index = [x for x in range(len(i.index))]\n",
    "    ax[idx].bar(index, i.values)\n",
    "    ax[idx].set_title(j)\n",
    "    ax[idx].set_xticks([x for x in range(len(i.index))])\n",
    "    ax[idx].set_xticklabels(i.index)\n",
    "    ax[idx].grid()\n",
    "plt.show()"
   ]
  },
  {
   "cell_type": "code",
   "execution_count": 211,
   "metadata": {},
   "outputs": [
    {
     "data": {
      "text/plain": [
       "0"
      ]
     },
     "execution_count": 211,
     "metadata": {},
     "output_type": "execute_result"
    }
   ],
   "source": [
    "# 重复值查看\n",
    "data_train.duplicated().sum()"
   ]
  },
  {
   "cell_type": "code",
   "execution_count": 212,
   "metadata": {},
   "outputs": [
    {
     "name": "stdout",
     "output_type": "stream",
     "text": [
      "train ['notRepairedDamage']\n",
      "test ['notRepairedDamage']\n"
     ]
    }
   ],
   "source": [
    "# 非法值查看\n",
    "print('train', data_train.select_dtypes(include='object').columns.tolist())\n",
    "print('test', data_test.select_dtypes(include='object').columns.tolist())"
   ]
  },
  {
   "cell_type": "code",
   "execution_count": 213,
   "metadata": {},
   "outputs": [
    {
     "data": {
      "image/png": "[encoded data removed]",
      "text/plain": [
       "<Figure size 1152x576 with 9 Axes>"
      ]
     },
     "metadata": {
      "needs_background": "light"
     },
     "output_type": "display_data"
    }
   ],
   "source": [
    "# 离散变量特征分布查看\n",
    "data_train[categorical_columns].hist(bins=20, figsize=(16, 8))\n",
    "plt.show()"
   ]
  },
  {
   "cell_type": "code",
   "execution_count": 214,
   "metadata": {},
   "outputs": [
    {
     "data": {
      "image/png": "[encoded data removed]",
      "text/plain": [
       "<Figure size 1152x864 with 20 Axes>"
      ]
     },
     "metadata": {
      "needs_background": "light"
     },
     "output_type": "display_data"
    }
   ],
   "source": [
    "# 连续变量分布查看\n",
    "data_train[numeric_columns].hist(bins=20, figsize=(16, 12))\n",
    "plt.show()"
   ]
  },
  {
   "cell_type": "code",
   "execution_count": 215,
   "metadata": {},
   "outputs": [
    {
     "data": {
      "image/png": "[encoded data removed]",
      "text/plain": [
       "<Figure size 1152x432 with 1 Axes>"
      ]
     },
     "metadata": {
      "needs_background": "light"
     },
     "output_type": "display_data"
    }
   ],
   "source": [
    "# 连续性变量相关性查看\n",
    "corr_data = data_train.corrwith(data_train['price'])[numeric_columns].sort_values()\n",
    "plt.figure(figsize=(16 ,6))\n",
    "plt.bar(corr_data.index, corr_data.values)\n",
    "plt.show()"
   ]
  },
  {
   "cell_type": "markdown",
   "metadata": {},
   "source": [
    "# 数据预处理"
   ]
  },
  {
   "cell_type": "code",
   "execution_count": 269,
   "metadata": {},
   "outputs": [
    {
     "name": "stdout",
     "output_type": "stream",
     "text": [
      "<class 'pandas.core.frame.DataFrame'>\n",
      "RangeIndex: 150000 entries, 0 to 149999\n",
      "Data columns (total 27 columns):\n",
      " #   Column             Non-Null Count   Dtype  \n",
      "---  ------             --------------   -----  \n",
      " 0   power              150000 non-null  int64  \n",
      " 1   kilometer          150000 non-null  float64\n",
      " 2   v_0                150000 non-null  float64\n",
      " 3   v_1                150000 non-null  float64\n",
      " 4   v_2                150000 non-null  float64\n",
      " 5   v_3                150000 non-null  float64\n",
      " 6   v_4                150000 non-null  float64\n",
      " 7   v_5                150000 non-null  float64\n",
      " 8   v_6                150000 non-null  float64\n",
      " 9   v_7                150000 non-null  float64\n",
      " 10  v_8                150000 non-null  float64\n",
      " 11  v_9                150000 non-null  float64\n",
      " 12  v_10               150000 non-null  float64\n",
      " 13  v_11               150000 non-null  float64\n",
      " 14  v_12               150000 non-null  float64\n",
      " 15  v_13               150000 non-null  float64\n",
      " 16  v_14               150000 non-null  float64\n",
      " 17  brand              150000 non-null  int64  \n",
      " 18  bodyType           145494 non-null  float64\n",
      " 19  fuelType           141320 non-null  float64\n",
      " 20  gearbox            144019 non-null  float64\n",
      " 21  notRepairedDamage  150000 non-null  object \n",
      " 22  seller             150000 non-null  int64  \n",
      " 23  offerType          150000 non-null  int64  \n",
      " 24  model              149999 non-null  float64\n",
      " 25  creatDate          150000 non-null  int64  \n",
      " 26  regDate            150000 non-null  int64  \n",
      "dtypes: float64(20), int64(6), object(1)\n",
      "memory usage: 30.9+ MB\n"
     ]
    }
   ],
   "source": [
    "# 拷贝一份\n",
    "features = data_train.copy()\n",
    "labels = data_train['price'].copy()\n",
    "features = features[numeric_columns+categorical_columns+date_columns]\n",
    "features.info()"
   ]
  },
  {
   "cell_type": "markdown",
   "metadata": {},
   "source": [
    "## 可计算处理"
   ]
  },
  {
   "cell_type": "code",
   "execution_count": 270,
   "metadata": {},
   "outputs": [
    {
     "name": "stdout",
     "output_type": "stream",
     "text": [
      "<class 'pandas.core.frame.DataFrame'>\n",
      "RangeIndex: 150000 entries, 0 to 149999\n",
      "Data columns (total 27 columns):\n",
      " #   Column             Non-Null Count   Dtype  \n",
      "---  ------             --------------   -----  \n",
      " 0   power              150000 non-null  int64  \n",
      " 1   kilometer          150000 non-null  float64\n",
      " 2   v_0                150000 non-null  float64\n",
      " 3   v_1                150000 non-null  float64\n",
      " 4   v_2                150000 non-null  float64\n",
      " 5   v_3                150000 non-null  float64\n",
      " 6   v_4                150000 non-null  float64\n",
      " 7   v_5                150000 non-null  float64\n",
      " 8   v_6                150000 non-null  float64\n",
      " 9   v_7                150000 non-null  float64\n",
      " 10  v_8                150000 non-null  float64\n",
      " 11  v_9                150000 non-null  float64\n",
      " 12  v_10               150000 non-null  float64\n",
      " 13  v_11               150000 non-null  float64\n",
      " 14  v_12               150000 non-null  float64\n",
      " 15  v_13               150000 non-null  float64\n",
      " 16  v_14               150000 non-null  float64\n",
      " 17  brand              150000 non-null  int64  \n",
      " 18  bodyType           150000 non-null  float64\n",
      " 19  fuelType           150000 non-null  float64\n",
      " 20  gearbox            150000 non-null  float64\n",
      " 21  notRepairedDamage  150000 non-null  int64  \n",
      " 22  seller             150000 non-null  int64  \n",
      " 23  offerType          150000 non-null  int64  \n",
      " 24  model              150000 non-null  float64\n",
      " 25  creatDate          150000 non-null  int64  \n",
      " 26  regDate            150000 non-null  int64  \n",
      "dtypes: float64(20), int64(7)\n",
      "memory usage: 30.9 MB\n"
     ]
    }
   ],
   "source": [
    "# 非法值\n",
    "features['notRepairedDamage'] = features['notRepairedDamage'].map({'0.0': 0, '1.0': 1,  '-': 0})\n",
    "\n",
    "# 缺失值(均值、众数补全)\n",
    "null_columns = ['bodyType', 'fuelType', 'gearbox', 'model']\n",
    "features.fillna(value={x: features[x].mode().values[0] for x in null_columns}, inplace=True)\n",
    "features.info()"
   ]
  },
  {
   "cell_type": "code",
   "execution_count": 271,
   "metadata": {},
   "outputs": [],
   "source": [
    "# # 非法值\n",
    "# features['notRepairedDamage'] = features['notRepairedDamage'].map({'0.0': 0, '1.0': 1,  '-': np.nan})\n",
    "\n",
    "# # KNN补全\n",
    "# def knn_fill_na(label_column, features_columns, dataframe, model=None):\n",
    "#     # 获得特征列\n",
    "#     knn_features = dataframe[features_columns]\n",
    "    \n",
    "#     # knn的训练集测试集索引拆分\n",
    "#     knn_train_index = knn_labels[~dataframe[column].isnull()].index.tolist()\n",
    "#     knn_test_index = knn_labels[dataframe[column].isnull()].index.tolist()\n",
    "\n",
    "#     # 获得训练集的特征和标签，测试集的特征\n",
    "#     knn_train_features = knn_features.iloc[knn_train_index]\n",
    "#     knn_train_labels = dataframe.iloc[knn_train_index][column]\n",
    "#     knn_test_features = knn_features.iloc[knn_test_index]\n",
    "    \n",
    "#     if model:\n",
    "#         # 有model直接预测\n",
    "#         predict = model.predict(knn_test_features)    \n",
    "#     else:\n",
    "#         # 训练并预测空值\n",
    "#         model = KNeighborsClassifier(n_neighbors=5)\n",
    "#         model.fit(knn_train_features, knn_train_labels)\n",
    "#         predict = knn.predict(knn_test_features)\n",
    "\n",
    "#     return predict, knn_test_index, model\n",
    "\n",
    "# # 保存KNN模型，预测转换用\n",
    "# knn_model = {}\n",
    "\n",
    "# # 执行knn填充\n",
    "# null_columns = ['bodyType', 'fuelType', 'gearbox', 'notRepairedDamage']\n",
    "# features_columns = [x for x in features.columns.tolist() if x not in null_columns]\n",
    "# for column in null_columns:\n",
    "#     predict, predict_index, model = knn_fill_na(column, features_columns, features, model=None)\n",
    "#     features.loc[predict_index, column] = predict\n",
    "#     knn_model[column] = model"
   ]
  },
  {
   "cell_type": "markdown",
   "metadata": {},
   "source": [
    "## 特征构造"
   ]
  },
  {
   "cell_type": "markdown",
   "metadata": {},
   "source": [
    "### 人工构造"
   ]
  },
  {
   "cell_type": "code",
   "execution_count": 272,
   "metadata": {},
   "outputs": [],
   "source": [
    "# 时间特征\n",
    "features['creatDate'] = pd.to_datetime(features['creatDate'], format='%Y%m%d')\n",
    "features['regDate'] = features['regDate'].apply(lambda x: str(x))\n",
    "features['regDate'] = features['regDate'].apply(lambda x: x[:4]+'01'+x[6:] if x[4:6] == '00' else x)\n",
    "features['regDate'] = pd.to_datetime(features['regDate'], format='%Y%m%d')\n",
    "features['new_date'] = features['creatDate'] - features['regDate']\n",
    "features['new_date'] = features['new_date'].apply(lambda x: x.days)\n",
    "features.drop(date_columns, axis=1, inplace=True)\n",
    "\n",
    "# offertype 和 seller 样本极端不平衡，选择不要\n",
    "features.drop(['offerType', 'seller'], axis=1, inplace=True)"
   ]
  },
  {
   "cell_type": "code",
   "execution_count": 273,
   "metadata": {},
   "outputs": [],
   "source": [
    "# brand字段增加平均值，最大值，最小值，标准差\n",
    "# for i in ['brand_max', 'brand_min', 'brand_avg', 'brand_std', 'brand_mode']:\n",
    "#     features[i] = 0\n",
    "\n",
    "# for brand, brand_groupby in features.groupby('brand'):\n",
    "#     idx = brand_groupby.index\n",
    "#     features.loc[idx, 'brand_max'] = labels.iloc[brand_groupby.index].max()\n",
    "#     features.loc[idx, 'brand_min'] = labels.iloc[brand_groupby.index].min()\n",
    "#     features.loc[idx, 'brand_avg'] = labels.iloc[brand_groupby.index].mean()\n",
    "#     features.loc[idx, 'brand_mode'] = labels.iloc[brand_groupby.index].mode()[0]\n",
    "#     features.loc[idx, 'brand_std'] = labels.iloc[brand_groupby.index].std()\n",
    "# features.info()"
   ]
  },
  {
   "cell_type": "code",
   "execution_count": 274,
   "metadata": {},
   "outputs": [
    {
     "name": "stdout",
     "output_type": "stream",
     "text": [
      "<class 'pandas.core.frame.DataFrame'>\n",
      "RangeIndex: 150000 entries, 0 to 149999\n",
      "Data columns (total 32 columns):\n",
      " #   Column             Non-Null Count   Dtype  \n",
      "---  ------             --------------   -----  \n",
      " 0   power              150000 non-null  int64  \n",
      " 1   kilometer          150000 non-null  float64\n",
      " 2   v_0                150000 non-null  float64\n",
      " 3   v_1                150000 non-null  float64\n",
      " 4   v_2                150000 non-null  float64\n",
      " 5   v_3                150000 non-null  float64\n",
      " 6   v_4                150000 non-null  float64\n",
      " 7   v_5                150000 non-null  float64\n",
      " 8   v_6                150000 non-null  float64\n",
      " 9   v_7                150000 non-null  float64\n",
      " 10  v_8                150000 non-null  float64\n",
      " 11  v_9                150000 non-null  float64\n",
      " 12  v_10               150000 non-null  float64\n",
      " 13  v_11               150000 non-null  float64\n",
      " 14  v_12               150000 non-null  float64\n",
      " 15  v_13               150000 non-null  float64\n",
      " 16  v_14               150000 non-null  float64\n",
      " 17  brand              150000 non-null  int64  \n",
      " 18  bodyType           150000 non-null  float64\n",
      " 19  fuelType           150000 non-null  float64\n",
      " 20  gearbox            150000 non-null  float64\n",
      " 21  notRepairedDamage  150000 non-null  int64  \n",
      " 22  model              150000 non-null  float64\n",
      " 23  new_date           150000 non-null  int64  \n",
      " 24  model_max          150000 non-null  int64  \n",
      " 25  model_min          150000 non-null  int64  \n",
      " 26  model_avg          150000 non-null  float64\n",
      " 27  model_median       150000 non-null  float64\n",
      " 28  brand_max          150000 non-null  int64  \n",
      " 29  brand_min          150000 non-null  int64  \n",
      " 30  brand_avg          150000 non-null  float64\n",
      " 31  brand_median       150000 non-null  float64\n",
      "dtypes: float64(24), int64(8)\n",
      "memory usage: 36.6 MB\n"
     ]
    }
   ],
   "source": [
    "for col in ['model', 'brand']:\n",
    "    new_col = ['{}_{}'.format(col, x) for x in ['max', 'min', 'avg', 'median']]\n",
    "    for i in new_col:\n",
    "        features[i] = 0\n",
    "\n",
    "    for name, name_groupby in features.groupby(col):\n",
    "        idx = name_groupby.index\n",
    "        features.loc[idx, new_col[0]] = labels.iloc[name_groupby.index].max()\n",
    "        features.loc[idx, new_col[1]] = labels.iloc[name_groupby.index].min()\n",
    "        features.loc[idx, new_col[2]] = labels.iloc[name_groupby.index].mean()\n",
    "        features.loc[idx, new_col[3]] = labels.iloc[name_groupby.index].median()\n",
    "features.info()"
   ]
  },
  {
   "cell_type": "code",
   "execution_count": 275,
   "metadata": {},
   "outputs": [],
   "source": [
    "# 标签取对数\n",
    "labels = np.log(labels)"
   ]
  },
  {
   "cell_type": "markdown",
   "metadata": {},
   "source": [
    "### 机器构造"
   ]
  },
  {
   "cell_type": "code",
   "execution_count": 18,
   "metadata": {},
   "outputs": [],
   "source": [
    "df_onehot = pd.DataFrame()\n",
    "onehot_columns = list(set(categorical_columns) & set(features.columns.tolist()))\n",
    "for column in onehot_columns:\n",
    "    temp_onehot = pd.get_dummies(features[column], prefix=column, prefix_sep='_')\n",
    "    df_onehot = pd.concat([temp_onehot, df_onehot], axis=1)\n",
    "\n",
    "features.drop(column, inplace=True, axis=1)\n",
    "\n",
    "dim = 10\n",
    "pca = PCA(n_components=dim)\n",
    "result_pca = pca.fit_transform(df_onehot)\n",
    "\n",
    "for i in range(dim):\n",
    "    features_name = 'pca_{}'.format(i)\n",
    "    features[features_name] = result_pca[:,i]"
   ]
  },
  {
   "cell_type": "markdown",
   "metadata": {},
   "source": [
    "## 标准化数据"
   ]
  },
  {
   "cell_type": "code",
   "execution_count": 276,
   "metadata": {},
   "outputs": [],
   "source": [
    "ss = StandardScaler()\n",
    "ready_features = ss.fit_transform(features)"
   ]
  },
  {
   "cell_type": "markdown",
   "metadata": {},
   "source": [
    "## 数据集拆分"
   ]
  },
  {
   "cell_type": "code",
   "execution_count": 277,
   "metadata": {},
   "outputs": [
    {
     "name": "stdout",
     "output_type": "stream",
     "text": [
      "X_train (100500, 32)\n",
      "y_train (100500,)\n",
      "X_test (49500, 32)\n",
      "y_test (49500,)\n"
     ]
    }
   ],
   "source": [
    "X_train, X_test, y_train, y_test = train_test_split(ready_features, labels, test_size=0.33, random_state=123)\n",
    "print('X_train', X_train.shape)\n",
    "print('y_train', y_train.shape)\n",
    "print('X_test', X_test.shape)\n",
    "print('y_test', y_test.shape)"
   ]
  },
  {
   "cell_type": "markdown",
   "metadata": {},
   "source": [
    "# 模型训练"
   ]
  },
  {
   "cell_type": "code",
   "execution_count": 283,
   "metadata": {},
   "outputs": [],
   "source": [
    "# LR\n",
    "# reg = LinearRegression()\n",
    "\n",
    "# GBDT\n",
    "reg = GradientBoostingRegressor(learning_rate=0.01, n_estimators=200,)"
   ]
  },
  {
   "cell_type": "code",
   "execution_count": 284,
   "metadata": {},
   "outputs": [],
   "source": [
    "reg.fit(X_train, y_train)\n",
    "predict = reg.predict(X_test)"
   ]
  },
  {
   "cell_type": "markdown",
   "metadata": {},
   "source": [
    "# 模型评估"
   ]
  },
  {
   "cell_type": "code",
   "execution_count": 285,
   "metadata": {},
   "outputs": [],
   "source": [
    "# # 学习曲线\n",
    "# train_sizes_abs, train_scores, test_scores = learning_curve(lr, X_train, y_train, scoring='neg_mean_absolute_error')\n",
    "# plt.plot(train_scores.mean(axis=1), label='train')\n",
    "# plt.plot(test_scores.mean(axis=1), label='test')\n",
    "# plt.legend()\n",
    "# plt.grid()\n",
    "# plt.show()"
   ]
  },
  {
   "cell_type": "code",
   "execution_count": 286,
   "metadata": {},
   "outputs": [
    {
     "name": "stderr",
     "output_type": "stream",
     "text": [
      "/opt/conda/lib/python3.7/site-packages/pandas/core/series.py:679: RuntimeWarning: overflow encountered in exp\n",
      "  result = getattr(ufunc, method)(*inputs, **kwargs)\n"
     ]
    },
    {
     "ename": "ValueError",
     "evalue": "Input contains NaN, infinity or a value too large for dtype('float64').",
     "output_type": "error",
     "traceback": [
      "\u001b[0;31m---------------------------------------------------------------------------\u001b[0m",
      "\u001b[0;31mValueError\u001b[0m                                Traceback (most recent call last)",
      "\u001b[0;32m<ipython-input-286-d3c5d166a462>\u001b[0m in \u001b[0;36m<module>\u001b[0;34m\u001b[0m\n\u001b[1;32m      4\u001b[0m \u001b[0;34m\u001b[0m\u001b[0m\n\u001b[1;32m      5\u001b[0m \u001b[0;31m# MAE\u001b[0m\u001b[0;34m\u001b[0m\u001b[0;34m\u001b[0m\u001b[0;34m\u001b[0m\u001b[0m\n\u001b[0;32m----> 6\u001b[0;31m \u001b[0mprint\u001b[0m\u001b[0;34m(\u001b[0m\u001b[0;34m'MAE score: {:.2f}'\u001b[0m\u001b[0;34m.\u001b[0m\u001b[0mformat\u001b[0m\u001b[0;34m(\u001b[0m\u001b[0mmean_absolute_error\u001b[0m\u001b[0;34m(\u001b[0m\u001b[0my_test\u001b[0m\u001b[0;34m,\u001b[0m \u001b[0mpredict\u001b[0m\u001b[0;34m)\u001b[0m\u001b[0;34m)\u001b[0m\u001b[0;34m)\u001b[0m\u001b[0;34m\u001b[0m\u001b[0;34m\u001b[0m\u001b[0m\n\u001b[0m",
      "\u001b[0;32m~/.local/lib/python3.7/site-packages/sklearn/metrics/_regression.py\u001b[0m in \u001b[0;36mmean_absolute_error\u001b[0;34m(y_true, y_pred, sample_weight, multioutput)\u001b[0m\n\u001b[1;32m    176\u001b[0m     \"\"\"\n\u001b[1;32m    177\u001b[0m     y_type, y_true, y_pred, multioutput = _check_reg_targets(\n\u001b[0;32m--> 178\u001b[0;31m         y_true, y_pred, multioutput)\n\u001b[0m\u001b[1;32m    179\u001b[0m     \u001b[0mcheck_consistent_length\u001b[0m\u001b[0;34m(\u001b[0m\u001b[0my_true\u001b[0m\u001b[0;34m,\u001b[0m \u001b[0my_pred\u001b[0m\u001b[0;34m,\u001b[0m \u001b[0msample_weight\u001b[0m\u001b[0;34m)\u001b[0m\u001b[0;34m\u001b[0m\u001b[0;34m\u001b[0m\u001b[0m\n\u001b[1;32m    180\u001b[0m     output_errors = np.average(np.abs(y_pred - y_true),\n",
      "\u001b[0;32m~/.local/lib/python3.7/site-packages/sklearn/metrics/_regression.py\u001b[0m in \u001b[0;36m_check_reg_targets\u001b[0;34m(y_true, y_pred, multioutput, dtype)\u001b[0m\n\u001b[1;32m     83\u001b[0m     \"\"\"\n\u001b[1;32m     84\u001b[0m     \u001b[0mcheck_consistent_length\u001b[0m\u001b[0;34m(\u001b[0m\u001b[0my_true\u001b[0m\u001b[0;34m,\u001b[0m \u001b[0my_pred\u001b[0m\u001b[0;34m)\u001b[0m\u001b[0;34m\u001b[0m\u001b[0;34m\u001b[0m\u001b[0m\n\u001b[0;32m---> 85\u001b[0;31m     \u001b[0my_true\u001b[0m \u001b[0;34m=\u001b[0m \u001b[0mcheck_array\u001b[0m\u001b[0;34m(\u001b[0m\u001b[0my_true\u001b[0m\u001b[0;34m,\u001b[0m \u001b[0mensure_2d\u001b[0m\u001b[0;34m=\u001b[0m\u001b[0;32mFalse\u001b[0m\u001b[0;34m,\u001b[0m \u001b[0mdtype\u001b[0m\u001b[0;34m=\u001b[0m\u001b[0mdtype\u001b[0m\u001b[0;34m)\u001b[0m\u001b[0;34m\u001b[0m\u001b[0;34m\u001b[0m\u001b[0m\n\u001b[0m\u001b[1;32m     86\u001b[0m     \u001b[0my_pred\u001b[0m \u001b[0;34m=\u001b[0m \u001b[0mcheck_array\u001b[0m\u001b[0;34m(\u001b[0m\u001b[0my_pred\u001b[0m\u001b[0;34m,\u001b[0m \u001b[0mensure_2d\u001b[0m\u001b[0;34m=\u001b[0m\u001b[0;32mFalse\u001b[0m\u001b[0;34m,\u001b[0m \u001b[0mdtype\u001b[0m\u001b[0;34m=\u001b[0m\u001b[0mdtype\u001b[0m\u001b[0;34m)\u001b[0m\u001b[0;34m\u001b[0m\u001b[0;34m\u001b[0m\u001b[0m\n\u001b[1;32m     87\u001b[0m \u001b[0;34m\u001b[0m\u001b[0m\n",
      "\u001b[0;32m~/.local/lib/python3.7/site-packages/sklearn/utils/validation.py\u001b[0m in \u001b[0;36mcheck_array\u001b[0;34m(array, accept_sparse, accept_large_sparse, dtype, order, copy, force_all_finite, ensure_2d, allow_nd, ensure_min_samples, ensure_min_features, warn_on_dtype, estimator)\u001b[0m\n\u001b[1;32m    576\u001b[0m         \u001b[0;32mif\u001b[0m \u001b[0mforce_all_finite\u001b[0m\u001b[0;34m:\u001b[0m\u001b[0;34m\u001b[0m\u001b[0;34m\u001b[0m\u001b[0m\n\u001b[1;32m    577\u001b[0m             _assert_all_finite(array,\n\u001b[0;32m--> 578\u001b[0;31m                                allow_nan=force_all_finite == 'allow-nan')\n\u001b[0m\u001b[1;32m    579\u001b[0m \u001b[0;34m\u001b[0m\u001b[0m\n\u001b[1;32m    580\u001b[0m     \u001b[0;32mif\u001b[0m \u001b[0mensure_min_samples\u001b[0m \u001b[0;34m>\u001b[0m \u001b[0;36m0\u001b[0m\u001b[0;34m:\u001b[0m\u001b[0;34m\u001b[0m\u001b[0;34m\u001b[0m\u001b[0m\n",
      "\u001b[0;32m~/.local/lib/python3.7/site-packages/sklearn/utils/validation.py\u001b[0m in \u001b[0;36m_assert_all_finite\u001b[0;34m(X, allow_nan, msg_dtype)\u001b[0m\n\u001b[1;32m     58\u001b[0m                     \u001b[0mmsg_err\u001b[0m\u001b[0;34m.\u001b[0m\u001b[0mformat\u001b[0m\u001b[0;34m\u001b[0m\u001b[0;34m\u001b[0m\u001b[0m\n\u001b[1;32m     59\u001b[0m                     (type_err,\n\u001b[0;32m---> 60\u001b[0;31m                      msg_dtype if msg_dtype is not None else X.dtype)\n\u001b[0m\u001b[1;32m     61\u001b[0m             )\n\u001b[1;32m     62\u001b[0m     \u001b[0;31m# for object dtype data, we only check for NaNs (GH-13254)\u001b[0m\u001b[0;34m\u001b[0m\u001b[0;34m\u001b[0m\u001b[0;34m\u001b[0m\u001b[0m\n",
      "\u001b[0;31mValueError\u001b[0m: Input contains NaN, infinity or a value too large for dtype('float64')."
     ]
    }
   ],
   "source": [
    "# 标签反变换\n",
    "predict = np.exp(predict)\n",
    "y_test = np.exp(y_test)\n",
    "\n",
    "# MAE\n",
    "print('MAE score: {:.2f}'.format(mean_absolute_error(y_test, predict)))"
   ]
  },
  {
   "cell_type": "code",
   "execution_count": null,
   "metadata": {},
   "outputs": [],
   "source": [
    "df = pd.DataFrame()\n",
    "df['true'] = y_test\n",
    "df['predict'] = predict\n",
    "df['new'] = df['true'] - df['predict']\n",
    "df.head(20)"
   ]
  },
  {
   "cell_type": "code",
   "execution_count": null,
   "metadata": {},
   "outputs": [],
   "source": []
  }
 ],
 "metadata": {
  "kernelspec": {
   "display_name": "Python 3",
   "language": "python",
   "name": "python3"
  },
  "language_info": {
   "codemirror_mode": {
    "name": "ipython",
    "version": 3
   },
   "file_extension": ".py",
   "mimetype": "text/x-python",
   "name": "python",
   "nbconvert_exporter": "python",
   "pygments_lexer": "ipython3",
   "version": "3.7.6"
  }
 },
 "nbformat": 4,
 "nbformat_minor": 4
}
