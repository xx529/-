{
 "cells": [
  {
   "cell_type": "markdown",
   "metadata": {},
   "source": [
    "# 二手车价格预测\n",
    "模型融合"
   ]
  },
  {
   "cell_type": "markdown",
   "metadata": {},
   "source": [
    "# 数据探索"
   ]
  },
  {
   "cell_type": "code",
   "execution_count": 1,
   "metadata": {},
   "outputs": [],
   "source": [
    "import pandas as pd\n",
    "import numpy as np\n",
    "from sklearn.linear_model import LinearRegression\n",
    "from sklearn.preprocessing import StandardScaler, OneHotEncoder\n",
    "from sklearn.model_selection import train_test_split\n",
    "from sklearn.metrics import mean_absolute_error\n",
    "from sklearn.tree import DecisionTreeRegressor\n",
    "import matplotlib.pyplot as plt\n",
    "import warnings\n",
    "warnings.filterwarnings('ignore')"
   ]
  },
  {
   "cell_type": "code",
   "execution_count": 2,
   "metadata": {},
   "outputs": [],
   "source": [
    "data_train = pd.read_csv('./used_car_train_20200313.csv', sep=' ')\n",
    "data_submit = pd.read_csv('./used_car_testB_20200421.csv', sep=' ')"
   ]
  },
  {
   "cell_type": "code",
   "execution_count": 3,
   "metadata": {},
   "outputs": [
    {
     "name": "stdout",
     "output_type": "stream",
     "text": [
      "<class 'pandas.core.frame.DataFrame'>\n",
      "RangeIndex: 150000 entries, 0 to 149999\n",
      "Data columns (total 31 columns):\n",
      " #   Column             Non-Null Count   Dtype  \n",
      "---  ------             --------------   -----  \n",
      " 0   SaleID             150000 non-null  int64  \n",
      " 1   name               150000 non-null  int64  \n",
      " 2   regDate            150000 non-null  int64  \n",
      " 3   model              149999 non-null  float64\n",
      " 4   brand              150000 non-null  int64  \n",
      " 5   bodyType           145494 non-null  float64\n",
      " 6   fuelType           141320 non-null  float64\n",
      " 7   gearbox            144019 non-null  float64\n",
      " 8   power              150000 non-null  int64  \n",
      " 9   kilometer          150000 non-null  float64\n",
      " 10  notRepairedDamage  150000 non-null  object \n",
      " 11  regionCode         150000 non-null  int64  \n",
      " 12  seller             150000 non-null  int64  \n",
      " 13  offerType          150000 non-null  int64  \n",
      " 14  creatDate          150000 non-null  int64  \n",
      " 15  price              150000 non-null  int64  \n",
      " 16  v_0                150000 non-null  float64\n",
      " 17  v_1                150000 non-null  float64\n",
      " 18  v_2                150000 non-null  float64\n",
      " 19  v_3                150000 non-null  float64\n",
      " 20  v_4                150000 non-null  float64\n",
      " 21  v_5                150000 non-null  float64\n",
      " 22  v_6                150000 non-null  float64\n",
      " 23  v_7                150000 non-null  float64\n",
      " 24  v_8                150000 non-null  float64\n",
      " 25  v_9                150000 non-null  float64\n",
      " 26  v_10               150000 non-null  float64\n",
      " 27  v_11               150000 non-null  float64\n",
      " 28  v_12               150000 non-null  float64\n",
      " 29  v_13               150000 non-null  float64\n",
      " 30  v_14               150000 non-null  float64\n",
      "dtypes: float64(20), int64(10), object(1)\n",
      "memory usage: 35.5+ MB\n"
     ]
    }
   ],
   "source": [
    "data_train.info()"
   ]
  },
  {
   "cell_type": "code",
   "execution_count": 4,
   "metadata": {},
   "outputs": [
    {
     "name": "stdout",
     "output_type": "stream",
     "text": [
      "<class 'pandas.core.frame.DataFrame'>\n",
      "RangeIndex: 50000 entries, 0 to 49999\n",
      "Data columns (total 30 columns):\n",
      " #   Column             Non-Null Count  Dtype  \n",
      "---  ------             --------------  -----  \n",
      " 0   SaleID             50000 non-null  int64  \n",
      " 1   name               50000 non-null  int64  \n",
      " 2   regDate            50000 non-null  int64  \n",
      " 3   model              50000 non-null  float64\n",
      " 4   brand              50000 non-null  int64  \n",
      " 5   bodyType           48496 non-null  float64\n",
      " 6   fuelType           47076 non-null  float64\n",
      " 7   gearbox            48032 non-null  float64\n",
      " 8   power              50000 non-null  int64  \n",
      " 9   kilometer          50000 non-null  float64\n",
      " 10  notRepairedDamage  50000 non-null  object \n",
      " 11  regionCode         50000 non-null  int64  \n",
      " 12  seller             50000 non-null  int64  \n",
      " 13  offerType          50000 non-null  int64  \n",
      " 14  creatDate          50000 non-null  int64  \n",
      " 15  v_0                50000 non-null  float64\n",
      " 16  v_1                50000 non-null  float64\n",
      " 17  v_2                50000 non-null  float64\n",
      " 18  v_3                50000 non-null  float64\n",
      " 19  v_4                50000 non-null  float64\n",
      " 20  v_5                50000 non-null  float64\n",
      " 21  v_6                50000 non-null  float64\n",
      " 22  v_7                50000 non-null  float64\n",
      " 23  v_8                50000 non-null  float64\n",
      " 24  v_9                50000 non-null  float64\n",
      " 25  v_10               50000 non-null  float64\n",
      " 26  v_11               50000 non-null  float64\n",
      " 27  v_12               50000 non-null  float64\n",
      " 28  v_13               50000 non-null  float64\n",
      " 29  v_14               50000 non-null  float64\n",
      "dtypes: float64(20), int64(9), object(1)\n",
      "memory usage: 11.4+ MB\n"
     ]
    }
   ],
   "source": [
    "data_submit.info()"
   ]
  },
  {
   "cell_type": "code",
   "execution_count": 5,
   "metadata": {},
   "outputs": [],
   "source": [
    "# 变量类型\n",
    "date_columns = ['creatDate', 'regDate']\n",
    "useless_columns = ['SaleID', 'name', 'seller', 'offerType']\n",
    "label_columns = ['price']\n",
    "categorical_columns = ['brand', 'bodyType', 'fuelType', 'gearbox', \n",
    "                       'notRepairedDamage', 'model','regionCode']\n",
    "numeric_columns = ['power', 'kilometer', 'v_0', 'v_1', 'v_2', 'v_3', 'v_4', \n",
    "                   'v_5', 'v_6', 'v_7', 'v_8', 'v_9', \n",
    "                   'v_10', 'v_11', 'v_12','v_13', 'v_14']"
   ]
  },
  {
   "cell_type": "code",
   "execution_count": 6,
   "metadata": {},
   "outputs": [],
   "source": [
    "# 训练集数据\n",
    "features = data_train[numeric_columns + categorical_columns + date_columns + label_columns]\n",
    "labels = data_train[label_columns]"
   ]
  },
  {
   "cell_type": "code",
   "execution_count": 7,
   "metadata": {},
   "outputs": [],
   "source": [
    "# 测试集数据\n",
    "sub_features = data_submit[numeric_columns + categorical_columns + date_columns]"
   ]
  },
  {
   "cell_type": "markdown",
   "metadata": {},
   "source": [
    "# 数据清洗"
   ]
  },
  {
   "cell_type": "code",
   "execution_count": 8,
   "metadata": {},
   "outputs": [],
   "source": [
    "# 非法值\n",
    "features['notRepairedDamage'] = features['notRepairedDamage'].apply(lambda x: int(float(x)) if x != '-' else 0)\n",
    "sub_features['notRepairedDamage'] = sub_features['notRepairedDamage'].apply(lambda x: int(float(x)) if x != '-' else 0)"
   ]
  },
  {
   "cell_type": "code",
   "execution_count": 9,
   "metadata": {},
   "outputs": [],
   "source": [
    "# 缺失值(均值、众数补全)\n",
    "null_columns = ['bodyType', 'fuelType', 'gearbox', 'model']\n",
    "for col in null_columns:\n",
    "    fill_value = features[col].mode().values[0]\n",
    "    features.fillna(value={col: fill_value}, inplace=True)\n",
    "    sub_features.fillna(value={col: fill_value}, inplace=True)"
   ]
  },
  {
   "cell_type": "markdown",
   "metadata": {},
   "source": [
    "# 特征构造"
   ]
  },
  {
   "cell_type": "code",
   "execution_count": 10,
   "metadata": {},
   "outputs": [],
   "source": [
    "# 时间特征\n",
    "features['creatDate'] = pd.to_datetime(features['creatDate'], format='%Y%m%d')\n",
    "features['regDate'] = features['regDate'].apply(lambda x: str(x))\n",
    "features['regDate'] = features['regDate'].apply(lambda x: x[:4]+'01'+x[6:] if x[4:6] == '00' else x)\n",
    "features['regDate'] = pd.to_datetime(features['regDate'], format='%Y%m%d')\n",
    "features['new_date'] = features['creatDate'] - features['regDate']\n",
    "features['new_date'] = features['new_date'].apply(lambda x: x.days)\n",
    "features.drop(date_columns, axis=1, inplace=True)\n",
    "\n",
    "sub_features['creatDate'] = pd.to_datetime(sub_features['creatDate'], format='%Y%m%d')\n",
    "sub_features['regDate'] = sub_features['regDate'].apply(lambda x: str(x))\n",
    "sub_features['regDate'] = sub_features['regDate'].apply(lambda x: x[:4]+'01'+x[6:] if x[4:6] == '00' else x)\n",
    "sub_features['regDate'] = pd.to_datetime(sub_features['regDate'], format='%Y%m%d')\n",
    "sub_features['new_date'] = sub_features['creatDate'] - sub_features['regDate']\n",
    "sub_features['new_date'] = sub_features['new_date'].apply(lambda x: x.days)\n",
    "sub_features.drop(date_columns, axis=1, inplace=True)"
   ]
  },
  {
   "cell_type": "code",
   "execution_count": 11,
   "metadata": {},
   "outputs": [],
   "source": [
    "# 增加价格最大最小平均标准差\n",
    "add_col = ['brand']\n",
    "agg_method = ['max', 'min', 'mean', 'median']\n",
    "for col in add_col:\n",
    "    # 设置列名与获取列数据的字典形式\n",
    "    col_name = ['{}_{}'.format(col, x) for x in agg_method]\n",
    "    temp_dict = features.groupby(col)['price'].agg(agg_method).to_dict()\n",
    "    \n",
    "    # 建立列名\n",
    "    features = pd.concat([features, pd.DataFrame(columns=col_name)], axis=1)    \n",
    "    sub_features = pd.concat([sub_features, pd.DataFrame(columns=col_name)], axis=1)  \n",
    "    \n",
    "    # 填充数据\n",
    "    for i, j in zip(col_name, temp_dict):\n",
    "        features[i] = features[col].apply(lambda x: temp_dict[j][x])\n",
    "        sub_features[i] = sub_features[col].apply(lambda x: temp_dict[j][x])\n",
    "\n",
    "features.drop('price', axis=1, inplace=True)"
   ]
  },
  {
   "cell_type": "code",
   "execution_count": 12,
   "metadata": {
    "scrolled": true
   },
   "outputs": [],
   "source": [
    "# 独热编码\n",
    "for col in ['brand', 'bodyType', 'fuelType', 'gearbox', 'notRepairedDamage',]:\n",
    "    # 训练独热编码\n",
    "    onehot = OneHotEncoder()\n",
    "    features_array = onehot.fit_transform(features[col].values.reshape(-1, 1))\n",
    "    sub_features_array = onehot.transform(sub_features[col].values.reshape(-1, 1))\n",
    "    \n",
    "    # 列名设置\n",
    "    col_name = ['{}_{}'.format(col,x) for x in range(features[col].nunique())]\n",
    "    \n",
    "    # 训练集填充\n",
    "    df_temp = pd.DataFrame(features_array.toarray(), columns=col_name)\n",
    "    features = pd.concat([features, df_temp], axis=1)\n",
    "    features.drop(col, axis=1)\n",
    "    \n",
    "    # 测试集填充\n",
    "    df_temp = pd.DataFrame(sub_features_array.toarray(), columns=col_name)\n",
    "    sub_features = pd.concat([sub_features, df_temp], axis=1)\n",
    "    sub_features.drop(col, axis=1)\n",
    "    break"
   ]
  },
  {
   "cell_type": "markdown",
   "metadata": {},
   "source": [
    "# 数据拆分"
   ]
  },
  {
   "cell_type": "code",
   "execution_count": 13,
   "metadata": {},
   "outputs": [
    {
     "name": "stdout",
     "output_type": "stream",
     "text": [
      "(120000, 69)\n",
      "(120000, 1)\n",
      "(30000, 69)\n",
      "(30000, 1)\n"
     ]
    }
   ],
   "source": [
    "ss = StandardScaler()\n",
    "x = ss.fit_transform(features)\n",
    "y = np.log(labels)\n",
    "sub_train = ss.transform(sub_features)\n",
    "\n",
    "x_train, x_test, y_train, y_test = train_test_split(x, y, test_size=0.20, random_state=1234)\n",
    "print(x_train.shape)\n",
    "print(y_train.shape)\n",
    "print(x_test.shape)\n",
    "print(y_test.shape)"
   ]
  },
  {
   "cell_type": "markdown",
   "metadata": {},
   "source": [
    "# 模型训练"
   ]
  },
  {
   "cell_type": "code",
   "execution_count": 14,
   "metadata": {},
   "outputs": [],
   "source": [
    "from lightgbm import LGBMRegressor\n",
    "from xgboost import XGBRegressor"
   ]
  },
  {
   "cell_type": "code",
   "execution_count": 20,
   "metadata": {},
   "outputs": [
    {
     "name": "stdout",
     "output_type": "stream",
     "text": [
      "lgb MAE 707.4735137234762\n",
      "xgb MAE 661.6514194858869\n"
     ]
    }
   ],
   "source": [
    "# lightgbm\n",
    "lgb = LGBMRegressor()\n",
    "lgb.fit(x_train, y_train)\n",
    "lgb_predict = np.exp(lgb.predict(x_test))\n",
    "lgb_mae = mean_absolute_error(lgb_predict, np.exp(y_test))\n",
    "\n",
    "# xgb\n",
    "xgb = XGBRegressor()\n",
    "xgb.fit(x_train, y_train)\n",
    "xgb_predict = np.exp(xgb.predict(x_test))\n",
    "xgb_mae = mean_absolute_error(xgb_predict, np.exp(y_test))\n",
    "\n",
    "print('lgb MAE', lgb_mae)\n",
    "print('xgb MAE', xgb_mae)"
   ]
  },
  {
   "cell_type": "code",
   "execution_count": 21,
   "metadata": {},
   "outputs": [],
   "source": [
    "# 设置权重，mae大的权重小\n",
    "w_lgb = xgb_mae / (lgb_mae + xgb_mae)\n",
    "w_xgb = lgb_mae / (lgb_mae + xgb_mae)"
   ]
  },
  {
   "cell_type": "code",
   "execution_count": 28,
   "metadata": {},
   "outputs": [],
   "source": [
    "# 全量数据训练模型并通过模型融合预测\n",
    "lgb_sub = LGBMRegressor()\n",
    "lgb_sub.fit(x, y)\n",
    "lgb_predict = np.exp(lgb.predict(sub_train))\n",
    "\n",
    "xgb = XGBRegressor()\n",
    "xgb.fit(x, y)\n",
    "xgb_predict = np.exp(xgb.predict(sub_train))\n",
    "\n",
    "result = lgb_predict * w_lgb + xgb_predict * w_xgb"
   ]
  },
  {
   "cell_type": "code",
   "execution_count": 30,
   "metadata": {},
   "outputs": [
    {
     "data": {
      "text/html": [
       "<div>\n",
       "<style scoped>\n",
       "    .dataframe tbody tr th:only-of-type {\n",
       "        vertical-align: middle;\n",
       "    }\n",
       "\n",
       "    .dataframe tbody tr th {\n",
       "        vertical-align: top;\n",
       "    }\n",
       "\n",
       "    .dataframe thead th {\n",
       "        text-align: right;\n",
       "    }\n",
       "</style>\n",
       "<table border=\"1\" class=\"dataframe\">\n",
       "  <thead>\n",
       "    <tr style=\"text-align: right;\">\n",
       "      <th></th>\n",
       "      <th>SaleID</th>\n",
       "      <th>price</th>\n",
       "    </tr>\n",
       "  </thead>\n",
       "  <tbody>\n",
       "    <tr>\n",
       "      <th>0</th>\n",
       "      <td>150000</td>\n",
       "      <td>1315.004431</td>\n",
       "    </tr>\n",
       "    <tr>\n",
       "      <th>1</th>\n",
       "      <td>150001</td>\n",
       "      <td>1857.325264</td>\n",
       "    </tr>\n",
       "    <tr>\n",
       "      <th>2</th>\n",
       "      <td>150002</td>\n",
       "      <td>7568.686097</td>\n",
       "    </tr>\n",
       "    <tr>\n",
       "      <th>3</th>\n",
       "      <td>150003</td>\n",
       "      <td>1087.552798</td>\n",
       "    </tr>\n",
       "    <tr>\n",
       "      <th>4</th>\n",
       "      <td>150004</td>\n",
       "      <td>2059.223986</td>\n",
       "    </tr>\n",
       "  </tbody>\n",
       "</table>\n",
       "</div>"
      ],
      "text/plain": [
       "   SaleID        price\n",
       "0  150000  1315.004431\n",
       "1  150001  1857.325264\n",
       "2  150002  7568.686097\n",
       "3  150003  1087.552798\n",
       "4  150004  2059.223986"
      ]
     },
     "execution_count": 30,
     "metadata": {},
     "output_type": "execute_result"
    }
   ],
   "source": [
    "# 结果保存\n",
    "sub_csv = pd.read_csv('./used_car_sample_submit.csv')\n",
    "sub_csv['price'] = result\n",
    "sub_csv.to_csv('./xgb_lgb_model_predict.csv', index=False)\n",
    "pd.read_csv('./xgb_lgb_model_predict.csv').head()"
   ]
  },
  {
   "cell_type": "code",
   "execution_count": null,
   "metadata": {},
   "outputs": [],
   "source": []
  }
 ],
 "metadata": {
  "kernelspec": {
   "display_name": "Python 3",
   "language": "python",
   "name": "python3"
  },
  "language_info": {
   "codemirror_mode": {
    "name": "ipython",
    "version": 3
   },
   "file_extension": ".py",
   "mimetype": "text/x-python",
   "name": "python",
   "nbconvert_exporter": "python",
   "pygments_lexer": "ipython3",
   "version": "3.7.6"
  }
 },
 "nbformat": 4,
 "nbformat_minor": 4
}
