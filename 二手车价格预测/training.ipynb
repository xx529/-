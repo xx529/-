{
 "cells": [
  {
   "cell_type": "code",
   "execution_count": 179,
   "metadata": {},
   "outputs": [],
   "source": [
    "import pandas as pd\n",
    "import numpy as np\n",
    "from sklearn.linear_model import LinearRegression\n",
    "from sklearn.preprocessing import StandardScaler, OneHotEncoder\n",
    "from sklearn.model_selection import train_test_split\n",
    "from sklearn.metrics import mean_absolute_error\n",
    "from sklearn.ensemble import GradientBoostingRegressor, GradientBoostingClassifier,  RandomForestRegressor\n",
    "from sklearn.tree import DecisionTreeRegressor\n",
    "import matplotlib.pyplot as plt\n",
    "import warnings\n",
    "warnings.filterwarnings('ignore')"
   ]
  },
  {
   "cell_type": "code",
   "execution_count": 180,
   "metadata": {},
   "outputs": [],
   "source": [
    "data_train = pd.read_csv('./used_car_train_20200313.csv', sep=' ')\n",
    "data_submit = pd.read_csv('./used_car_testB_20200421.csv', sep=' ')"
   ]
  },
  {
   "cell_type": "code",
   "execution_count": 181,
   "metadata": {},
   "outputs": [
    {
     "name": "stdout",
     "output_type": "stream",
     "text": [
      "<class 'pandas.core.frame.DataFrame'>\n",
      "RangeIndex: 150000 entries, 0 to 149999\n",
      "Data columns (total 31 columns):\n",
      " #   Column             Non-Null Count   Dtype  \n",
      "---  ------             --------------   -----  \n",
      " 0   SaleID             150000 non-null  int64  \n",
      " 1   name               150000 non-null  int64  \n",
      " 2   regDate            150000 non-null  int64  \n",
      " 3   model              149999 non-null  float64\n",
      " 4   brand              150000 non-null  int64  \n",
      " 5   bodyType           145494 non-null  float64\n",
      " 6   fuelType           141320 non-null  float64\n",
      " 7   gearbox            144019 non-null  float64\n",
      " 8   power              150000 non-null  int64  \n",
      " 9   kilometer          150000 non-null  float64\n",
      " 10  notRepairedDamage  150000 non-null  object \n",
      " 11  regionCode         150000 non-null  int64  \n",
      " 12  seller             150000 non-null  int64  \n",
      " 13  offerType          150000 non-null  int64  \n",
      " 14  creatDate          150000 non-null  int64  \n",
      " 15  price              150000 non-null  int64  \n",
      " 16  v_0                150000 non-null  float64\n",
      " 17  v_1                150000 non-null  float64\n",
      " 18  v_2                150000 non-null  float64\n",
      " 19  v_3                150000 non-null  float64\n",
      " 20  v_4                150000 non-null  float64\n",
      " 21  v_5                150000 non-null  float64\n",
      " 22  v_6                150000 non-null  float64\n",
      " 23  v_7                150000 non-null  float64\n",
      " 24  v_8                150000 non-null  float64\n",
      " 25  v_9                150000 non-null  float64\n",
      " 26  v_10               150000 non-null  float64\n",
      " 27  v_11               150000 non-null  float64\n",
      " 28  v_12               150000 non-null  float64\n",
      " 29  v_13               150000 non-null  float64\n",
      " 30  v_14               150000 non-null  float64\n",
      "dtypes: float64(20), int64(10), object(1)\n",
      "memory usage: 35.5+ MB\n"
     ]
    }
   ],
   "source": [
    "data_train.info()"
   ]
  },
  {
   "cell_type": "code",
   "execution_count": 182,
   "metadata": {},
   "outputs": [
    {
     "name": "stdout",
     "output_type": "stream",
     "text": [
      "<class 'pandas.core.frame.DataFrame'>\n",
      "RangeIndex: 50000 entries, 0 to 49999\n",
      "Data columns (total 30 columns):\n",
      " #   Column             Non-Null Count  Dtype  \n",
      "---  ------             --------------  -----  \n",
      " 0   SaleID             50000 non-null  int64  \n",
      " 1   name               50000 non-null  int64  \n",
      " 2   regDate            50000 non-null  int64  \n",
      " 3   model              50000 non-null  float64\n",
      " 4   brand              50000 non-null  int64  \n",
      " 5   bodyType           48496 non-null  float64\n",
      " 6   fuelType           47076 non-null  float64\n",
      " 7   gearbox            48032 non-null  float64\n",
      " 8   power              50000 non-null  int64  \n",
      " 9   kilometer          50000 non-null  float64\n",
      " 10  notRepairedDamage  50000 non-null  object \n",
      " 11  regionCode         50000 non-null  int64  \n",
      " 12  seller             50000 non-null  int64  \n",
      " 13  offerType          50000 non-null  int64  \n",
      " 14  creatDate          50000 non-null  int64  \n",
      " 15  v_0                50000 non-null  float64\n",
      " 16  v_1                50000 non-null  float64\n",
      " 17  v_2                50000 non-null  float64\n",
      " 18  v_3                50000 non-null  float64\n",
      " 19  v_4                50000 non-null  float64\n",
      " 20  v_5                50000 non-null  float64\n",
      " 21  v_6                50000 non-null  float64\n",
      " 22  v_7                50000 non-null  float64\n",
      " 23  v_8                50000 non-null  float64\n",
      " 24  v_9                50000 non-null  float64\n",
      " 25  v_10               50000 non-null  float64\n",
      " 26  v_11               50000 non-null  float64\n",
      " 27  v_12               50000 non-null  float64\n",
      " 28  v_13               50000 non-null  float64\n",
      " 29  v_14               50000 non-null  float64\n",
      "dtypes: float64(20), int64(9), object(1)\n",
      "memory usage: 11.4+ MB\n"
     ]
    }
   ],
   "source": [
    "data_submit.info()"
   ]
  },
  {
   "cell_type": "code",
   "execution_count": 183,
   "metadata": {},
   "outputs": [],
   "source": [
    "# 变量类型\n",
    "date_columns = ['creatDate', 'regDate']\n",
    "useless_columns = ['SaleID', 'name', 'seller', 'offerType']\n",
    "label_columns = ['price']\n",
    "categorical_columns = ['brand', 'bodyType', 'fuelType', 'gearbox', \n",
    "                       'notRepairedDamage', 'model','regionCode']\n",
    "numeric_columns = ['power', 'kilometer', 'v_0', 'v_1', 'v_2', 'v_3', 'v_4', \n",
    "                   'v_5', 'v_6', 'v_7', 'v_8', 'v_9', \n",
    "                   'v_10', 'v_11', 'v_12','v_13', 'v_14']"
   ]
  },
  {
   "cell_type": "code",
   "execution_count": 184,
   "metadata": {},
   "outputs": [],
   "source": [
    "# 训练集数据\n",
    "features = data_train[numeric_columns + categorical_columns + date_columns + label_columns]\n",
    "labels = data_train[label_columns]"
   ]
  },
  {
   "cell_type": "code",
   "execution_count": 185,
   "metadata": {},
   "outputs": [],
   "source": [
    "# 测试集数据\n",
    "sub_features = data_submit[numeric_columns + categorical_columns + date_columns]"
   ]
  },
  {
   "cell_type": "markdown",
   "metadata": {},
   "source": [
    "# 数据清洗"
   ]
  },
  {
   "cell_type": "code",
   "execution_count": 186,
   "metadata": {},
   "outputs": [],
   "source": [
    "# 非法值\n",
    "features['notRepairedDamage'] = features['notRepairedDamage'].apply(lambda x: int(float(x)) if x != '-' else 0)\n",
    "sub_features['notRepairedDamage'] = sub_features['notRepairedDamage'].apply(lambda x: int(float(x)) if x != '-' else 0)"
   ]
  },
  {
   "cell_type": "code",
   "execution_count": 187,
   "metadata": {},
   "outputs": [],
   "source": [
    "# 缺失值(均值、众数补全)\n",
    "null_columns = ['bodyType', 'fuelType', 'gearbox', 'model']\n",
    "for col in null_columns:\n",
    "    fill_value = features[col].mode().values[0]\n",
    "    features.fillna(value={col: fill_value}, inplace=True)\n",
    "    sub_features.fillna(value={col: fill_value}, inplace=True)"
   ]
  },
  {
   "cell_type": "markdown",
   "metadata": {},
   "source": [
    "# 特征构造"
   ]
  },
  {
   "cell_type": "code",
   "execution_count": 188,
   "metadata": {},
   "outputs": [],
   "source": [
    "# 时间特征\n",
    "features['creatDate'] = pd.to_datetime(features['creatDate'], format='%Y%m%d')\n",
    "features['regDate'] = features['regDate'].apply(lambda x: str(x))\n",
    "features['regDate'] = features['regDate'].apply(lambda x: x[:4]+'01'+x[6:] if x[4:6] == '00' else x)\n",
    "features['regDate'] = pd.to_datetime(features['regDate'], format='%Y%m%d')\n",
    "features['new_date'] = features['creatDate'] - features['regDate']\n",
    "features['new_date'] = features['new_date'].apply(lambda x: x.days)\n",
    "features.drop(date_columns, axis=1, inplace=True)\n",
    "\n",
    "sub_features['creatDate'] = pd.to_datetime(sub_features['creatDate'], format='%Y%m%d')\n",
    "sub_features['regDate'] = sub_features['regDate'].apply(lambda x: str(x))\n",
    "sub_features['regDate'] = sub_features['regDate'].apply(lambda x: x[:4]+'01'+x[6:] if x[4:6] == '00' else x)\n",
    "sub_features['regDate'] = pd.to_datetime(sub_features['regDate'], format='%Y%m%d')\n",
    "sub_features['new_date'] = sub_features['creatDate'] - sub_features['regDate']\n",
    "sub_features['new_date'] = sub_features['new_date'].apply(lambda x: x.days)\n",
    "sub_features.drop(date_columns, axis=1, inplace=True)"
   ]
  },
  {
   "cell_type": "code",
   "execution_count": 189,
   "metadata": {},
   "outputs": [],
   "source": [
    "# 增加价格最大最小平均标准差\n",
    "add_col = ['brand']\n",
    "agg_method = ['max', 'min', 'mean', 'median']\n",
    "for col in add_col:\n",
    "    # 设置列名与获取列数据的字典形式\n",
    "    col_name = ['{}_{}'.format(col, x) for x in agg_method]\n",
    "    temp_dict = features.groupby(col)['price'].agg(agg_method).to_dict()\n",
    "    \n",
    "    # 建立列名\n",
    "    features = pd.concat([features, pd.DataFrame(columns=col_name)], axis=1)    \n",
    "    sub_features = pd.concat([sub_features, pd.DataFrame(columns=col_name)], axis=1)  \n",
    "    \n",
    "    # 填充数据\n",
    "    for i, j in zip(col_name, temp_dict):\n",
    "        features[i] = features[col].apply(lambda x: temp_dict[j][x])\n",
    "        sub_features[i] = sub_features[col].apply(lambda x: temp_dict[j][x])\n",
    "\n",
    "features.drop('price', axis=1, inplace=True)"
   ]
  },
  {
   "cell_type": "code",
   "execution_count": 190,
   "metadata": {
    "scrolled": true
   },
   "outputs": [],
   "source": [
    "# 独热编码\n",
    "for col in ['brand', 'bodyType', 'fuelType', 'gearbox', 'notRepairedDamage',]:\n",
    "    # 训练独热编码\n",
    "    onehot = OneHotEncoder()\n",
    "    features_array = onehot.fit_transform(features[col].values.reshape(-1, 1))\n",
    "    sub_features_array = onehot.transform(sub_features[col].values.reshape(-1, 1))\n",
    "    \n",
    "    # 列名设置\n",
    "    col_name = ['{}_{}'.format(col,x) for x in range(features[col].nunique())]\n",
    "    \n",
    "    # 训练集填充\n",
    "    df_temp = pd.DataFrame(features_array.toarray(), columns=col_name)\n",
    "    features = pd.concat([features, df_temp], axis=1)\n",
    "    features.drop(col, axis=1)\n",
    "    \n",
    "    # 测试集填充\n",
    "    df_temp = pd.DataFrame(sub_features_array.toarray(), columns=col_name)\n",
    "    sub_features = pd.concat([sub_features, df_temp], axis=1)\n",
    "    sub_features.drop(col, axis=1)\n",
    "    break"
   ]
  },
  {
   "cell_type": "markdown",
   "metadata": {},
   "source": [
    "# 数据拆分"
   ]
  },
  {
   "cell_type": "code",
   "execution_count": 212,
   "metadata": {},
   "outputs": [
    {
     "name": "stdout",
     "output_type": "stream",
     "text": [
      "(120000, 69)\n",
      "(120000, 1)\n",
      "(30000, 69)\n",
      "(30000, 1)\n"
     ]
    }
   ],
   "source": [
    "ss = StandardScaler()\n",
    "x = ss.fit_transform(features)\n",
    "y = np.log(labels)\n",
    "sub_train = ss.transform(sub_features)\n",
    "\n",
    "x_train, x_test, y_train, y_test = train_test_split(x, y, test_size=0.20, random_state=1234)\n",
    "print(x_train.shape)\n",
    "print(y_train.shape)\n",
    "print(x_test.shape)\n",
    "print(y_test.shape)"
   ]
  },
  {
   "cell_type": "markdown",
   "metadata": {},
   "source": [
    "# 模型训练"
   ]
  },
  {
   "cell_type": "markdown",
   "metadata": {},
   "source": [
    "## LR模型"
   ]
  },
  {
   "cell_type": "code",
   "execution_count": 213,
   "metadata": {},
   "outputs": [
    {
     "name": "stdout",
     "output_type": "stream",
     "text": [
      "LR MAE:940.7701105632149\n"
     ]
    }
   ],
   "source": [
    "lr = LinearRegression()\n",
    "lr.fit(x_train, y_train)\n",
    "predict = lr.predict(x_test)\n",
    "result_lr = np.exp(predict)\n",
    "y_true = np.exp(y_test)\n",
    "print('LR MAE:{}'.format(mean_absolute_error(result_lr, y_true)))"
   ]
  },
  {
   "cell_type": "markdown",
   "metadata": {},
   "source": [
    "## 树模型"
   ]
  },
  {
   "cell_type": "code",
   "execution_count": 214,
   "metadata": {},
   "outputs": [
    {
     "name": "stdout",
     "output_type": "stream",
     "text": [
      "TREE MAE:871.4502557008722\n"
     ]
    }
   ],
   "source": [
    "tree = DecisionTreeRegressor()\n",
    "tree.fit(x_train, y_train)\n",
    "predict = tree.predict(x_test)\n",
    "result_tree = np.exp(predict)\n",
    "y_true = np.exp(y_test)\n",
    "print('TREE MAE:{}'.format(mean_absolute_error(result_tree, y_true)))"
   ]
  },
  {
   "cell_type": "markdown",
   "metadata": {},
   "source": [
    "## GBDT模型"
   ]
  },
  {
   "cell_type": "code",
   "execution_count": 215,
   "metadata": {},
   "outputs": [
    {
     "name": "stdout",
     "output_type": "stream",
     "text": [
      "GBDT MAE:871.0509874145636\n"
     ]
    }
   ],
   "source": [
    "gbdt = GradientBoostingRegressor()\n",
    "gbdt.fit(x_train, y_train)\n",
    "predict = gbdt.predict(x_test)\n",
    "result_gbdt = np.exp(predict)\n",
    "y_true = np.exp(y_test)\n",
    "print('GBDT MAE:{}'.format(mean_absolute_error(result_gbdt, y_true)))"
   ]
  },
  {
   "cell_type": "markdown",
   "metadata": {},
   "source": [
    "## GBDT + LR"
   ]
  },
  {
   "cell_type": "code",
   "execution_count": 216,
   "metadata": {},
   "outputs": [
    {
     "name": "stdout",
     "output_type": "stream",
     "text": [
      "GBDT MAE:698.2462373471598\n"
     ]
    }
   ],
   "source": [
    "X_train_, X_test_, y_train_, y_test_ = train_test_split(x, y, test_size=0.5, random_state=666)\n",
    "X_train_lr, X_train_tree, y_train_lr, y_train_tree = train_test_split(X_train_, y_train_, test_size=0.5, random_state=666)\n",
    "\n",
    "# 训练GBDT\n",
    "gbtd_lr = GradientBoostingRegressor(n_estimators=300)\n",
    "gbtd_lr.fit(X_train_tree, y_train_tree)\n",
    "temp = gbtd_lr.apply(X_train_tree)\n",
    "\n",
    "# 训练一个onehot\n",
    "onehot = OneHotEncoder()\n",
    "onehot.fit(temp)\n",
    "\n",
    "# 获得LR的features\n",
    "lr_features = onehot.transform(gbtd_lr.apply(X_train_lr))\n",
    "\n",
    "\n",
    "# 训练LR\n",
    "reg_lr = LinearRegression()\n",
    "reg_lr.fit(lr_features, y_train_lr)\n",
    "\n",
    "# 模型预测\n",
    "test_features = onehot.transform(gbtd_lr.apply(X_test_))\n",
    "predict = reg_lr.predict(test_features)\n",
    "result_gbdt_lr = np.exp(predict)\n",
    "y_true = np.exp(y_test_)\n",
    "print('GBDT MAE:{}'.format(mean_absolute_error(result_gbdt_lr, y_true)))"
   ]
  },
  {
   "cell_type": "markdown",
   "metadata": {},
   "source": [
    "# 结果输出"
   ]
  },
  {
   "cell_type": "code",
   "execution_count": 199,
   "metadata": {
    "scrolled": true
   },
   "outputs": [
    {
     "data": {
      "text/html": [
       "<div>\n",
       "<style scoped>\n",
       "    .dataframe tbody tr th:only-of-type {\n",
       "        vertical-align: middle;\n",
       "    }\n",
       "\n",
       "    .dataframe tbody tr th {\n",
       "        vertical-align: top;\n",
       "    }\n",
       "\n",
       "    .dataframe thead th {\n",
       "        text-align: right;\n",
       "    }\n",
       "</style>\n",
       "<table border=\"1\" class=\"dataframe\">\n",
       "  <thead>\n",
       "    <tr style=\"text-align: right;\">\n",
       "      <th></th>\n",
       "      <th>SaleID</th>\n",
       "      <th>price</th>\n",
       "    </tr>\n",
       "  </thead>\n",
       "  <tbody>\n",
       "    <tr>\n",
       "      <th>0</th>\n",
       "      <td>150000</td>\n",
       "      <td>0</td>\n",
       "    </tr>\n",
       "    <tr>\n",
       "      <th>1</th>\n",
       "      <td>150001</td>\n",
       "      <td>0</td>\n",
       "    </tr>\n",
       "    <tr>\n",
       "      <th>2</th>\n",
       "      <td>150002</td>\n",
       "      <td>0</td>\n",
       "    </tr>\n",
       "    <tr>\n",
       "      <th>3</th>\n",
       "      <td>150003</td>\n",
       "      <td>0</td>\n",
       "    </tr>\n",
       "    <tr>\n",
       "      <th>4</th>\n",
       "      <td>150004</td>\n",
       "      <td>0</td>\n",
       "    </tr>\n",
       "  </tbody>\n",
       "</table>\n",
       "</div>"
      ],
      "text/plain": [
       "   SaleID  price\n",
       "0  150000      0\n",
       "1  150001      0\n",
       "2  150002      0\n",
       "3  150003      0\n",
       "4  150004      0"
      ]
     },
     "execution_count": 199,
     "metadata": {},
     "output_type": "execute_result"
    }
   ],
   "source": [
    "sub_csv = pd.read_csv('./used_car_sample_submit.csv')\n",
    "sub_csv.head()"
   ]
  },
  {
   "cell_type": "markdown",
   "metadata": {},
   "source": [
    "## LR模型\n",
    "**score**：929.7996\n",
    "\n",
    "**排名**：无"
   ]
  },
  {
   "cell_type": "code",
   "execution_count": 207,
   "metadata": {},
   "outputs": [
    {
     "data": {
      "text/html": [
       "<div>\n",
       "<style scoped>\n",
       "    .dataframe tbody tr th:only-of-type {\n",
       "        vertical-align: middle;\n",
       "    }\n",
       "\n",
       "    .dataframe tbody tr th {\n",
       "        vertical-align: top;\n",
       "    }\n",
       "\n",
       "    .dataframe thead th {\n",
       "        text-align: right;\n",
       "    }\n",
       "</style>\n",
       "<table border=\"1\" class=\"dataframe\">\n",
       "  <thead>\n",
       "    <tr style=\"text-align: right;\">\n",
       "      <th></th>\n",
       "      <th>SaleID</th>\n",
       "      <th>price</th>\n",
       "    </tr>\n",
       "  </thead>\n",
       "  <tbody>\n",
       "    <tr>\n",
       "      <th>0</th>\n",
       "      <td>150000</td>\n",
       "      <td>1169.473704</td>\n",
       "    </tr>\n",
       "    <tr>\n",
       "      <th>1</th>\n",
       "      <td>150001</td>\n",
       "      <td>1656.000859</td>\n",
       "    </tr>\n",
       "    <tr>\n",
       "      <th>2</th>\n",
       "      <td>150002</td>\n",
       "      <td>9178.223504</td>\n",
       "    </tr>\n",
       "    <tr>\n",
       "      <th>3</th>\n",
       "      <td>150003</td>\n",
       "      <td>1261.573766</td>\n",
       "    </tr>\n",
       "    <tr>\n",
       "      <th>4</th>\n",
       "      <td>150004</td>\n",
       "      <td>2010.136613</td>\n",
       "    </tr>\n",
       "  </tbody>\n",
       "</table>\n",
       "</div>"
      ],
      "text/plain": [
       "   SaleID        price\n",
       "0  150000  1169.473704\n",
       "1  150001  1656.000859\n",
       "2  150002  9178.223504\n",
       "3  150003  1261.573766\n",
       "4  150004  2010.136613"
      ]
     },
     "execution_count": 207,
     "metadata": {},
     "output_type": "execute_result"
    }
   ],
   "source": [
    "# lr模型 \n",
    "result = np.exp(lr.predict(sub_train))\n",
    "sub_csv['price'] = result\n",
    "sub_csv.to_csv('./lr_model_predict.csv', index=False)\n",
    "pd.read_csv('./lr_model_predict.csv').head()"
   ]
  },
  {
   "cell_type": "markdown",
   "metadata": {},
   "source": [
    "## 树模型\n",
    "**score**：851\n",
    "\n",
    "**排名**：无"
   ]
  },
  {
   "cell_type": "code",
   "execution_count": 208,
   "metadata": {},
   "outputs": [
    {
     "data": {
      "text/html": [
       "<div>\n",
       "<style scoped>\n",
       "    .dataframe tbody tr th:only-of-type {\n",
       "        vertical-align: middle;\n",
       "    }\n",
       "\n",
       "    .dataframe tbody tr th {\n",
       "        vertical-align: top;\n",
       "    }\n",
       "\n",
       "    .dataframe thead th {\n",
       "        text-align: right;\n",
       "    }\n",
       "</style>\n",
       "<table border=\"1\" class=\"dataframe\">\n",
       "  <thead>\n",
       "    <tr style=\"text-align: right;\">\n",
       "      <th></th>\n",
       "      <th>SaleID</th>\n",
       "      <th>price</th>\n",
       "    </tr>\n",
       "  </thead>\n",
       "  <tbody>\n",
       "    <tr>\n",
       "      <th>0</th>\n",
       "      <td>150000</td>\n",
       "      <td>1250.000000</td>\n",
       "    </tr>\n",
       "    <tr>\n",
       "      <th>1</th>\n",
       "      <td>150001</td>\n",
       "      <td>1999.631521</td>\n",
       "    </tr>\n",
       "    <tr>\n",
       "      <th>2</th>\n",
       "      <td>150002</td>\n",
       "      <td>9000.000000</td>\n",
       "    </tr>\n",
       "    <tr>\n",
       "      <th>3</th>\n",
       "      <td>150003</td>\n",
       "      <td>1250.000000</td>\n",
       "    </tr>\n",
       "    <tr>\n",
       "      <th>4</th>\n",
       "      <td>150004</td>\n",
       "      <td>1900.000000</td>\n",
       "    </tr>\n",
       "  </tbody>\n",
       "</table>\n",
       "</div>"
      ],
      "text/plain": [
       "   SaleID        price\n",
       "0  150000  1250.000000\n",
       "1  150001  1999.631521\n",
       "2  150002  9000.000000\n",
       "3  150003  1250.000000\n",
       "4  150004  1900.000000"
      ]
     },
     "execution_count": 208,
     "metadata": {},
     "output_type": "execute_result"
    }
   ],
   "source": [
    "# 树模型\n",
    "result = np.exp(tree.predict(sub_train))\n",
    "sub_csv['price'] = result\n",
    "sub_csv.to_csv('./tree_model_predict.csv', index=False)\n",
    "pd.read_csv('./tree_model_predict.csv').head()"
   ]
  },
  {
   "cell_type": "markdown",
   "metadata": {},
   "source": [
    "## GBDT 模型\n",
    "**score**：866\n",
    "\n",
    "**排名**：无"
   ]
  },
  {
   "cell_type": "code",
   "execution_count": 209,
   "metadata": {},
   "outputs": [
    {
     "data": {
      "text/html": [
       "<div>\n",
       "<style scoped>\n",
       "    .dataframe tbody tr th:only-of-type {\n",
       "        vertical-align: middle;\n",
       "    }\n",
       "\n",
       "    .dataframe tbody tr th {\n",
       "        vertical-align: top;\n",
       "    }\n",
       "\n",
       "    .dataframe thead th {\n",
       "        text-align: right;\n",
       "    }\n",
       "</style>\n",
       "<table border=\"1\" class=\"dataframe\">\n",
       "  <thead>\n",
       "    <tr style=\"text-align: right;\">\n",
       "      <th></th>\n",
       "      <th>SaleID</th>\n",
       "      <th>price</th>\n",
       "    </tr>\n",
       "  </thead>\n",
       "  <tbody>\n",
       "    <tr>\n",
       "      <th>0</th>\n",
       "      <td>150000</td>\n",
       "      <td>1188.076488</td>\n",
       "    </tr>\n",
       "    <tr>\n",
       "      <th>1</th>\n",
       "      <td>150001</td>\n",
       "      <td>1827.994201</td>\n",
       "    </tr>\n",
       "    <tr>\n",
       "      <th>2</th>\n",
       "      <td>150002</td>\n",
       "      <td>8358.396582</td>\n",
       "    </tr>\n",
       "    <tr>\n",
       "      <th>3</th>\n",
       "      <td>150003</td>\n",
       "      <td>1146.104498</td>\n",
       "    </tr>\n",
       "    <tr>\n",
       "      <th>4</th>\n",
       "      <td>150004</td>\n",
       "      <td>1983.759278</td>\n",
       "    </tr>\n",
       "  </tbody>\n",
       "</table>\n",
       "</div>"
      ],
      "text/plain": [
       "   SaleID        price\n",
       "0  150000  1188.076488\n",
       "1  150001  1827.994201\n",
       "2  150002  8358.396582\n",
       "3  150003  1146.104498\n",
       "4  150004  1983.759278"
      ]
     },
     "execution_count": 209,
     "metadata": {},
     "output_type": "execute_result"
    }
   ],
   "source": [
    "# GBDT 模型\n",
    "result = np.exp(gbdt.predict(sub_train))\n",
    "sub_csv['price'] = result\n",
    "sub_csv.to_csv('./gbdt_model_predict.csv', index=False)\n",
    "pd.read_csv('./gbdt_model_predict.csv').head()"
   ]
  },
  {
   "cell_type": "markdown",
   "metadata": {},
   "source": [
    "## GBDT + LR 模型\n",
    "**score**：701\n",
    "\n",
    "**排名**：无"
   ]
  },
  {
   "cell_type": "code",
   "execution_count": 210,
   "metadata": {},
   "outputs": [
    {
     "data": {
      "text/html": [
       "<div>\n",
       "<style scoped>\n",
       "    .dataframe tbody tr th:only-of-type {\n",
       "        vertical-align: middle;\n",
       "    }\n",
       "\n",
       "    .dataframe tbody tr th {\n",
       "        vertical-align: top;\n",
       "    }\n",
       "\n",
       "    .dataframe thead th {\n",
       "        text-align: right;\n",
       "    }\n",
       "</style>\n",
       "<table border=\"1\" class=\"dataframe\">\n",
       "  <thead>\n",
       "    <tr style=\"text-align: right;\">\n",
       "      <th></th>\n",
       "      <th>SaleID</th>\n",
       "      <th>price</th>\n",
       "    </tr>\n",
       "  </thead>\n",
       "  <tbody>\n",
       "    <tr>\n",
       "      <th>0</th>\n",
       "      <td>150000</td>\n",
       "      <td>1294.607887</td>\n",
       "    </tr>\n",
       "    <tr>\n",
       "      <th>1</th>\n",
       "      <td>150001</td>\n",
       "      <td>2020.848436</td>\n",
       "    </tr>\n",
       "    <tr>\n",
       "      <th>2</th>\n",
       "      <td>150002</td>\n",
       "      <td>8671.419165</td>\n",
       "    </tr>\n",
       "    <tr>\n",
       "      <th>3</th>\n",
       "      <td>150003</td>\n",
       "      <td>1132.966049</td>\n",
       "    </tr>\n",
       "    <tr>\n",
       "      <th>4</th>\n",
       "      <td>150004</td>\n",
       "      <td>2030.641463</td>\n",
       "    </tr>\n",
       "  </tbody>\n",
       "</table>\n",
       "</div>"
      ],
      "text/plain": [
       "   SaleID        price\n",
       "0  150000  1294.607887\n",
       "1  150001  2020.848436\n",
       "2  150002  8671.419165\n",
       "3  150003  1132.966049\n",
       "4  150004  2030.641463"
      ]
     },
     "execution_count": 210,
     "metadata": {},
     "output_type": "execute_result"
    }
   ],
   "source": [
    "# GBDT + LR 模型\n",
    "sub_lr_features = onehot.transform(gbtd_lr.apply(sub_train))\n",
    "result = np.exp(reg_lr.predict(sub_lr_features))\n",
    "sub_csv['price'] = result\n",
    "sub_csv.to_csv('./gbtd_lr_model_predict.csv', index=False)\n",
    "pd.read_csv('./gbtd_lr_model_predict.csv').head()"
   ]
  }
 ],
 "metadata": {
  "kernelspec": {
   "display_name": "Python 3",
   "language": "python",
   "name": "python3"
  },
  "language_info": {
   "codemirror_mode": {
    "name": "ipython",
    "version": 3
   },
   "file_extension": ".py",
   "mimetype": "text/x-python",
   "name": "python",
   "nbconvert_exporter": "python",
   "pygments_lexer": "ipython3",
   "version": "3.7.6"
  }
 },
 "nbformat": 4,
 "nbformat_minor": 4
}
