{
 "cells": [
  {
   "cell_type": "code",
   "execution_count": 7,
   "metadata": {},
   "outputs": [
    {
     "data": {
      "image/png": "[encoded data removed]",
      "text/plain": [
       "<Figure size 432x288 with 1 Axes>"
      ]
     },
     "metadata": {
      "needs_background": "light"
     },
     "output_type": "display_data"
    },
    {
     "name": "stdout",
     "output_type": "stream",
     "text": [
      "[0.25482625 0.24903475 0.23359074 0.26061776 0.2857143  0.2857143\n",
      " 0.26254827 0.22972973 0.2007722  0.22779922 0.22200772 0.24324325\n",
      " 0.27220076 0.26061776 0.24131274 0.28764477 0.32818532 0.32818532\n",
      " 0.30501932 0.25675675 0.22007722 0.27027026 0.27992278 0.28957528\n",
      " 0.34362933 0.3146718  0.33204633 0.34362933 0.38416988 0.38416988\n",
      " 0.35521236 0.3127413  0.2818533  0.32046333 0.33011582 0.34749034\n",
      " 0.37258688 0.34942085 0.35328186 0.4208494  0.44401544 0.46718147\n",
      " 0.4034749  0.36872587 0.33204633 0.37451738 0.3783784  0.3783784\n",
      " 0.45559844 0.45366797 0.44208494 0.46911198 0.5096525  0.52509654\n",
      " 0.45752895 0.4073359  0.34749034 0.3880309  0.3938224  0.36293435\n",
      " 0.45366797 0.43822393 0.45173746 0.5096525  0.58301157 0.56563705\n",
      " 0.5        0.44208494 0.3918919  0.44208494 0.46718147 0.44980696\n",
      " 0.51544404 0.519305   0.5212355  0.6081081  0.7027027  0.66988415\n",
      " 0.6023166  0.52895755 0.45752895 0.53667957 0.54826254 0.53474903\n",
      " 0.6119691  0.6042471  0.6138996  0.72200775 0.7972973  0.78185326\n",
      " 0.6853282  0.5907336  0.523166   0.5907336  0.6081081  0.5810811\n",
      " 0.68725866 0.6718147  0.6853282 ]\n",
      "(99, 2)\n",
      "(99,)\n",
      "(99, 1, 2)\n",
      "(99, 1, 1)\n",
      "torch.Size([99, 1, 4])\n",
      "torch.Size([1, 1, 4])\n"
     ]
    }
   ],
   "source": [
    "# 使用RNN处理时序问题\n",
    "import numpy as np\n",
    "import pandas as pd\n",
    "import matplotlib.pyplot as plt\n",
    "%matplotlib inline\n",
    "import pandas as pd\n",
    "\n",
    "# 数据加载\n",
    "data = pd.read_csv('./flights.csv')\n",
    "dataset_ori = data['passengers'].values.astype('float32')\n",
    "plt.plot(dataset_ori)\n",
    "plt.show()\n",
    "\n",
    "#首先我们进行预处理，将数据中 na 的数据去掉，然后将数据标准化到 0 ~ 1 之间。\n",
    "max_value = np.max(dataset_ori)\n",
    "min_value = np.min(dataset_ori)\n",
    "scalar = max_value - min_value\n",
    "dataset = list(map(lambda x: x / scalar, dataset_ori))\n",
    " \n",
    "'''\n",
    "look_back: 过去多少个月的乘客数\n",
    "dataX: 生成的数据集X\n",
    "dataY: 下一个月的乘客数\n",
    "'''\n",
    "def create_dataset(dataset, look_back=2):\n",
    "    dataX, dataY = [], []\n",
    "    for i in range(len(dataset) - look_back):\n",
    "        a = dataset[i:(i + look_back)]\n",
    "        dataX.append(a)\n",
    "        dataY.append(dataset[i + look_back])\n",
    "    return np.array(dataX), np.array(dataY)\n",
    "    \n",
    "# 创建输入输出\n",
    "data_X, data_Y = create_dataset(dataset)\n",
    "#print('data_x=', data_X)\n",
    "#print('data_y=', data_Y)\n",
    "\n",
    "# 划分训练集和测试集，70% 作为训练集\n",
    "train_size = int(len(data_X) * 0.7)\n",
    "train_X = data_X[:train_size]\n",
    "train_Y = data_Y[:train_size]\n",
    "print(train_Y)\n",
    "'''\n",
    "    改变数据的维度\n",
    "    RNN读入的数据维度是 (batch, seq, feature)\n",
    "    只有一个序列，所以 seq 是 1\n",
    "    feature 代表依据的几个月份，这里定的是两个月份，所以 feature 就是 2\n",
    "'''\n",
    "import torch\n",
    "print(train_X.shape)\n",
    "print(train_Y.shape)\n",
    "train_X = train_X.reshape(-1, 1, 2) #batch, seq, feature\n",
    "train_Y = train_Y.reshape(-1, 1, 1) #batch, seq, feature\n",
    "print(train_X.shape)\n",
    "print(train_Y.shape)\n",
    "train_x = torch.from_numpy(train_X)\n",
    "train_y = torch.from_numpy(train_Y)\n",
    "\n",
    " \n",
    "#定义模型\n",
    "from torch import nn\n",
    "class rnn_model(nn.Module):\n",
    "     def __init__(self):\n",
    "          super(rnn_model, self).__init__()\n",
    "          input_size, hidden_size, output_size=2, 4, 1\n",
    "          num_layers=1\n",
    "          self.rnn = nn.RNN(input_size, hidden_size, num_layers)\n",
    "          #self.rnn = nn.LSTM(input_size, hidden_size, num_layers) # LSTM参数更多，训练的epoach可能要更多\n",
    "          #self.rnn = nn.GRU(input_size, hidden_size, num_layers)\n",
    "          self.out = nn.Linear(hidden_size, output_size)\n",
    "          \n",
    "     def forward(self, x):\n",
    "          x, _ = self.rnn(x) \n",
    "          print(x.shape)\n",
    "          print(_.shape)\n",
    "          b, s, h = x.shape  #(batch, seq, hidden)\n",
    "          x = x.view(b*s, h) #转化为线性层的输入方式\n",
    "          x = self.out(x)\n",
    "          x = x.view(b, s, -1) #(99, 1, 1)\n",
    "          return x\n",
    "# 设置使用GPU\n",
    "# cuda = torch.device('cuda')\n",
    "\n",
    "#定义好网络结构，输入的维度是 2，因为我们使用两个月的流量作为输入，隐藏层的维度可以任意指定，这里我们选的 4\n",
    "model = rnn_model()\n",
    "# model = model.cuda()\n",
    "criterion = nn.MSELoss()\n",
    "optimizer = torch.optim.Adam(model.parameters(), lr=1e-2)\n",
    " \n",
    "#开始训练\n",
    "for epoch in range(1):\n",
    "#      var_x = train_x.cuda()\n",
    "#      var_y = train_y.cuda()\n",
    "     var_x = train_x\n",
    "     var_y = train_y\n",
    "     # 前向传播\n",
    "     out = model(var_x)\n",
    "     # 计算损失函数\n",
    "     loss = criterion(out, var_y)\n",
    "     # 反向传播\n",
    "     optimizer.zero_grad()\n",
    "     loss.backward()\n",
    "     optimizer.step()\n",
    "     if (epoch+1)%100==0:\n",
    "          print('Epoch:{}, Loss:{:.5f}'.format(epoch+1, loss.item()))\n",
    "     "
   ]
  },
  {
   "cell_type": "code",
   "execution_count": 9,
   "metadata": {},
   "outputs": [
    {
     "data": {
      "text/plain": [
       "array([1, 2])"
      ]
     },
     "execution_count": 9,
     "metadata": {},
     "output_type": "execute_result"
    }
   ],
   "source": [
    "np.array([1,2])"
   ]
  },
  {
   "cell_type": "code",
   "execution_count": null,
   "metadata": {},
   "outputs": [],
   "source": []
  }
 ],
 "metadata": {
  "kernelspec": {
   "display_name": "Python 3",
   "language": "python",
   "name": "python3"
  },
  "language_info": {
   "codemirror_mode": {
    "name": "ipython",
    "version": 3
   },
   "file_extension": ".py",
   "mimetype": "text/x-python",
   "name": "python",
   "nbconvert_exporter": "python",
   "pygments_lexer": "ipython3",
   "version": "3.7.6"
  }
 },
 "nbformat": 4,
 "nbformat_minor": 4
}
