{
 "cells": [
  {
   "cell_type": "markdown",
   "metadata": {},
   "source": [
    "1. 背景描述：一个农民承包了6块耕地共300亩，准备播种小麦，玉米，水果和蔬菜四种农产品，已知各种农产品的计划播种面积、每块土地种植不同农产品的单产收益\n",
    "\n",
    "2. 任务描述：如何进行合理安排，使得总收益最大\n",
    "\n",
    "||地块1|地块2|地块3|地块4|地块5|地块6|计划播种面积（亩）|\n",
    "--|--|--|--|--|--|--|--\n",
    "小麦|500|550|630|1000|800|700|76\n",
    "玉米|800|700|600|950|900|930|88\n",
    "水果|1000|960|840|650|600|700|96\n",
    "蔬菜|1200|1040|980|860|880|780|40\n",
    "面积（亩）|42|56|44|39|60|59|\\"
   ]
  },
  {
   "cell_type": "code",
   "execution_count": 1,
   "metadata": {},
   "outputs": [],
   "source": [
    "import pandas as pd\n",
    "import numpy as np\n",
    "import pulp"
   ]
  },
  {
   "cell_type": "code",
   "execution_count": 2,
   "metadata": {},
   "outputs": [],
   "source": [
    "# 目标函数系数\n",
    "z = np.array([\n",
    "    [500,550,630,1000,800,700],\n",
    "    [800,700,600,950,900,930],\n",
    "    [1000,960,840,650,600,700],\n",
    "    [1200,1040,980,860,880,780]\n",
    "])\n",
    "\n",
    "# 约束系数\n",
    "a = np.ones(z.shape)\n",
    "\n",
    "# 约束值\n",
    "b1 = np.array([76, 88, 96, 40])\n",
    "b2 = np.array([42, 56, 44, 39, 60, 59])"
   ]
  },
  {
   "cell_type": "code",
   "execution_count": 3,
   "metadata": {},
   "outputs": [
    {
     "data": {
      "text/html": [
       "<div>\n",
       "<style scoped>\n",
       "    .dataframe tbody tr th:only-of-type {\n",
       "        vertical-align: middle;\n",
       "    }\n",
       "\n",
       "    .dataframe tbody tr th {\n",
       "        vertical-align: top;\n",
       "    }\n",
       "\n",
       "    .dataframe thead th {\n",
       "        text-align: right;\n",
       "    }\n",
       "</style>\n",
       "<table border=\"1\" class=\"dataframe\">\n",
       "  <thead>\n",
       "    <tr style=\"text-align: right;\">\n",
       "      <th></th>\n",
       "      <th>地块1</th>\n",
       "      <th>地块2</th>\n",
       "      <th>地块3</th>\n",
       "      <th>地块4</th>\n",
       "      <th>地块5</th>\n",
       "      <th>地块6</th>\n",
       "    </tr>\n",
       "  </thead>\n",
       "  <tbody>\n",
       "    <tr>\n",
       "      <th>小麦</th>\n",
       "      <td>0</td>\n",
       "      <td>0</td>\n",
       "      <td>6</td>\n",
       "      <td>39</td>\n",
       "      <td>31</td>\n",
       "      <td>0</td>\n",
       "    </tr>\n",
       "    <tr>\n",
       "      <th>玉米</th>\n",
       "      <td>0</td>\n",
       "      <td>0</td>\n",
       "      <td>0</td>\n",
       "      <td>0</td>\n",
       "      <td>29</td>\n",
       "      <td>59</td>\n",
       "    </tr>\n",
       "    <tr>\n",
       "      <th>水果</th>\n",
       "      <td>2</td>\n",
       "      <td>56</td>\n",
       "      <td>38</td>\n",
       "      <td>0</td>\n",
       "      <td>0</td>\n",
       "      <td>0</td>\n",
       "    </tr>\n",
       "    <tr>\n",
       "      <th>蔬菜</th>\n",
       "      <td>40</td>\n",
       "      <td>0</td>\n",
       "      <td>0</td>\n",
       "      <td>0</td>\n",
       "      <td>0</td>\n",
       "      <td>0</td>\n",
       "    </tr>\n",
       "  </tbody>\n",
       "</table>\n",
       "</div>"
      ],
      "text/plain": [
       "    地块1  地块2  地块3  地块4  地块5  地块6\n",
       "小麦    0    0    6   39   31    0\n",
       "玉米    0    0    0    0   29   59\n",
       "水果    2   56   38    0    0    0\n",
       "蔬菜   40    0    0    0    0    0"
      ]
     },
     "execution_count": 3,
     "metadata": {},
     "output_type": "execute_result"
    }
   ],
   "source": [
    "# 定义最大化问题\n",
    "problem = pulp.LpProblem(name='farmland', sense=pulp.LpMaximize)\n",
    "\n",
    "# 定义变量函数\n",
    "x = [pulp.LpVariable('x{}'.format(i), lowBound=0) for i in range(z.size)]\n",
    "\n",
    "# 设置目标函数\n",
    "problem += pulp.lpDot(z.ravel(), x)\n",
    "\n",
    "# 计划播种面积约束（大于等于）\n",
    "for i in range(1, len(b1)+1):\n",
    "    problem += (pulp.lpDot(a[i-1], x[(i*6)-6:(i*6)]) >= b1[i-1])\n",
    "\n",
    "# 地块面积约束（小于等于）\n",
    "for i in range(0, len(b2)):\n",
    "    problem += (pulp.lpDot(a[:,i], x[i::6]) <= b2[i])\n",
    "\n",
    "# 执行求解\n",
    "problem.solve()\n",
    "\n",
    "# 结果输出\n",
    "data = np.array([pulp.value(i) for i in x],dtype='int').reshape(4, 6)\n",
    "df_result = pd.DataFrame(data=data, index=['小麦','玉米','水果','蔬菜'], columns=['地块1','地块2','地块3','地块4','地块5','地块6'])\n",
    "df_result"
   ]
  },
  {
   "cell_type": "code",
   "execution_count": 5,
   "metadata": {},
   "outputs": [
    {
     "name": "stdout",
     "output_type": "stream",
     "text": [
      "最大化收入 284230.0\n",
      "是否符合播种面积 True\n",
      "是否符合地块面积 True\n"
     ]
    }
   ],
   "source": [
    "print('最大化收入', pulp.value(problem.objective))\n",
    "print('是否符合播种面积', (df_result.sum(axis=1).values <= b1).any())\n",
    "print('是否符合地块面积', (df_result.sum(axis=0).values <= b2).any())"
   ]
  }
 ],
 "metadata": {
  "kernelspec": {
   "display_name": "Python 3",
   "language": "python",
   "name": "python3"
  },
  "language_info": {
   "codemirror_mode": {
    "name": "ipython",
    "version": 3
   },
   "file_extension": ".py",
   "mimetype": "text/x-python",
   "name": "python",
   "nbconvert_exporter": "python",
   "pygments_lexer": "ipython3",
   "version": "3.7.6"
  }
 },
 "nbformat": 4,
 "nbformat_minor": 4
}
