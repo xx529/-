{
 "cells": [
  {
   "cell_type": "markdown",
   "metadata": {},
   "source": [
    "# 项目概述\n",
    "\n",
    "**背景**\n",
    "\n",
    "智能营销工具可以帮助商家预测用户购买的行为，这里我们提供了品牌商家的历史订单数据，请构建一个 预测模型，预估用户人群在规定时间内产生购买行为的概率。该模型可应用于各种电商数据分析，以及 百度电商开放平台 ，不仅可以帮助商家基于平台流量，进行商品售卖、支付，还可以通过MarTech技术更精准地锁定核心用户，对用户的购买行为进行预测。\n",
    "\n",
    "**任务**\n",
    "\n",
    "预测下下个月用户是否购买\n",
    "1. 训练集train.csv\n",
    "2. 测试集test2.csv\n",
    "\n",
    "**标准**\n",
    "\n",
    "提交的结果文件可以是概率，也就是0-1之间，而不是0或者1。"
   ]
  },
  {
   "cell_type": "code",
   "execution_count": 1,
   "metadata": {},
   "outputs": [],
   "source": [
    "import pandas as pd\n",
    "import numpy as np\n",
    "import matplotlib.pyplot as plt\n",
    "from sklearn.linear_model import LogisticRegression\n",
    "from sklearn.preprocessing import StandardScaler\n",
    "from sklearn.model_selection import train_test_split\n",
    "from sklearn.metrics import accuracy_score, recall_score"
   ]
  },
  {
   "cell_type": "markdown",
   "metadata": {},
   "source": [
    "# 数据探索"
   ]
  },
  {
   "cell_type": "code",
   "execution_count": 2,
   "metadata": {},
   "outputs": [
    {
     "data": {
      "text/html": [
       "<div>\n",
       "<style scoped>\n",
       "    .dataframe tbody tr th:only-of-type {\n",
       "        vertical-align: middle;\n",
       "    }\n",
       "\n",
       "    .dataframe tbody tr th {\n",
       "        vertical-align: top;\n",
       "    }\n",
       "\n",
       "    .dataframe thead th {\n",
       "        text-align: right;\n",
       "    }\n",
       "</style>\n",
       "<table border=\"1\" class=\"dataframe\">\n",
       "  <thead>\n",
       "    <tr style=\"text-align: right;\">\n",
       "      <th></th>\n",
       "      <th>order_detail_id</th>\n",
       "      <th>order_id</th>\n",
       "      <th>order_total_num</th>\n",
       "      <th>order_amount</th>\n",
       "      <th>order_total_payment</th>\n",
       "      <th>order_total_discount</th>\n",
       "      <th>order_pay_time</th>\n",
       "      <th>order_status</th>\n",
       "      <th>order_count</th>\n",
       "      <th>is_customer_rate</th>\n",
       "      <th>...</th>\n",
       "      <th>customer_gender</th>\n",
       "      <th>member_status</th>\n",
       "      <th>is_member_actived</th>\n",
       "      <th>goods_id</th>\n",
       "      <th>goods_class_id</th>\n",
       "      <th>goods_price</th>\n",
       "      <th>goods_status</th>\n",
       "      <th>goods_has_discount</th>\n",
       "      <th>goods_list_time</th>\n",
       "      <th>goods_delist_time</th>\n",
       "    </tr>\n",
       "  </thead>\n",
       "  <tbody>\n",
       "    <tr>\n",
       "      <th>0</th>\n",
       "      <td>1000000</td>\n",
       "      <td>1000000</td>\n",
       "      <td>1.0</td>\n",
       "      <td>239.9</td>\n",
       "      <td>96.9</td>\n",
       "      <td>0.0</td>\n",
       "      <td>2012-11-01 00:10:56</td>\n",
       "      <td>6</td>\n",
       "      <td>1.0</td>\n",
       "      <td>0.0</td>\n",
       "      <td>...</td>\n",
       "      <td>NaN</td>\n",
       "      <td>NaN</td>\n",
       "      <td>NaN</td>\n",
       "      <td>998</td>\n",
       "      <td>998</td>\n",
       "      <td>54.909289</td>\n",
       "      <td>1.0</td>\n",
       "      <td>0.0</td>\n",
       "      <td>2014-10-25 11:08:07</td>\n",
       "      <td>2014-11-01 11:08:07</td>\n",
       "    </tr>\n",
       "    <tr>\n",
       "      <th>1</th>\n",
       "      <td>1001530</td>\n",
       "      <td>1001327</td>\n",
       "      <td>2.0</td>\n",
       "      <td>288.0</td>\n",
       "      <td>96.9</td>\n",
       "      <td>0.0</td>\n",
       "      <td>2013-08-31 23:14:42</td>\n",
       "      <td>6</td>\n",
       "      <td>2.0</td>\n",
       "      <td>0.0</td>\n",
       "      <td>...</td>\n",
       "      <td>NaN</td>\n",
       "      <td>NaN</td>\n",
       "      <td>NaN</td>\n",
       "      <td>1953</td>\n",
       "      <td>1953</td>\n",
       "      <td>45.961352</td>\n",
       "      <td>0.0</td>\n",
       "      <td>1.0</td>\n",
       "      <td>2013-08-28 17:27:50</td>\n",
       "      <td>2013-09-01 00:38:17</td>\n",
       "    </tr>\n",
       "    <tr>\n",
       "      <th>2</th>\n",
       "      <td>1001531</td>\n",
       "      <td>1001327</td>\n",
       "      <td>2.0</td>\n",
       "      <td>288.0</td>\n",
       "      <td>96.9</td>\n",
       "      <td>0.0</td>\n",
       "      <td>2013-08-31 23:14:42</td>\n",
       "      <td>6</td>\n",
       "      <td>2.0</td>\n",
       "      <td>0.0</td>\n",
       "      <td>...</td>\n",
       "      <td>NaN</td>\n",
       "      <td>NaN</td>\n",
       "      <td>NaN</td>\n",
       "      <td>1083</td>\n",
       "      <td>1083</td>\n",
       "      <td>53.035439</td>\n",
       "      <td>1.0</td>\n",
       "      <td>0.0</td>\n",
       "      <td>2014-10-29 18:21:05</td>\n",
       "      <td>2014-11-05 18:21:05</td>\n",
       "    </tr>\n",
       "    <tr>\n",
       "      <th>3</th>\n",
       "      <td>1001532</td>\n",
       "      <td>1001328</td>\n",
       "      <td>3.0</td>\n",
       "      <td>180.0</td>\n",
       "      <td>89.7</td>\n",
       "      <td>0.0</td>\n",
       "      <td>2013-08-31 22:06:35</td>\n",
       "      <td>6</td>\n",
       "      <td>1.0</td>\n",
       "      <td>0.0</td>\n",
       "      <td>...</td>\n",
       "      <td>NaN</td>\n",
       "      <td>NaN</td>\n",
       "      <td>NaN</td>\n",
       "      <td>1013</td>\n",
       "      <td>1013</td>\n",
       "      <td>46.046917</td>\n",
       "      <td>1.0</td>\n",
       "      <td>1.0</td>\n",
       "      <td>2014-10-25 11:00:00</td>\n",
       "      <td>2014-11-01 11:00:00</td>\n",
       "    </tr>\n",
       "    <tr>\n",
       "      <th>4</th>\n",
       "      <td>1001533</td>\n",
       "      <td>1001329</td>\n",
       "      <td>1.0</td>\n",
       "      <td>159.9</td>\n",
       "      <td>65.9</td>\n",
       "      <td>0.0</td>\n",
       "      <td>2013-08-31 21:33:36</td>\n",
       "      <td>6</td>\n",
       "      <td>1.0</td>\n",
       "      <td>0.0</td>\n",
       "      <td>...</td>\n",
       "      <td>NaN</td>\n",
       "      <td>NaN</td>\n",
       "      <td>NaN</td>\n",
       "      <td>1628</td>\n",
       "      <td>1628</td>\n",
       "      <td>50.722161</td>\n",
       "      <td>1.0</td>\n",
       "      <td>0.0</td>\n",
       "      <td>2014-10-23 15:35:33</td>\n",
       "      <td>2014-10-30 15:35:33</td>\n",
       "    </tr>\n",
       "  </tbody>\n",
       "</table>\n",
       "<p>5 rows × 29 columns</p>\n",
       "</div>"
      ],
      "text/plain": [
       "   order_detail_id  order_id  order_total_num  order_amount  \\\n",
       "0          1000000   1000000              1.0         239.9   \n",
       "1          1001530   1001327              2.0         288.0   \n",
       "2          1001531   1001327              2.0         288.0   \n",
       "3          1001532   1001328              3.0         180.0   \n",
       "4          1001533   1001329              1.0         159.9   \n",
       "\n",
       "   order_total_payment  order_total_discount       order_pay_time  \\\n",
       "0                 96.9                   0.0  2012-11-01 00:10:56   \n",
       "1                 96.9                   0.0  2013-08-31 23:14:42   \n",
       "2                 96.9                   0.0  2013-08-31 23:14:42   \n",
       "3                 89.7                   0.0  2013-08-31 22:06:35   \n",
       "4                 65.9                   0.0  2013-08-31 21:33:36   \n",
       "\n",
       "   order_status  order_count  is_customer_rate  ...  customer_gender  \\\n",
       "0             6          1.0               0.0  ...              NaN   \n",
       "1             6          2.0               0.0  ...              NaN   \n",
       "2             6          2.0               0.0  ...              NaN   \n",
       "3             6          1.0               0.0  ...              NaN   \n",
       "4             6          1.0               0.0  ...              NaN   \n",
       "\n",
       "   member_status  is_member_actived  goods_id  goods_class_id goods_price  \\\n",
       "0            NaN                NaN       998             998   54.909289   \n",
       "1            NaN                NaN      1953            1953   45.961352   \n",
       "2            NaN                NaN      1083            1083   53.035439   \n",
       "3            NaN                NaN      1013            1013   46.046917   \n",
       "4            NaN                NaN      1628            1628   50.722161   \n",
       "\n",
       "  goods_status  goods_has_discount      goods_list_time    goods_delist_time  \n",
       "0          1.0                 0.0  2014-10-25 11:08:07  2014-11-01 11:08:07  \n",
       "1          0.0                 1.0  2013-08-28 17:27:50  2013-09-01 00:38:17  \n",
       "2          1.0                 0.0  2014-10-29 18:21:05  2014-11-05 18:21:05  \n",
       "3          1.0                 1.0  2014-10-25 11:00:00  2014-11-01 11:00:00  \n",
       "4          1.0                 0.0  2014-10-23 15:35:33  2014-10-30 15:35:33  \n",
       "\n",
       "[5 rows x 29 columns]"
      ]
     },
     "execution_count": 2,
     "metadata": {},
     "output_type": "execute_result"
    }
   ],
   "source": [
    "data_raw = pd.read_csv('./train.csv')\n",
    "data_raw.head(5)"
   ]
  },
  {
   "cell_type": "code",
   "execution_count": 3,
   "metadata": {
    "scrolled": false
   },
   "outputs": [
    {
     "name": "stdout",
     "output_type": "stream",
     "text": [
      "<class 'pandas.core.frame.DataFrame'>\n",
      "RangeIndex: 2306871 entries, 0 to 2306870\n",
      "Data columns (total 29 columns):\n",
      " #   Column                  Dtype  \n",
      "---  ------                  -----  \n",
      " 0   order_detail_id         int64  \n",
      " 1   order_id                int64  \n",
      " 2   order_total_num         float64\n",
      " 3   order_amount            float64\n",
      " 4   order_total_payment     float64\n",
      " 5   order_total_discount    float64\n",
      " 6   order_pay_time          object \n",
      " 7   order_status            int64  \n",
      " 8   order_count             float64\n",
      " 9   is_customer_rate        float64\n",
      " 10  order_detail_status     float64\n",
      " 11  order_detail_goods_num  float64\n",
      " 12  order_detail_amount     float64\n",
      " 13  order_detail_payment    float64\n",
      " 14  order_detail_discount   float64\n",
      " 15  customer_province       object \n",
      " 16  customer_city           object \n",
      " 17  member_id               float64\n",
      " 18  customer_id             int64  \n",
      " 19  customer_gender         float64\n",
      " 20  member_status           float64\n",
      " 21  is_member_actived       float64\n",
      " 22  goods_id                int64  \n",
      " 23  goods_class_id          int64  \n",
      " 24  goods_price             float64\n",
      " 25  goods_status            float64\n",
      " 26  goods_has_discount      float64\n",
      " 27  goods_list_time         object \n",
      " 28  goods_delist_time       object \n",
      "dtypes: float64(18), int64(6), object(5)\n",
      "memory usage: 510.4+ MB\n"
     ]
    }
   ],
   "source": [
    "data_raw.info()"
   ]
  },
  {
   "cell_type": "code",
   "execution_count": 4,
   "metadata": {},
   "outputs": [
    {
     "data": {
      "text/plain": [
       "customer_province    0.000494\n",
       "customer_city        0.000499\n",
       "customer_gender      0.724393\n",
       "member_status        0.724393\n",
       "is_member_actived    0.724393\n",
       "goods_price          0.000189\n",
       "dtype: float64"
      ]
     },
     "execution_count": 4,
     "metadata": {},
     "output_type": "execute_result"
    }
   ],
   "source": [
    "# 缺失值比例查看\n",
    "data_raw.isnull().sum()[data_raw.isnull().sum() !=0] / len(data_raw)"
   ]
  },
  {
   "cell_type": "code",
   "execution_count": 7,
   "metadata": {
    "scrolled": true
   },
   "outputs": [
    {
     "data": {
      "text/html": [
       "<div>\n",
       "<style scoped>\n",
       "    .dataframe tbody tr th:only-of-type {\n",
       "        vertical-align: middle;\n",
       "    }\n",
       "\n",
       "    .dataframe tbody tr th {\n",
       "        vertical-align: top;\n",
       "    }\n",
       "\n",
       "    .dataframe thead th {\n",
       "        text-align: right;\n",
       "    }\n",
       "</style>\n",
       "<table border=\"1\" class=\"dataframe\">\n",
       "  <thead>\n",
       "    <tr style=\"text-align: right;\">\n",
       "      <th></th>\n",
       "      <th>customer_id</th>\n",
       "      <th>result</th>\n",
       "    </tr>\n",
       "  </thead>\n",
       "  <tbody>\n",
       "    <tr>\n",
       "      <th>0</th>\n",
       "      <td>1000000</td>\n",
       "      <td>0.0</td>\n",
       "    </tr>\n",
       "    <tr>\n",
       "      <th>1</th>\n",
       "      <td>1000014</td>\n",
       "      <td>0.0</td>\n",
       "    </tr>\n",
       "    <tr>\n",
       "      <th>2</th>\n",
       "      <td>1000034</td>\n",
       "      <td>0.0</td>\n",
       "    </tr>\n",
       "    <tr>\n",
       "      <th>3</th>\n",
       "      <td>1000046</td>\n",
       "      <td>0.0</td>\n",
       "    </tr>\n",
       "    <tr>\n",
       "      <th>4</th>\n",
       "      <td>1000048</td>\n",
       "      <td>0.0</td>\n",
       "    </tr>\n",
       "    <tr>\n",
       "      <th>5</th>\n",
       "      <td>1000069</td>\n",
       "      <td>0.0</td>\n",
       "    </tr>\n",
       "    <tr>\n",
       "      <th>6</th>\n",
       "      <td>1000084</td>\n",
       "      <td>0.0</td>\n",
       "    </tr>\n",
       "    <tr>\n",
       "      <th>7</th>\n",
       "      <td>1000099</td>\n",
       "      <td>0.0</td>\n",
       "    </tr>\n",
       "    <tr>\n",
       "      <th>8</th>\n",
       "      <td>1000105</td>\n",
       "      <td>0.0</td>\n",
       "    </tr>\n",
       "    <tr>\n",
       "      <th>9</th>\n",
       "      <td>1000109</td>\n",
       "      <td>0.0</td>\n",
       "    </tr>\n",
       "  </tbody>\n",
       "</table>\n",
       "</div>"
      ],
      "text/plain": [
       "   customer_id  result\n",
       "0      1000000     0.0\n",
       "1      1000014     0.0\n",
       "2      1000034     0.0\n",
       "3      1000046     0.0\n",
       "4      1000048     0.0\n",
       "5      1000069     0.0\n",
       "6      1000084     0.0\n",
       "7      1000099     0.0\n",
       "8      1000105     0.0\n",
       "9      1000109     0.0"
      ]
     },
     "execution_count": 7,
     "metadata": {},
     "output_type": "execute_result"
    }
   ],
   "source": [
    "data_sub = pd.read_csv('./submittion.csv')\n",
    "data_sub.head(10)"
   ]
  },
  {
   "cell_type": "code",
   "execution_count": 8,
   "metadata": {},
   "outputs": [
    {
     "data": {
      "text/plain": [
       "['order_pay_time',\n",
       " 'customer_province',\n",
       " 'customer_city',\n",
       " 'goods_list_time',\n",
       " 'goods_delist_time']"
      ]
     },
     "execution_count": 8,
     "metadata": {},
     "output_type": "execute_result"
    }
   ],
   "source": [
    "# 非法值查看\n",
    "data_raw.select_dtypes(include='object').columns.tolist()"
   ]
  },
  {
   "cell_type": "markdown",
   "metadata": {},
   "source": [
    "# 数据清洗"
   ]
  },
  {
   "cell_type": "code",
   "execution_count": 9,
   "metadata": {},
   "outputs": [],
   "source": [
    "# 复制一份\n",
    "data_preprocessing = data_raw.copy()\n",
    "data_preprocessing = data_preprocessing.sort_values('customer_id')"
   ]
  },
  {
   "cell_type": "code",
   "execution_count": 10,
   "metadata": {},
   "outputs": [],
   "source": [
    "# 重复值\n",
    "data_preprocessing.drop_duplicates(inplace=True)"
   ]
  },
  {
   "cell_type": "code",
   "execution_count": 11,
   "metadata": {},
   "outputs": [],
   "source": [
    "# 空值处理\n",
    "data_preprocessing.fillna({\n",
    "    'customer_gender': 0, \n",
    "    'member_status': 4, \n",
    "    'is_member_actived': 2,\n",
    "    'customer_province': data_preprocessing['customer_province'].mode(),\n",
    "    'customer_city': data_preprocessing['customer_city'].mode(),\n",
    "    'goods_price': data_preprocessing['goods_price'].mean()\n",
    "}, inplace=True)"
   ]
  },
  {
   "cell_type": "code",
   "execution_count": 12,
   "metadata": {},
   "outputs": [],
   "source": [
    "# 非法值处理\n",
    "data_preprocessing['customer_province'] = pd.factorize(data_preprocessing['customer_province'])[0]\n",
    "data_preprocessing['customer_city'] = pd.factorize(data_preprocessing['customer_city'])[0]"
   ]
  },
  {
   "cell_type": "code",
   "execution_count": 13,
   "metadata": {},
   "outputs": [],
   "source": [
    "# 时间格式转换\n",
    "data_preprocessing['order_pay_time'] = pd.to_datetime(data_preprocessing['order_pay_time'], format='%Y-%m-%d')\n",
    "data_preprocessing['goods_list_time'] = pd.to_datetime(data_preprocessing['goods_list_time'], format='%Y-%m-%d')\n",
    "data_preprocessing['goods_delist_time'] = pd.to_datetime(data_preprocessing['goods_delist_time'], format='%Y-%m-%d')"
   ]
  },
  {
   "cell_type": "code",
   "execution_count": 15,
   "metadata": {
    "scrolled": false
   },
   "outputs": [
    {
     "name": "stdout",
     "output_type": "stream",
     "text": [
      "<class 'pandas.core.frame.DataFrame'>\n",
      "Int64Index: 2306871 entries, 0 to 2306870\n",
      "Data columns (total 29 columns):\n",
      " #   Column                  Dtype         \n",
      "---  ------                  -----         \n",
      " 0   order_detail_id         int64         \n",
      " 1   order_id                int64         \n",
      " 2   order_total_num         float64       \n",
      " 3   order_amount            float64       \n",
      " 4   order_total_payment     float64       \n",
      " 5   order_total_discount    float64       \n",
      " 6   order_pay_time          datetime64[ns]\n",
      " 7   order_status            int64         \n",
      " 8   order_count             float64       \n",
      " 9   is_customer_rate        float64       \n",
      " 10  order_detail_status     float64       \n",
      " 11  order_detail_goods_num  float64       \n",
      " 12  order_detail_amount     float64       \n",
      " 13  order_detail_payment    float64       \n",
      " 14  order_detail_discount   float64       \n",
      " 15  customer_province       int64         \n",
      " 16  customer_city           int64         \n",
      " 17  member_id               float64       \n",
      " 18  customer_id             int64         \n",
      " 19  customer_gender         float64       \n",
      " 20  member_status           float64       \n",
      " 21  is_member_actived       float64       \n",
      " 22  goods_id                int64         \n",
      " 23  goods_class_id          int64         \n",
      " 24  goods_price             float64       \n",
      " 25  goods_status            float64       \n",
      " 26  goods_has_discount      float64       \n",
      " 27  goods_list_time         datetime64[ns]\n",
      " 28  goods_delist_time       datetime64[ns]\n",
      "dtypes: datetime64[ns](3), float64(18), int64(8)\n",
      "memory usage: 528.0 MB\n"
     ]
    }
   ],
   "source": [
    "data_preprocessing.info()"
   ]
  },
  {
   "cell_type": "markdown",
   "metadata": {},
   "source": [
    "# 特征构造"
   ]
  },
  {
   "cell_type": "code",
   "execution_count": 55,
   "metadata": {},
   "outputs": [],
   "source": [
    "def creat_set(df, history_time, target_time=None):    \n",
    "\n",
    "    # ---customer_id作为索引构建features--------------------------\n",
    "\n",
    "    history_start, history_end = history_time\n",
    "    df_features = df[(df['order_pay_time'] >= history_start) & (df['order_pay_time'] <= history_end)]\n",
    "    features = pd.DataFrame(index = df_features['customer_id'].unique())\n",
    "\n",
    "    \n",
    "    \n",
    "    # ---用户身份属性特征---------------------------------------------\n",
    "    \n",
    "    ## 最新的用户身份属性\n",
    "    col_customer = ['customer_gender', 'customer_province', 'customer_city', 'member_status', 'is_member_actived']\n",
    "    features[col_customer] = df.groupby('customer_id')[col_customer].last()\n",
    "        \n",
    "    \n",
    "    \n",
    "    # ---订单属性特征----------------------------------------------\n",
    "    \n",
    "    ## 关于订单的列\n",
    "    col_order_numeric = [ 'order_total_num', 'order_amount','order_total_payment', 'order_total_discount',\n",
    "        'order_count', 'order_detail_goods_num', 'order_detail_amount', 'order_detail_payment', 'order_detail_discount']\n",
    "    col_order_categorical = ['order_status', 'is_customer_rate', 'order_detail_status']\n",
    "    \n",
    "    ## 用户最后一次订单特征\n",
    "    col_order = col_order_numeric + col_order_categorical\n",
    "    col_order_last = ['{}_last'.format(x) for x in col_order]\n",
    "    features[col_order_last] = df_features.groupby('customer_id')[col_order].last()\n",
    "\n",
    "    ## 用户历史订单连续变量特征\n",
    "    agg_method = ('max', 'min', 'mean', 'count')\n",
    "    for col in col_order_numeric:\n",
    "        col_temp  = ['{}_history_{}'.format(col, x) for x in agg_method]\n",
    "        features[col_temp] = df_features.groupby('customer_id')[col].agg(agg_method)\n",
    "        \n",
    "    ## 用户历史订单离散变量特征\n",
    "    ## 。。。。。。。\n",
    "    \n",
    "    \n",
    "    \n",
    "    # ---商品属性特征---------------------------------------------\n",
    "\n",
    "    ## 关于商品的列\n",
    "    col_good_numeric = ['goods_price', ]\n",
    "    col_good_categorical = ['goods_class_id' ,'goods_status', 'goods_has_discount']\n",
    "    col_good_date = ['goods_list_time', 'goods_delist_time']\n",
    "    \n",
    "    ## 用户最后一个商品特征\n",
    "    col_good = col_good_numeric + col_good_categorical +  col_good_date\n",
    "    col_good_last = ['{}_last'.format(x) for x in col_good]\n",
    "    features[col_good_last] = df_features.groupby('customer_id')[col_good].last()\n",
    "    \n",
    "    ## 用户最后一个商品持续时间\n",
    "    features['good_dur_day_last'] = features[col_good_last[-1]] - features[col_good_last[-2]]\n",
    "    features['good_dur_day_last'] = features['good_dur_day_last'].apply(lambda x: x.days)\n",
    "    features.drop(col_good_last[-2:], axis=1, inplace=True)\n",
    "    \n",
    "    ## 用户历史商品价格特征\n",
    "    agg_method = ('max', 'min', 'mean', 'count')\n",
    "    col_temp = ['{}_history_{}'.format('goods_price', x) for x in agg_method]\n",
    "    features[col_temp] = df_features.groupby('customer_id')['goods_price'].agg(agg_method)\n",
    "    \n",
    "    ## 用户历史商品离散变量特征\n",
    "    ## 。。。。。。。\n",
    "    \n",
    "    \n",
    "    \n",
    "    # ---构建label----------------------------------------------\n",
    "    if target_time:\n",
    "        target_start, target_end = target_time\n",
    "        labels = pd.DataFrame(0, index=features.index, columns=['target'])\n",
    "        df_target = df[(df['order_pay_time'] >= target_start) & (df['order_pay_time'] <= target_end)]['customer_id']\n",
    "        target_index = [x for x in labels.index.tolist() if x in df_target]\n",
    "        labels.loc[target_index, 'target'] = 1\n",
    "    else:\n",
    "        labels = None\n",
    "    \n",
    "    return features, labels"
   ]
  },
  {
   "cell_type": "markdown",
   "metadata": {},
   "source": [
    "待处理，\n",
    "2. 历史订单离散特征\n",
    "4. 历史商品离散特征"
   ]
  },
  {
   "cell_type": "markdown",
   "metadata": {},
   "source": [
    "# 数据生成"
   ]
  },
  {
   "cell_type": "code",
   "execution_count": 56,
   "metadata": {},
   "outputs": [],
   "source": [
    "# 预测9月（下个月）训练集和标签\n",
    "x_train_9, y_train_9 = creat_set(\n",
    "    data_preprocessing, ('2000-01-01 00:00:00', '2013-07-31 23:59:59'), ('2013-08-01 00:00:00','2013-08-31 23:59:59'))\n",
    "\n",
    "# 预测10月（下下个月）训练集和标签\n",
    "x_train_10, y_train_10 = creat_set(\n",
    "    data_preprocessing, ('2000-01-01 00:00:00', '2013-06-30 23:59:59'), ('2013-08-01 00:00:00','2013-08-31 23:59:59'))\n",
    "\n",
    "# 预测数据集\n",
    "predict_set, _ = creat_set(data_preprocessing, ('2000-01-01 00:00:00', '2013-08-31 23:59:59'))"
   ]
  },
  {
   "cell_type": "markdown",
   "metadata": {},
   "source": [
    "# 数据规范化"
   ]
  },
  {
   "cell_type": "code",
   "execution_count": 36,
   "metadata": {},
   "outputs": [],
   "source": [
    "# 9月数据\n",
    "ss_9 = StandardScaler()\n",
    "x_9 = ss_9.fit_transform(x_train_9)\n",
    "predict_set_9 = ss_9.transform(predict_set)\n",
    "\n",
    "# 10月数据\n",
    "ss_10 = StandardScaler()\n",
    "x_10 = ss_10.fit_transform(x_train_10)\n",
    "predict_set_10 = ss_10.transform(predict_set)"
   ]
  },
  {
   "cell_type": "markdown",
   "metadata": {},
   "source": [
    "# 模型训练"
   ]
  },
  {
   "cell_type": "code",
   "execution_count": 38,
   "metadata": {
    "collapsed": true
   },
   "outputs": [
    {
     "name": "stderr",
     "output_type": "stream",
     "text": [
      "/home/stu_15521099938/.local/lib/python3.7/site-packages/sklearn/utils/validation.py:760: DataConversionWarning: A column-vector y was passed when a 1d array was expected. Please change the shape of y to (n_samples, ), for example using ravel().\n",
      "  y = column_or_1d(y, warn=True)\n",
      "/home/stu_15521099938/.local/lib/python3.7/site-packages/sklearn/linear_model/_logistic.py:940: ConvergenceWarning: lbfgs failed to converge (status=1):\n",
      "STOP: TOTAL NO. of ITERATIONS REACHED LIMIT.\n",
      "\n",
      "Increase the number of iterations (max_iter) or scale the data as shown in:\n",
      "    https://scikit-learn.org/stable/modules/preprocessing.html\n",
      "Please also refer to the documentation for alternative solver options:\n",
      "    https://scikit-learn.org/stable/modules/linear_model.html#logistic-regression\n",
      "  extra_warning_msg=_LOGISTIC_SOLVER_CONVERGENCE_MSG)\n",
      "/home/stu_15521099938/.local/lib/python3.7/site-packages/sklearn/utils/validation.py:760: DataConversionWarning: A column-vector y was passed when a 1d array was expected. Please change the shape of y to (n_samples, ), for example using ravel().\n",
      "  y = column_or_1d(y, warn=True)\n",
      "/home/stu_15521099938/.local/lib/python3.7/site-packages/sklearn/linear_model/_logistic.py:940: ConvergenceWarning: lbfgs failed to converge (status=1):\n",
      "STOP: TOTAL NO. of ITERATIONS REACHED LIMIT.\n",
      "\n",
      "Increase the number of iterations (max_iter) or scale the data as shown in:\n",
      "    https://scikit-learn.org/stable/modules/preprocessing.html\n",
      "Please also refer to the documentation for alternative solver options:\n",
      "    https://scikit-learn.org/stable/modules/linear_model.html#logistic-regression\n",
      "  extra_warning_msg=_LOGISTIC_SOLVER_CONVERGENCE_MSG)\n"
     ]
    }
   ],
   "source": [
    "# 9月训练与预测\n",
    "lr_9 = LogisticRegression()\n",
    "lr_9.fit(x_9, y_train_9)\n",
    "predict_pro_9 = lr_9.predict_proba(predict_set_9)\n",
    "\n",
    "# 10月训练与预测\n",
    "lr_10 = LogisticRegression()\n",
    "lr_10.fit(x_10, y_train_10)\n",
    "predict_pro_10 = lr_10.predict_proba(predict_set_10)"
   ]
  },
  {
   "cell_type": "markdown",
   "metadata": {},
   "source": [
    "# 结果输出"
   ]
  },
  {
   "cell_type": "code",
   "execution_count": 40,
   "metadata": {},
   "outputs": [],
   "source": [
    "# 9月\n",
    "data_sub['result'] = predict_pro_9[:,1]\n",
    "data_sub.to_csv('./result_9.csv', index=False)\n",
    "\n",
    "# 10月\n",
    "data_sub['result'] = predict_pro_10[:,1]\n",
    "data_sub.to_csv('./result_10.csv', index=False)"
   ]
  }
 ],
 "metadata": {
  "kernelspec": {
   "display_name": "Python 3",
   "language": "python",
   "name": "python3"
  },
  "language_info": {
   "codemirror_mode": {
    "name": "ipython",
    "version": 3
   },
   "file_extension": ".py",
   "mimetype": "text/x-python",
   "name": "python",
   "nbconvert_exporter": "python",
   "pygments_lexer": "ipython3",
   "version": "3.7.6"
  }
 },
 "nbformat": 4,
 "nbformat_minor": 4
}
