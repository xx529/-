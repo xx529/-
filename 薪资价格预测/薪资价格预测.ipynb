{
 "cells": [
  {
   "cell_type": "markdown",
   "metadata": {},
   "source": [
    "### 业务场景"
   ]
  },
  {
   "cell_type": "markdown",
   "metadata": {},
   "source": [
    "根据招聘网站岗位描述，预测某些描述的薪资情况"
   ]
  },
  {
   "cell_type": "code",
   "execution_count": 1,
   "metadata": {},
   "outputs": [],
   "source": [
    "import pandas as pd\n",
    "import numpy as np\n",
    "import re\n",
    "from sklearn.feature_extraction.text import TfidfVectorizer\n",
    "from sklearn.preprocessing import StandardScaler\n",
    "from sklearn.neighbors import KNeighborsRegressor\n",
    "from sklearn.tree import DecisionTreeRegressor\n",
    "from sklearn.ensemble import RandomForestRegressor\n",
    "from sklearn.svm import SVR\n",
    "from sklearn.model_selection import train_test_split\n",
    "from sklearn.model_selection import cross_val_score\n",
    "from sklearn.model_selection import GridSearchCV\n",
    "from sklearn.metrics import mean_absolute_error"
   ]
  },
  {
   "cell_type": "markdown",
   "metadata": {},
   "source": [
    "### 数据获取"
   ]
  },
  {
   "cell_type": "code",
   "execution_count": 16,
   "metadata": {
    "scrolled": false
   },
   "outputs": [
    {
     "data": {
      "text/html": [
       "<div>\n",
       "<style scoped>\n",
       "    .dataframe tbody tr th:only-of-type {\n",
       "        vertical-align: middle;\n",
       "    }\n",
       "\n",
       "    .dataframe tbody tr th {\n",
       "        vertical-align: top;\n",
       "    }\n",
       "\n",
       "    .dataframe thead th {\n",
       "        text-align: right;\n",
       "    }\n",
       "</style>\n",
       "<table border=\"1\" class=\"dataframe\">\n",
       "  <thead>\n",
       "    <tr style=\"text-align: right;\">\n",
       "      <th></th>\n",
       "      <th>id</th>\n",
       "      <th>positionName</th>\n",
       "      <th>district</th>\n",
       "      <th>stationname</th>\n",
       "      <th>jobNature</th>\n",
       "      <th>companyLabelList</th>\n",
       "      <th>industryField</th>\n",
       "      <th>salary</th>\n",
       "      <th>companySize</th>\n",
       "      <th>skillLables</th>\n",
       "      <th>createTime</th>\n",
       "      <th>companyFullName</th>\n",
       "      <th>workYear</th>\n",
       "      <th>education</th>\n",
       "      <th>positionAdvantage</th>\n",
       "      <th>url</th>\n",
       "      <th>detail</th>\n",
       "      <th>type</th>\n",
       "    </tr>\n",
       "  </thead>\n",
       "  <tbody>\n",
       "    <tr>\n",
       "      <th>0</th>\n",
       "      <td>3</td>\n",
       "      <td>财务产品经理</td>\n",
       "      <td>海淀区</td>\n",
       "      <td>上地</td>\n",
       "      <td>全职</td>\n",
       "      <td>['节日礼物', '年底双薪', '定期体检', '七险一金']</td>\n",
       "      <td>物流丨运输,软件开发</td>\n",
       "      <td>10k-15k</td>\n",
       "      <td>500-2000人</td>\n",
       "      <td>['产品设计', '后台', 'B2B']</td>\n",
       "      <td>2020-05-15 15:10:02</td>\n",
       "      <td>北京福佑多多信息技术有限公司</td>\n",
       "      <td>1-3年</td>\n",
       "      <td>本科</td>\n",
       "      <td>福利待遇好、创业黑马、技术氛围好</td>\n",
       "      <td>https://www.lagou.com/jobs/7149613.html</td>\n",
       "      <td>岗位职责1、负责财务相关业务解决方案架构并主导与产品、技术等交付团队的对接，能够从完整的财务...</td>\n",
       "      <td>产品线</td>\n",
       "    </tr>\n",
       "    <tr>\n",
       "      <th>1</th>\n",
       "      <td>4</td>\n",
       "      <td>产品专家</td>\n",
       "      <td>海淀区</td>\n",
       "      <td>中关村</td>\n",
       "      <td>全职</td>\n",
       "      <td>['五险一金', '弹性工作', '带薪年假', '免费两餐']</td>\n",
       "      <td>企业服务</td>\n",
       "      <td>30k-50k</td>\n",
       "      <td>500-2000人</td>\n",
       "      <td>[]</td>\n",
       "      <td>2020-05-16 08:23:06</td>\n",
       "      <td>北京拉勾网络技术有限公司</td>\n",
       "      <td>5-10年</td>\n",
       "      <td>本科</td>\n",
       "      <td>做好产品，给用户用</td>\n",
       "      <td>https://www.lagou.com/jobs/7056930.html</td>\n",
       "      <td>负责具体产品线的工作，完成用户价值。解决具体产品线的问题。产品线有策略、运营、基础产品流程等线</td>\n",
       "      <td>产品线</td>\n",
       "    </tr>\n",
       "    <tr>\n",
       "      <th>2</th>\n",
       "      <td>5</td>\n",
       "      <td>产品总监</td>\n",
       "      <td>海淀区</td>\n",
       "      <td>中关村</td>\n",
       "      <td>全职</td>\n",
       "      <td>['五险一金', '弹性工作', '带薪年假', '免费两餐']</td>\n",
       "      <td>企业服务</td>\n",
       "      <td>40k-75k</td>\n",
       "      <td>500-2000人</td>\n",
       "      <td>[]</td>\n",
       "      <td>2020-05-16 08:23:06</td>\n",
       "      <td>北京拉勾网络技术有限公司</td>\n",
       "      <td>5-10年</td>\n",
       "      <td>本科</td>\n",
       "      <td>做好产品，给用户用</td>\n",
       "      <td>https://www.lagou.com/jobs/6982266.html</td>\n",
       "      <td>做出好产品，服务用户，实现用户价值。B端产品、C端产品、商业策略产品、运营产品等岗位，都有总...</td>\n",
       "      <td>产品线</td>\n",
       "    </tr>\n",
       "    <tr>\n",
       "      <th>3</th>\n",
       "      <td>6</td>\n",
       "      <td>联盟广告产品运营专家/专员-【商业化】</td>\n",
       "      <td>海淀区</td>\n",
       "      <td>东单</td>\n",
       "      <td>全职</td>\n",
       "      <td>['股票期权', '弹性工作', '定期体检', '岗位晋升']</td>\n",
       "      <td>文娱丨内容</td>\n",
       "      <td>20k-40k</td>\n",
       "      <td>2000人以上</td>\n",
       "      <td>['产品运营']</td>\n",
       "      <td>2020-05-15 19:35:13</td>\n",
       "      <td>北京达佳互联信息技术有限公司</td>\n",
       "      <td>5-10年</td>\n",
       "      <td>不限</td>\n",
       "      <td>扁平化管理 免费午餐晚餐下午茶</td>\n",
       "      <td>https://www.lagou.com/jobs/7112346.html</td>\n",
       "      <td>职位描述：1、负责快手联盟竞价广告的落地和运营，提升产品使用率和覆盖率； 2、深度分析广告预...</td>\n",
       "      <td>产品线</td>\n",
       "    </tr>\n",
       "    <tr>\n",
       "      <th>4</th>\n",
       "      <td>7</td>\n",
       "      <td>产品总监</td>\n",
       "      <td>海淀区</td>\n",
       "      <td>中关村</td>\n",
       "      <td>全职</td>\n",
       "      <td>['领导好', '五险一金', '领军企业', '脑力密集型']</td>\n",
       "      <td>移动互联网,社交</td>\n",
       "      <td>20k-38k</td>\n",
       "      <td>15-50人</td>\n",
       "      <td>['电商', '社交电商', '产品策划', '需求分析']</td>\n",
       "      <td>2020-05-16 09:15:16</td>\n",
       "      <td>北京领主科技有限公司</td>\n",
       "      <td>5-10年</td>\n",
       "      <td>本科</td>\n",
       "      <td>发展，创新</td>\n",
       "      <td>https://www.lagou.com/jobs/6864122.html</td>\n",
       "      <td>工作职责:1. 整体负责公司的产品功能规划、优化升级、实施工作； 2. 带领产品团队完成产品...</td>\n",
       "      <td>产品线</td>\n",
       "    </tr>\n",
       "  </tbody>\n",
       "</table>\n",
       "</div>"
      ],
      "text/plain": [
       "   id         positionName district stationname jobNature  \\\n",
       "0   3               财务产品经理      海淀区          上地        全职   \n",
       "1   4                 产品专家      海淀区         中关村        全职   \n",
       "2   5                 产品总监      海淀区         中关村        全职   \n",
       "3   6  联盟广告产品运营专家/专员-【商业化】      海淀区          东单        全职   \n",
       "4   7                 产品总监      海淀区         中关村        全职   \n",
       "\n",
       "                   companyLabelList industryField   salary companySize  \\\n",
       "0  ['节日礼物', '年底双薪', '定期体检', '七险一金']    物流丨运输,软件开发  10k-15k   500-2000人   \n",
       "1  ['五险一金', '弹性工作', '带薪年假', '免费两餐']          企业服务  30k-50k   500-2000人   \n",
       "2  ['五险一金', '弹性工作', '带薪年假', '免费两餐']          企业服务  40k-75k   500-2000人   \n",
       "3  ['股票期权', '弹性工作', '定期体检', '岗位晋升']         文娱丨内容  20k-40k     2000人以上   \n",
       "4  ['领导好', '五险一金', '领军企业', '脑力密集型']      移动互联网,社交  20k-38k      15-50人   \n",
       "\n",
       "                      skillLables           createTime companyFullName  \\\n",
       "0           ['产品设计', '后台', 'B2B']  2020-05-15 15:10:02  北京福佑多多信息技术有限公司   \n",
       "1                              []  2020-05-16 08:23:06    北京拉勾网络技术有限公司   \n",
       "2                              []  2020-05-16 08:23:06    北京拉勾网络技术有限公司   \n",
       "3                        ['产品运营']  2020-05-15 19:35:13  北京达佳互联信息技术有限公司   \n",
       "4  ['电商', '社交电商', '产品策划', '需求分析']  2020-05-16 09:15:16      北京领主科技有限公司   \n",
       "\n",
       "  workYear education positionAdvantage  \\\n",
       "0     1-3年        本科  福利待遇好、创业黑马、技术氛围好   \n",
       "1    5-10年        本科         做好产品，给用户用   \n",
       "2    5-10年        本科         做好产品，给用户用   \n",
       "3    5-10年        不限   扁平化管理 免费午餐晚餐下午茶   \n",
       "4    5-10年        本科             发展，创新   \n",
       "\n",
       "                                       url  \\\n",
       "0  https://www.lagou.com/jobs/7149613.html   \n",
       "1  https://www.lagou.com/jobs/7056930.html   \n",
       "2  https://www.lagou.com/jobs/6982266.html   \n",
       "3  https://www.lagou.com/jobs/7112346.html   \n",
       "4  https://www.lagou.com/jobs/6864122.html   \n",
       "\n",
       "                                              detail type  \n",
       "0  岗位职责1、负责财务相关业务解决方案架构并主导与产品、技术等交付团队的对接，能够从完整的财务...  产品线  \n",
       "1    负责具体产品线的工作，完成用户价值。解决具体产品线的问题。产品线有策略、运营、基础产品流程等线  产品线  \n",
       "2  做出好产品，服务用户，实现用户价值。B端产品、C端产品、商业策略产品、运营产品等岗位，都有总...  产品线  \n",
       "3  职位描述：1、负责快手联盟竞价广告的落地和运营，提升产品使用率和覆盖率； 2、深度分析广告预...  产品线  \n",
       "4  工作职责:1. 整体负责公司的产品功能规划、优化升级、实施工作； 2. 带领产品团队完成产品...  产品线  "
      ]
     },
     "execution_count": 16,
     "metadata": {},
     "output_type": "execute_result"
    }
   ],
   "source": [
    "df_data = pd.read_excel('./jobs_4k.xls')\n",
    "df_data.head()"
   ]
  },
  {
   "cell_type": "code",
   "execution_count": 17,
   "metadata": {},
   "outputs": [],
   "source": [
    "df_data['companyLabelList'] = df_data['companyLabelList'].apply(lambda x: np.nan if x =='[]' else x)\n",
    "df_data['skillLables'] = df_data['skillLables'].apply(lambda x: np.nan if x =='[]' else x)"
   ]
  },
  {
   "cell_type": "code",
   "execution_count": 35,
   "metadata": {},
   "outputs": [],
   "source": [
    "df_data = df_data.dropna(axis=0)"
   ]
  },
  {
   "cell_type": "code",
   "execution_count": 36,
   "metadata": {},
   "outputs": [
    {
     "data": {
      "text/plain": [
       "Int64Index([   0,    3,    4,    6,    7,    8,   10,   11,   12,   14,\n",
       "            ...\n",
       "            4494, 4495, 4496, 4497, 4499, 4500, 4503, 4505, 4506, 4510],\n",
       "           dtype='int64', length=3239)"
      ]
     },
     "execution_count": 36,
     "metadata": {},
     "output_type": "execute_result"
    }
   ],
   "source": [
    "df_data.index"
   ]
  },
  {
   "cell_type": "code",
   "execution_count": 37,
   "metadata": {},
   "outputs": [
    {
     "data": {
      "text/plain": [
       "0       10k-15k\n",
       "3       20k-40k\n",
       "4       20k-38k\n",
       "6       40k-60k\n",
       "7       30k-50k\n",
       "         ...   \n",
       "4500      6k-9k\n",
       "4503    14k-25k\n",
       "4505    20k-40k\n",
       "4506    15k-25k\n",
       "4510    15k-25k\n",
       "Name: salary, Length: 3239, dtype: object"
      ]
     },
     "execution_count": 37,
     "metadata": {},
     "output_type": "execute_result"
    }
   ],
   "source": [
    "df_data['salary']"
   ]
  },
  {
   "cell_type": "markdown",
   "metadata": {},
   "source": [
    "### 特征构造"
   ]
  },
  {
   "cell_type": "markdown",
   "metadata": {},
   "source": [
    "#### tfidf特征向量"
   ]
  },
  {
   "cell_type": "code",
   "execution_count": 38,
   "metadata": {},
   "outputs": [],
   "source": [
    "# tfidf_features = ['positionName', 'industryField', 'skillLables']\n",
    "tfidf_features = ['positionName', 'skillLables']\n",
    "\n",
    "def re_string(string):\n",
    "    string = re.sub('[丨\\[\\]\\',-/【】（）()—; ]', '', string)\n",
    "    string = re.sub('&nbsp', '',string)\n",
    "    return string\n",
    "    \n",
    "def df_to_str(df_loc):\n",
    "    string = ''\n",
    "    for i in range(len(df_loc)):\n",
    "        string += df_loc.iloc[i]\n",
    "    return re_string(string)\n",
    "\n",
    "string_list = []\n",
    "for i in range(len(df_data[tfidf_features])):\n",
    "    string_list.append(df_to_str(df_data[tfidf_features].iloc[i,:]))\n",
    "    \n",
    "tfidf = TfidfVectorizer(max_features=300)\n",
    "str_features_vec = tfidf.fit_transform(string_list).toarray()"
   ]
  },
  {
   "cell_type": "code",
   "execution_count": 39,
   "metadata": {},
   "outputs": [
    {
     "data": {
      "text/plain": [
       "(3239, 300)"
      ]
     },
     "execution_count": 39,
     "metadata": {},
     "output_type": "execute_result"
    }
   ],
   "source": [
    "str_features_vec.shape"
   ]
  },
  {
   "cell_type": "markdown",
   "metadata": {},
   "source": [
    "#### 独热特征构造"
   ]
  },
  {
   "cell_type": "code",
   "execution_count": 43,
   "metadata": {},
   "outputs": [
    {
     "name": "stderr",
     "output_type": "stream",
     "text": [
      "<ipython-input-43-bd0534df1a9b>:4: SettingWithCopyWarning: \n",
      "A value is trying to be set on a copy of a slice from a DataFrame.\n",
      "Try using .loc[row_indexer,col_indexer] = value instead\n",
      "\n",
      "See the caveats in the documentation: https://pandas.pydata.org/pandas-docs/stable/user_guide/indexing.html#returning-a-view-versus-a-copy\n",
      "  df_data['district'] = df_data['district'].apply(\n",
      "<ipython-input-43-bd0534df1a9b>:10: SettingWithCopyWarning: \n",
      "A value is trying to be set on a copy of a slice from a DataFrame.\n",
      "Try using .loc[row_indexer,col_indexer] = value instead\n",
      "\n",
      "See the caveats in the documentation: https://pandas.pydata.org/pandas-docs/stable/user_guide/indexing.html#returning-a-view-versus-a-copy\n",
      "  df_data['stationname'] = df_data['stationname'].apply(\n"
     ]
    }
   ],
   "source": [
    "one_hot_features = ['district', 'stationname', 'jobNature', 'education']\n",
    "\n",
    "# district字段处理\n",
    "df_data['district'] = df_data['district'].apply(\n",
    "    lambda x: x if x in ['海淀区', '朝阳区', '东城区', '西城区', '昌平区'] else '其他')\n",
    "\n",
    "# stationname字段处理\n",
    "save_value_list = df_data['stationname'].value_counts()[df_data['stationname'].value_counts() >= 100].index.tolist()\n",
    "save_value_list = [x for x in save_value_list if x != 'None']\n",
    "df_data['stationname'] = df_data['stationname'].apply(\n",
    "    lambda x: x if x in save_value_list else '其他')\n",
    "\n",
    "# 合并onehot列\n",
    "df_one_hot = pd.DataFrame([],index=[x for x in df_data.index.tolist()])\n",
    "for column in one_hot_features:\n",
    "    df_column_hot = pd.get_dummies(df_data[column], prefix=column)\n",
    "    df_one_hot = pd.concat([df_one_hot, df_column_hot], axis=1)"
   ]
  },
  {
   "cell_type": "code",
   "execution_count": 47,
   "metadata": {},
   "outputs": [
    {
     "data": {
      "text/html": [
       "<div>\n",
       "<style scoped>\n",
       "    .dataframe tbody tr th:only-of-type {\n",
       "        vertical-align: middle;\n",
       "    }\n",
       "\n",
       "    .dataframe tbody tr th {\n",
       "        vertical-align: top;\n",
       "    }\n",
       "\n",
       "    .dataframe thead th {\n",
       "        text-align: right;\n",
       "    }\n",
       "</style>\n",
       "<table border=\"1\" class=\"dataframe\">\n",
       "  <thead>\n",
       "    <tr style=\"text-align: right;\">\n",
       "      <th></th>\n",
       "      <th>district_东城区</th>\n",
       "      <th>district_其他</th>\n",
       "      <th>district_昌平区</th>\n",
       "      <th>district_朝阳区</th>\n",
       "      <th>district_海淀区</th>\n",
       "      <th>district_西城区</th>\n",
       "      <th>stationname_东湖渠</th>\n",
       "      <th>stationname_中关村</th>\n",
       "      <th>stationname_其他</th>\n",
       "      <th>stationname_国贸</th>\n",
       "      <th>...</th>\n",
       "      <th>stationname_知春路</th>\n",
       "      <th>stationname_知春里</th>\n",
       "      <th>stationname_西二旗</th>\n",
       "      <th>jobNature_全职</th>\n",
       "      <th>jobNature_兼职</th>\n",
       "      <th>jobNature_实习</th>\n",
       "      <th>education_不限</th>\n",
       "      <th>education_大专</th>\n",
       "      <th>education_本科</th>\n",
       "      <th>education_硕士</th>\n",
       "    </tr>\n",
       "  </thead>\n",
       "  <tbody>\n",
       "    <tr>\n",
       "      <th>0</th>\n",
       "      <td>0</td>\n",
       "      <td>0</td>\n",
       "      <td>0</td>\n",
       "      <td>0</td>\n",
       "      <td>1</td>\n",
       "      <td>0</td>\n",
       "      <td>0</td>\n",
       "      <td>0</td>\n",
       "      <td>1</td>\n",
       "      <td>0</td>\n",
       "      <td>...</td>\n",
       "      <td>0</td>\n",
       "      <td>0</td>\n",
       "      <td>0</td>\n",
       "      <td>1</td>\n",
       "      <td>0</td>\n",
       "      <td>0</td>\n",
       "      <td>0</td>\n",
       "      <td>0</td>\n",
       "      <td>1</td>\n",
       "      <td>0</td>\n",
       "    </tr>\n",
       "    <tr>\n",
       "      <th>3</th>\n",
       "      <td>0</td>\n",
       "      <td>0</td>\n",
       "      <td>0</td>\n",
       "      <td>0</td>\n",
       "      <td>1</td>\n",
       "      <td>0</td>\n",
       "      <td>0</td>\n",
       "      <td>0</td>\n",
       "      <td>1</td>\n",
       "      <td>0</td>\n",
       "      <td>...</td>\n",
       "      <td>0</td>\n",
       "      <td>0</td>\n",
       "      <td>0</td>\n",
       "      <td>1</td>\n",
       "      <td>0</td>\n",
       "      <td>0</td>\n",
       "      <td>1</td>\n",
       "      <td>0</td>\n",
       "      <td>0</td>\n",
       "      <td>0</td>\n",
       "    </tr>\n",
       "    <tr>\n",
       "      <th>4</th>\n",
       "      <td>0</td>\n",
       "      <td>0</td>\n",
       "      <td>0</td>\n",
       "      <td>0</td>\n",
       "      <td>1</td>\n",
       "      <td>0</td>\n",
       "      <td>0</td>\n",
       "      <td>1</td>\n",
       "      <td>0</td>\n",
       "      <td>0</td>\n",
       "      <td>...</td>\n",
       "      <td>0</td>\n",
       "      <td>0</td>\n",
       "      <td>0</td>\n",
       "      <td>1</td>\n",
       "      <td>0</td>\n",
       "      <td>0</td>\n",
       "      <td>0</td>\n",
       "      <td>0</td>\n",
       "      <td>1</td>\n",
       "      <td>0</td>\n",
       "    </tr>\n",
       "    <tr>\n",
       "      <th>6</th>\n",
       "      <td>0</td>\n",
       "      <td>0</td>\n",
       "      <td>0</td>\n",
       "      <td>0</td>\n",
       "      <td>1</td>\n",
       "      <td>0</td>\n",
       "      <td>0</td>\n",
       "      <td>0</td>\n",
       "      <td>0</td>\n",
       "      <td>0</td>\n",
       "      <td>...</td>\n",
       "      <td>1</td>\n",
       "      <td>0</td>\n",
       "      <td>0</td>\n",
       "      <td>1</td>\n",
       "      <td>0</td>\n",
       "      <td>0</td>\n",
       "      <td>0</td>\n",
       "      <td>0</td>\n",
       "      <td>1</td>\n",
       "      <td>0</td>\n",
       "    </tr>\n",
       "    <tr>\n",
       "      <th>7</th>\n",
       "      <td>0</td>\n",
       "      <td>0</td>\n",
       "      <td>0</td>\n",
       "      <td>1</td>\n",
       "      <td>0</td>\n",
       "      <td>0</td>\n",
       "      <td>0</td>\n",
       "      <td>0</td>\n",
       "      <td>0</td>\n",
       "      <td>1</td>\n",
       "      <td>...</td>\n",
       "      <td>0</td>\n",
       "      <td>0</td>\n",
       "      <td>0</td>\n",
       "      <td>1</td>\n",
       "      <td>0</td>\n",
       "      <td>0</td>\n",
       "      <td>0</td>\n",
       "      <td>0</td>\n",
       "      <td>1</td>\n",
       "      <td>0</td>\n",
       "    </tr>\n",
       "    <tr>\n",
       "      <th>...</th>\n",
       "      <td>...</td>\n",
       "      <td>...</td>\n",
       "      <td>...</td>\n",
       "      <td>...</td>\n",
       "      <td>...</td>\n",
       "      <td>...</td>\n",
       "      <td>...</td>\n",
       "      <td>...</td>\n",
       "      <td>...</td>\n",
       "      <td>...</td>\n",
       "      <td>...</td>\n",
       "      <td>...</td>\n",
       "      <td>...</td>\n",
       "      <td>...</td>\n",
       "      <td>...</td>\n",
       "      <td>...</td>\n",
       "      <td>...</td>\n",
       "      <td>...</td>\n",
       "      <td>...</td>\n",
       "      <td>...</td>\n",
       "      <td>...</td>\n",
       "    </tr>\n",
       "    <tr>\n",
       "      <th>4500</th>\n",
       "      <td>0</td>\n",
       "      <td>0</td>\n",
       "      <td>0</td>\n",
       "      <td>1</td>\n",
       "      <td>0</td>\n",
       "      <td>0</td>\n",
       "      <td>0</td>\n",
       "      <td>0</td>\n",
       "      <td>1</td>\n",
       "      <td>0</td>\n",
       "      <td>...</td>\n",
       "      <td>0</td>\n",
       "      <td>0</td>\n",
       "      <td>0</td>\n",
       "      <td>1</td>\n",
       "      <td>0</td>\n",
       "      <td>0</td>\n",
       "      <td>0</td>\n",
       "      <td>0</td>\n",
       "      <td>1</td>\n",
       "      <td>0</td>\n",
       "    </tr>\n",
       "    <tr>\n",
       "      <th>4503</th>\n",
       "      <td>0</td>\n",
       "      <td>0</td>\n",
       "      <td>0</td>\n",
       "      <td>0</td>\n",
       "      <td>1</td>\n",
       "      <td>0</td>\n",
       "      <td>0</td>\n",
       "      <td>0</td>\n",
       "      <td>0</td>\n",
       "      <td>0</td>\n",
       "      <td>...</td>\n",
       "      <td>1</td>\n",
       "      <td>0</td>\n",
       "      <td>0</td>\n",
       "      <td>1</td>\n",
       "      <td>0</td>\n",
       "      <td>0</td>\n",
       "      <td>0</td>\n",
       "      <td>1</td>\n",
       "      <td>0</td>\n",
       "      <td>0</td>\n",
       "    </tr>\n",
       "    <tr>\n",
       "      <th>4505</th>\n",
       "      <td>0</td>\n",
       "      <td>0</td>\n",
       "      <td>0</td>\n",
       "      <td>0</td>\n",
       "      <td>1</td>\n",
       "      <td>0</td>\n",
       "      <td>0</td>\n",
       "      <td>1</td>\n",
       "      <td>0</td>\n",
       "      <td>0</td>\n",
       "      <td>...</td>\n",
       "      <td>0</td>\n",
       "      <td>0</td>\n",
       "      <td>0</td>\n",
       "      <td>1</td>\n",
       "      <td>0</td>\n",
       "      <td>0</td>\n",
       "      <td>0</td>\n",
       "      <td>0</td>\n",
       "      <td>1</td>\n",
       "      <td>0</td>\n",
       "    </tr>\n",
       "    <tr>\n",
       "      <th>4506</th>\n",
       "      <td>0</td>\n",
       "      <td>0</td>\n",
       "      <td>0</td>\n",
       "      <td>1</td>\n",
       "      <td>0</td>\n",
       "      <td>0</td>\n",
       "      <td>0</td>\n",
       "      <td>0</td>\n",
       "      <td>1</td>\n",
       "      <td>0</td>\n",
       "      <td>...</td>\n",
       "      <td>0</td>\n",
       "      <td>0</td>\n",
       "      <td>0</td>\n",
       "      <td>1</td>\n",
       "      <td>0</td>\n",
       "      <td>0</td>\n",
       "      <td>0</td>\n",
       "      <td>0</td>\n",
       "      <td>1</td>\n",
       "      <td>0</td>\n",
       "    </tr>\n",
       "    <tr>\n",
       "      <th>4510</th>\n",
       "      <td>1</td>\n",
       "      <td>0</td>\n",
       "      <td>0</td>\n",
       "      <td>0</td>\n",
       "      <td>0</td>\n",
       "      <td>0</td>\n",
       "      <td>0</td>\n",
       "      <td>0</td>\n",
       "      <td>1</td>\n",
       "      <td>0</td>\n",
       "      <td>...</td>\n",
       "      <td>0</td>\n",
       "      <td>0</td>\n",
       "      <td>0</td>\n",
       "      <td>1</td>\n",
       "      <td>0</td>\n",
       "      <td>0</td>\n",
       "      <td>0</td>\n",
       "      <td>0</td>\n",
       "      <td>1</td>\n",
       "      <td>0</td>\n",
       "    </tr>\n",
       "  </tbody>\n",
       "</table>\n",
       "<p>3239 rows × 21 columns</p>\n",
       "</div>"
      ],
      "text/plain": [
       "      district_东城区  district_其他  district_昌平区  district_朝阳区  district_海淀区  \\\n",
       "0                0            0             0             0             1   \n",
       "3                0            0             0             0             1   \n",
       "4                0            0             0             0             1   \n",
       "6                0            0             0             0             1   \n",
       "7                0            0             0             1             0   \n",
       "...            ...          ...           ...           ...           ...   \n",
       "4500             0            0             0             1             0   \n",
       "4503             0            0             0             0             1   \n",
       "4505             0            0             0             0             1   \n",
       "4506             0            0             0             1             0   \n",
       "4510             1            0             0             0             0   \n",
       "\n",
       "      district_西城区  stationname_东湖渠  stationname_中关村  stationname_其他  \\\n",
       "0                0                0                0               1   \n",
       "3                0                0                0               1   \n",
       "4                0                0                1               0   \n",
       "6                0                0                0               0   \n",
       "7                0                0                0               0   \n",
       "...            ...              ...              ...             ...   \n",
       "4500             0                0                0               1   \n",
       "4503             0                0                0               0   \n",
       "4505             0                0                1               0   \n",
       "4506             0                0                0               1   \n",
       "4510             0                0                0               1   \n",
       "\n",
       "      stationname_国贸  ...  stationname_知春路  stationname_知春里  stationname_西二旗  \\\n",
       "0                  0  ...                0                0                0   \n",
       "3                  0  ...                0                0                0   \n",
       "4                  0  ...                0                0                0   \n",
       "6                  0  ...                1                0                0   \n",
       "7                  1  ...                0                0                0   \n",
       "...              ...  ...              ...              ...              ...   \n",
       "4500               0  ...                0                0                0   \n",
       "4503               0  ...                1                0                0   \n",
       "4505               0  ...                0                0                0   \n",
       "4506               0  ...                0                0                0   \n",
       "4510               0  ...                0                0                0   \n",
       "\n",
       "      jobNature_全职  jobNature_兼职  jobNature_实习  education_不限  education_大专  \\\n",
       "0                1             0             0             0             0   \n",
       "3                1             0             0             1             0   \n",
       "4                1             0             0             0             0   \n",
       "6                1             0             0             0             0   \n",
       "7                1             0             0             0             0   \n",
       "...            ...           ...           ...           ...           ...   \n",
       "4500             1             0             0             0             0   \n",
       "4503             1             0             0             0             1   \n",
       "4505             1             0             0             0             0   \n",
       "4506             1             0             0             0             0   \n",
       "4510             1             0             0             0             0   \n",
       "\n",
       "      education_本科  education_硕士  \n",
       "0                1             0  \n",
       "3                0             0  \n",
       "4                1             0  \n",
       "6                1             0  \n",
       "7                1             0  \n",
       "...            ...           ...  \n",
       "4500             1             0  \n",
       "4503             0             0  \n",
       "4505             1             0  \n",
       "4506             1             0  \n",
       "4510             1             0  \n",
       "\n",
       "[3239 rows x 21 columns]"
      ]
     },
     "execution_count": 47,
     "metadata": {},
     "output_type": "execute_result"
    }
   ],
   "source": [
    "df_one_hot"
   ]
  },
  {
   "cell_type": "markdown",
   "metadata": {},
   "source": [
    "#### 合并特征"
   ]
  },
  {
   "cell_type": "code",
   "execution_count": 48,
   "metadata": {},
   "outputs": [
    {
     "data": {
      "text/plain": [
       "(3239, 321)"
      ]
     },
     "execution_count": 48,
     "metadata": {},
     "output_type": "execute_result"
    }
   ],
   "source": [
    "features = np.concatenate((str_features_vec, df_one_hot.values), axis=1)\n",
    "s_1 = StandardScaler()\n",
    "features = s_1.fit_transform(features)\n",
    "features.shape"
   ]
  },
  {
   "cell_type": "markdown",
   "metadata": {},
   "source": [
    "### 标签处理"
   ]
  },
  {
   "cell_type": "code",
   "execution_count": 49,
   "metadata": {},
   "outputs": [
    {
     "data": {
      "text/plain": [
       "(3239,)"
      ]
     },
     "execution_count": 49,
     "metadata": {},
     "output_type": "execute_result"
    }
   ],
   "source": [
    "def object_to_mean(string):\n",
    "    result = re.findall('\\d{1,3}', string)\n",
    "    result = np.array([int(x) for x in result])\n",
    "    return result.mean()\n",
    "\n",
    "labels = df_data['salary'].apply(object_to_mean).values\n",
    "labels.shape"
   ]
  },
  {
   "cell_type": "markdown",
   "metadata": {},
   "source": [
    "### 拆分数据集"
   ]
  },
  {
   "cell_type": "code",
   "execution_count": 50,
   "metadata": {},
   "outputs": [],
   "source": [
    "train_features, test_features, train_labels, test_labels = train_test_split(features, labels, test_size=0.3, random_state=42)"
   ]
  },
  {
   "cell_type": "markdown",
   "metadata": {},
   "source": [
    "### 模型训练"
   ]
  },
  {
   "cell_type": "code",
   "execution_count": 51,
   "metadata": {},
   "outputs": [
    {
     "name": "stdout",
     "output_type": "stream",
     "text": [
      "knn -7.341363013099164\n",
      "svr -6.943439967903539\n",
      "ram -6.543298671785109\n",
      "tree -6.371421206331834\n"
     ]
    }
   ],
   "source": [
    "models = {'knn': KNeighborsRegressor(n_neighbors=5), \n",
    "          'svr': SVR(),\n",
    "          'ram': RandomForestRegressor(), \n",
    "          'tree': DecisionTreeRegressor(),\n",
    "         }\n",
    "for model in models:\n",
    "    score = cross_val_score(models[model], train_features, train_labels, cv=5, scoring='neg_mean_absolute_error')\n",
    "    print(model, score.mean())"
   ]
  },
  {
   "cell_type": "code",
   "execution_count": 53,
   "metadata": {},
   "outputs": [],
   "source": [
    "parameter = {\n",
    "    'splitter': ['best', 'random'],\n",
    "    'max_depth': [100, 200, 300, None],\n",
    "    'min_samples_split': [2,3,4,5,6],\n",
    "    'min_samples_leaf': [1,3,4,5,6]\n",
    "}\n",
    "tree = DecisionTreeRegressor()\n",
    "clf = GridSearchCV(estimator=tree, param_grid=parameter, cv=3, scoring='neg_mean_absolute_error')\n",
    "clf.fit(train_features, train_labels)\n",
    "best_score = clf.best_score_\n",
    "best_params = clf.best_params_ "
   ]
  },
  {
   "cell_type": "code",
   "execution_count": 54,
   "metadata": {},
   "outputs": [
    {
     "data": {
      "text/plain": [
       "{'max_depth': 300,\n",
       " 'min_samples_leaf': 1,\n",
       " 'min_samples_split': 2,\n",
       " 'splitter': 'best'}"
      ]
     },
     "execution_count": 54,
     "metadata": {},
     "output_type": "execute_result"
    }
   ],
   "source": [
    "best_params"
   ]
  },
  {
   "cell_type": "code",
   "execution_count": 55,
   "metadata": {},
   "outputs": [
    {
     "data": {
      "text/plain": [
       "5.910821655936333"
      ]
     },
     "execution_count": 55,
     "metadata": {},
     "output_type": "execute_result"
    }
   ],
   "source": [
    "tree_finall = DecisionTreeRegressor(max_depth=300,min_samples_leaf=1,min_samples_split=2,splitter='random')\n",
    "tree_finall.fit(train_features, train_labels)\n",
    "predict = tree_finall.predict(test_features)\n",
    "mean_absolute_error(test_labels, predict)"
   ]
  },
  {
   "cell_type": "code",
   "execution_count": null,
   "metadata": {},
   "outputs": [],
   "source": []
  },
  {
   "cell_type": "code",
   "execution_count": null,
   "metadata": {},
   "outputs": [],
   "source": []
  },
  {
   "cell_type": "code",
   "execution_count": null,
   "metadata": {},
   "outputs": [],
   "source": []
  }
 ],
 "metadata": {
  "hide_input": false,
  "kernelspec": {
   "display_name": "Python 3",
   "language": "python",
   "name": "python3"
  },
  "language_info": {
   "codemirror_mode": {
    "name": "ipython",
    "version": 3
   },
   "file_extension": ".py",
   "mimetype": "text/x-python",
   "name": "python",
   "nbconvert_exporter": "python",
   "pygments_lexer": "ipython3",
   "version": "3.8.1"
  },
  "toc": {
   "base_numbering": 1,
   "nav_menu": {},
   "number_sections": true,
   "sideBar": true,
   "skip_h1_title": false,
   "title_cell": "Table of Contents",
   "title_sidebar": "Contents",
   "toc_cell": false,
   "toc_position": {
    "height": "calc(100% - 180px)",
    "left": "10px",
    "top": "150px",
    "width": "216px"
   },
   "toc_section_display": true,
   "toc_window_display": true
  },
  "varInspector": {
   "cols": {
    "lenName": 16,
    "lenType": 16,
    "lenVar": 40
   },
   "kernels_config": {
    "python": {
     "delete_cmd_postfix": "",
     "delete_cmd_prefix": "del ",
     "library": "var_list.py",
     "varRefreshCmd": "print(var_dic_list())"
    },
    "r": {
     "delete_cmd_postfix": ") ",
     "delete_cmd_prefix": "rm(",
     "library": "var_list.r",
     "varRefreshCmd": "cat(var_dic_list()) "
    }
   },
   "types_to_exclude": [
    "module",
    "function",
    "builtin_function_or_method",
    "instance",
    "_Feature"
   ],
   "window_display": false
  }
 },
 "nbformat": 4,
 "nbformat_minor": 4
}
